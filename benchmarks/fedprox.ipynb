{
 "cells": [
  {
   "cell_type": "markdown",
   "metadata": {},
   "source": [
    "# FEDPROX BENCHMARKS"
   ]
  },
  {
   "cell_type": "markdown",
   "metadata": {},
   "source": [
    "We try to reproduce the results of the paper [Federated Optimization in Heterogeneous Networks](https://openreview.net/pdf?id=SkgwE5Ss3N) on the MNIST dataset. The paper introduces a new algorithm called FedProx, which is a Federated Averaging algorithm with a proximal term added to the loss function to encourage the local models to be close to each other. The algorithm is tested on the MNIST dataset with a [MNIST_LR](../fluke/nets.py:549)(a simple logistic regression model). The paper shows that FedProx outperforms FedAvg in terms of convergence speed and accuracy."
   ]
  },
  {
   "cell_type": "markdown",
   "metadata": {},
   "source": [
    "## Setup of the experiment"
   ]
  },
  {
   "cell_type": "markdown",
   "metadata": {},
   "source": [
    "### Loading and splitting the dataset"
   ]
  },
  {
   "cell_type": "code",
   "execution_count": null,
   "metadata": {},
   "outputs": [],
   "source": [
    "from fluke.data.datasets import Datasets\n",
    "dataset = Datasets.get(\"mnist\", path=\"../data\", channel_dim=1)  #by default we use the data folder that will be created upon the first run, \n",
    "                                                                #the get method will create another folder if the selected dataset is not present"
   ]
  },
  {
   "cell_type": "code",
   "execution_count": null,
   "metadata": {},
   "outputs": [],
   "source": [
    "from fluke.data import DataSplitter\n",
    "splitter = DataSplitter(dataset=dataset,\n",
    "                        distribution=\"iid\",\n",
    "                        client_split=0.03,\n",
    "                        sampling_perc=1) #fedprox works best with a non-iid distribution but this can be achieved by reducing the batch size and \n",
    "                                            #increasing the number of clients and eligible clients, \n",
    "                                            # the experiment calls for 2 digits per client and that equals to 0.03 of the dataset"
   ]
  },
  {
   "cell_type": "markdown",
   "metadata": {},
   "source": [
    "### Setting up the evaluator"
   ]
  },
  {
   "cell_type": "code",
   "execution_count": null,
   "metadata": {},
   "outputs": [],
   "source": [
    "from fluke.evaluation import ClassificationEval, Evaluator\n",
    "from fluke import GlobalSettings\n",
    "\n",
    "evaluator = ClassificationEval(1,n_classes=dataset.num_classes)\n",
    "GlobalSettings().set_evaluator(evaluator)\n",
    "GlobalSettings().set_device(\"cuda\")"
   ]
  },
  {
   "cell_type": "markdown",
   "metadata": {},
   "source": [
    "### Setting up the hyperparameters and the model"
   ]
  },
  {
   "cell_type": "code",
   "execution_count": null,
   "metadata": {},
   "outputs": [],
   "source": [
    "from fluke import DDict\n",
    "# We set up the hyperparameters according to the paper's description\n",
    "client_hp = DDict(\n",
    "    batch_size=10,\n",
    "    local_epochs=50,\n",
    "    loss=\"CrossEntropyLoss\",\n",
    "    mu=1,#overall best obtained from grid search \n",
    "    optimizer=DDict(\n",
    "      lr=0.03),\n",
    "    scheduler=DDict(\n",
    "      gamma=1,\n",
    "      step_size=1)\n",
    ")\n",
    "\n",
    "alg_hp = DDict(\n",
    "    client = client_hp,\n",
    "    server=DDict(weighted=True),\n",
    "    model=\"MNIST_LR\")"
   ]
  },
  {
   "cell_type": "code",
   "execution_count": null,
   "metadata": {},
   "outputs": [],
   "source": [
    "from fluke.algorithms.fedprox import FedProx\n",
    "algorithm = FedProx(1000, splitter, alg_hp)"
   ]
  },
  {
   "cell_type": "markdown",
   "metadata": {},
   "source": [
    "### Setting up the logger"
   ]
  },
  {
   "cell_type": "code",
   "execution_count": null,
   "metadata": {},
   "outputs": [],
   "source": [
    "from fluke.utils.log import Log\n",
    "logger = Log()\n",
    "algorithm.set_callbacks(logger)"
   ]
  },
  {
   "cell_type": "markdown",
   "metadata": {},
   "source": [
    "## Running the experiment"
   ]
  },
  {
   "cell_type": "code",
   "execution_count": null,
   "metadata": {
    "tags": [
     "Ingore Execution"
    ]
   },
   "outputs": [],
   "source": [
    "algorithm.run(400, 0.01)"
   ]
  },
  {
   "cell_type": "markdown",
   "metadata": {},
   "source": [
    "We have a global target accuracy of ~0.85, our implementation of FedProx achieves a final accuracy of 0.90"
   ]
  }
 ],
 "metadata": {
  "kernelspec": {
   "display_name": "venv",
   "language": "python",
   "name": "python3"
  },
  "language_info": {
   "codemirror_mode": {
    "name": "ipython",
    "version": 3
   },
   "file_extension": ".py",
   "mimetype": "text/x-python",
   "name": "python",
   "nbconvert_exporter": "python",
   "pygments_lexer": "ipython3",
   "version": "3.10.12"
  }
 },
 "nbformat": 4,
 "nbformat_minor": 2
}
