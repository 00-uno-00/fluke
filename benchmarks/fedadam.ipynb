{
 "cells": [
  {
   "cell_type": "code",
   "execution_count": null,
   "metadata": {},
   "outputs": [],
   "source": [
    "import sys\n",
    "import os\n",
    "\n",
    "from fluke.data.datasets import Datasets\n",
    "import torch\n",
    "import rich\n",
    "import random\n",
    "import torchvision\n",
    "from fluke import DDict\n",
    "from torchvision.transforms import v2\n",
    "transforms_train = v2.Compose([\n",
    "    v2.RandomResizedCrop(size=(24, 24), antialias=True),\n",
    "    v2.RandomHorizontalFlip(p=random.uniform(0, 1)),\n",
    "    v2.ToImage(),\n",
    "    v2.ToDtype(torch.float32, scale=True),\n",
    "    v2.Normalize(mean=[0.49139968, 0.48215827 ,0.44653124], std=[0.24703233, 0.24348505, 0.26158768]),\n",
    "])\n",
    "transforms_test = v2.Compose([\n",
    "    v2.CenterCrop(size=(24, 24)),\n",
    "    v2.ToImage(),\n",
    "    v2.ToDtype(torch.float32, scale=True),\n",
    "    v2.Normalize(mean=[0.49139968, 0.48215827 ,0.44653124], std=[0.24703233, 0.24348505, 0.26158768]),\n",
    "])\n",
    "dataset = Datasets.get(\"cifar10\", path=\"../data\", transforms=transforms_train)"
   ]
  },
  {
   "cell_type": "code",
   "execution_count": 2,
   "metadata": {},
   "outputs": [],
   "source": [
    "from fluke.data import DataSplitter\n",
    "data_splitter = DataSplitter(dataset=dataset,\n",
    "                        distribution=\"dir\", dist_args=DDict(beta=0.1, balanced=False))"
   ]
  },
  {
   "cell_type": "code",
   "execution_count": 3,
   "metadata": {},
   "outputs": [],
   "source": [
    "from fluke import GlobalSettings  # NOQA\n",
    "from fluke.data import DataSplitter, FastDataLoader  # NOQA\n",
    "from fluke.data.datasets import Datasets  # NOQA\n",
    "from fluke.evaluation import ClassificationEval  # NOQA\n",
    "from fluke.utils import (Configuration, OptimizerConfigurator,  # NOQA\n",
    "                    get_class_from_qualified_name, get_loss, get_model)\n",
    "from fluke.utils.log import get_logger  # NOQA\n",
    "\n",
    "evaluator = ClassificationEval(eval_every=1, n_classes=dataset.num_classes)\n",
    "GlobalSettings().set_evaluator(evaluator)"
   ]
  },
  {
   "cell_type": "code",
   "execution_count": null,
   "metadata": {},
   "outputs": [],
   "source": [
    "from fluke.algorithms.fedopt import FedOpt\n",
    "from fluke.utils import Configuration\n",
    "from rich.panel import Panel\n",
    "from rich.pretty import Pretty\n",
    "from rich.progress import track\n",
    "\n",
    "cfg = Configuration(\"../configs/exp_adam.yaml\", \"../configs/fedadam.yaml\")\n",
    "\n",
    "seed = cfg.exp.seed\n",
    "GlobalSettings().set_seed(cfg.exp.seed)\n",
    "GlobalSettings().set_device(cfg.exp.device)\n",
    "GlobalSettings().set_eval_cfg(cfg.eval)\n",
    "\n",
    "fl_algo_class = get_class_from_qualified_name(cfg.method.name)\n",
    "fl_algo = fl_algo_class(cfg.protocol.n_clients,\n",
    "                            data_splitter,\n",
    "                            cfg.method.hyperparameters)\n",
    "\n",
    "log = get_logger(cfg.logger.name, name=str(cfg), **cfg.logger.exclude('name'))\n",
    "log.init(**cfg)\n",
    "fl_algo.set_callbacks(log)\n",
    "rich.print(Panel(Pretty(fl_algo), title=\"FL algorithm\"))\n",
    "\n",
    "fl_algo.run(cfg.protocol.n_rounds, cfg.protocol.eligible_perc)"
   ]
  }
 ],
 "metadata": {
  "kernelspec": {
   "display_name": "venv",
   "language": "python",
   "name": "python3"
  },
  "language_info": {
   "codemirror_mode": {
    "name": "ipython",
    "version": 3
   },
   "file_extension": ".py",
   "mimetype": "text/x-python",
   "name": "python",
   "nbconvert_exporter": "python",
   "pygments_lexer": "ipython3",
   "version": "3.10.12"
  }
 },
 "nbformat": 4,
 "nbformat_minor": 2
}
