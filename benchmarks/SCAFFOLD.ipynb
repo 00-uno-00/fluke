{
 "cells": [
  {
   "cell_type": "markdown",
   "metadata": {},
   "source": [
    "# SCAFFOLD Benchmark"
   ]
  },
  {
   "cell_type": "markdown",
   "metadata": {},
   "source": [
    "We try to reproduce the results of the paper [SCAFFOLD: Stochastic Controlled Averaging for Federated Learning](10.48550/arXiv.1910.06378) on the EMNIST dataset. The paper introduces SCAFFOLD, this algorithm corrects the estimated drift of the clients by calculating the difference between the global and the local control variates. The algorithm is tested on the EMNIST dataset with [SCAFFOLD_2FC](../fluke/nets.py:1261)(a 2 layer MLP). The paper measures SCAFFOLD's performance of differences in convergence speed."
   ]
  },
  {
   "cell_type": "markdown",
   "metadata": {},
   "source": [
    "## Setup"
   ]
  },
  {
   "cell_type": "markdown",
   "metadata": {},
   "source": [
    "### Loading and Splitting the dataset"
   ]
  },
  {
   "cell_type": "code",
   "execution_count": null,
   "metadata": {},
   "outputs": [],
   "source": [
    "from fluke.data.datasets import Datasets\n",
    "\n",
    "dataset = Datasets.get(\"emnist\", path=\"../data\")"
   ]
  },
  {
   "cell_type": "code",
   "execution_count": null,
   "metadata": {},
   "outputs": [],
   "source": [
    "from fluke.data import DataSplitter\n",
    "from fluke.data import DDict\n",
    "\n",
    "data = DDict( dataset=dataset,\n",
    "              distribution=\"iid\",\n",
    "              sampling_perc=1,\n",
    "              client_split=0.2,\n",
    "              keep_test=True,\n",
    "              server_test=True,\n",
    "              server_split=0.0,\n",
    "              uniform_test=True)\n",
    "\n",
    "splitter = DataSplitter(**data)"
   ]
  },
  {
   "cell_type": "markdown",
   "metadata": {},
   "source": [
    "### Setting up the evaluator"
   ]
  },
  {
   "cell_type": "code",
   "execution_count": null,
   "metadata": {},
   "outputs": [],
   "source": [
    "from fluke.evaluation import ClassificationEval, Evaluator\n",
    "from fluke import GlobalSettings\n",
    "\n",
    "evaluator = ClassificationEval(1, n_classes=dataset.num_classes)\n",
    "GlobalSettings().set_evaluator(evaluator)\n",
    "#GlobalSettings().set_device(\"cuda\")"
   ]
  },
  {
   "cell_type": "markdown",
   "metadata": {},
   "source": [
    "### Defining the model"
   ]
  },
  {
   "cell_type": "code",
   "execution_count": null,
   "metadata": {},
   "outputs": [],
   "source": [
    "import torch\n",
    "import torch.nn as nn\n",
    "from torch.functional import F\n",
    "from fluke.nets import EncoderHeadNet\n",
    "\n",
    "class Scaffold_2FC_E(nn.Module):\n",
    "    \"\"\"Encoder for the :class:`Scaffold_2FC` network.\n",
    "    \n",
    "    See Also:\n",
    "        - :class:`Scaffold_2FC`\n",
    "        - :class:`Scaffold_2FC_D`\n",
    "    \"\"\"\n",
    "    def __init__(self):\n",
    "        super(Scaffold_2FC_E , self).__init__()\n",
    "        self.output_size = 512\n",
    "        self.fc1 = nn.Linear(28*28, 1024)\n",
    "        self.relu = nn.ReLU()\n",
    "        self.fc2 = nn.Linear(1024, 512)\n",
    "    \n",
    "    def forward(self, x: torch.Tensor) -> torch.Tensor:\n",
    "        x = x.view(-1, 28*28)\n",
    "        x = self.fc1(x)\n",
    "        x = self.relu(x)\n",
    "        x = self.fc2(x)\n",
    "        return x\n",
    "    \n",
    "class Scaffold_2FC_D(nn.Module):\n",
    "    \"\"\"Head for the :class:`Scaffold_2FC` network.\n",
    "    \n",
    "    See Also:\n",
    "        - :class:`Scaffold_2FC`\n",
    "        - :class:`Scaffold_2FC_E`\n",
    "        \"\"\"\n",
    "    \n",
    "    def __init__(self):\n",
    "        super(Scaffold_2FC_D, self).__init__()\n",
    "        self.output_size = 47\n",
    "        #self.fc3 = nn.Linear(1024, 512)\n",
    "        #self.relud = nn.ReLU()\n",
    "        self.fc4 = nn.Linear(512, 47)\n",
    "        \n",
    "    def forward(self, x: torch.Tensor) -> torch.Tensor:\n",
    "        #x = self.fc3(x)\n",
    "        #x = self.relud(x)\n",
    "        x = self.fc4(x)\n",
    "        return x\n",
    "    \n",
    "# Scaffold: https://arxiv.org/abs/1910.06378 (EMNIST) \n",
    "class Scaffold_2FC (EncoderHeadNet):\n",
    "    \"\"\"A 2 layer fully connected network for EMNIST classification. This network attempts to recreate the architecture \n",
    "    proposed in the [SCAFFOLD]_ paper, while there are no specific details about the architecture, we have created a 2 layer\n",
    "    fully connected network with 512 and 47 neurons in the first and second layer respectively.\n",
    "    \n",
    "    See Also:\n",
    "        - :class:`Scaffold_2FC_E`\n",
    "        - :class:`Scaffold_2FC_D`\n",
    "    \n",
    "    References:\n",
    "        .. [SCAFFOLD] Sai Praneeth Karimireddy, Satyen Kale, Mehryar Mohri, Sashank J. Reddi, Sebastian U. Stich, Ananda Theertha Suresh. SCAFFOLD: Stochastic Controlled Averaging for Federated Learning. \n",
    "            In arXiv (2019).\n",
    "    \"\"\"\n",
    "    \n",
    "    def __init__(self):\n",
    "        super(Scaffold_2FC, self).__init__(Scaffold_2FC_E(), Scaffold_2FC_D())"
   ]
  },
  {
   "cell_type": "markdown",
   "metadata": {},
   "source": [
    "### Setting up hyperparameters and model"
   ]
  },
  {
   "cell_type": "code",
   "execution_count": null,
   "metadata": {},
   "outputs": [],
   "source": [
    "client_hp = DDict(\n",
    "    batch_size=20,\n",
    "    local_epochs=5,\n",
    "    loss=\"CrossEntropyLoss\",\n",
    "    optimizer=DDict(\n",
    "      lr=0.1),\n",
    "    scheduler=DDict(\n",
    "      gamma=1,\n",
    "      step_size=1)\n",
    ")\n",
    "\n",
    "alg_hp = DDict(\n",
    "    client = client_hp,\n",
    "    model=Scaffold_2FC(),\n",
    "    server=DDict(weighted=True))"
   ]
  },
  {
   "cell_type": "code",
   "execution_count": null,
   "metadata": {},
   "outputs": [],
   "source": [
    "from fluke.algorithms.scaffold import SCAFFOLD\n",
    "\n",
    "algorithm = SCAFFOLD(100, splitter, alg_hp)"
   ]
  },
  {
   "cell_type": "markdown",
   "metadata": {},
   "source": [
    "### Setting up the logger"
   ]
  },
  {
   "cell_type": "code",
   "execution_count": null,
   "metadata": {},
   "outputs": [],
   "source": [
    "from fluke.utils.log import Log\n",
    "logger = Log()\n",
    "algorithm.set_callbacks(logger)"
   ]
  },
  {
   "cell_type": "markdown",
   "metadata": {},
   "source": [
    "## Running the experiment"
   ]
  },
  {
   "cell_type": "code",
   "execution_count": null,
   "metadata": {},
   "outputs": [],
   "source": [
    "algorithm.run(40, 0.2)"
   ]
  },
  {
   "cell_type": "markdown",
   "metadata": {},
   "source": [
    "Our objective is to reach a test accuracy of 0.5 within 10 rounds of training. We achieve this level of performance in 4 rounds."
   ]
  }
 ],
 "metadata": {
  "kernelspec": {
   "display_name": "venv",
   "language": "python",
   "name": "python3"
  },
  "language_info": {
   "codemirror_mode": {
    "name": "ipython",
    "version": 3
   },
   "file_extension": ".py",
   "mimetype": "text/x-python",
   "name": "python",
   "nbconvert_exporter": "python",
   "pygments_lexer": "ipython3",
   "version": "3.10.12"
  }
 },
 "nbformat": 4,
 "nbformat_minor": 2
}
