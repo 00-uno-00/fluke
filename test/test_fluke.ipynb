{
 "cells": [
  {
   "cell_type": "code",
   "execution_count": 1,
   "metadata": {},
   "outputs": [
    {
     "name": "stdout",
     "output_type": "stream",
     "text": [
      "Enabling notebook extension jupyter-js-widgets/extension...\n",
      "      - Validating: \u001b[32mOK\u001b[0m\n"
     ]
    }
   ],
   "source": [
    "!jupyter nbextension enable --py widgetsnbextension"
   ]
  },
  {
   "cell_type": "code",
   "execution_count": 2,
   "metadata": {},
   "outputs": [
    {
     "name": "stdout",
     "output_type": "stream",
     "text": [
      "FedAVG(\n",
      "\tmodel=test_net.MNIST_2NN_TEST,\n",
      "\tClient[0-9](optim=OptCfg(SGD,lr=0.4,step_size=1,gamma=1), batch_size=20,loss_fn=CrossEntropyLoss(),local_epochs=10),\n",
      "\tServer(weighted=True)\n",
      ")\n"
     ]
    }
   ],
   "source": [
    "import sys\n",
    "sys.path.append('.')\n",
    "sys.path.append('..')\n",
    "\n",
    "from fluke import GlobalSettings\n",
    "from fluke.data import DataSplitter\n",
    "from fluke.utils import DDict, Log\n",
    "from fluke.data.datasets import Datasets\n",
    "from fluke.algorithms.fedavg import FedAVG\n",
    "from fluke.evaluation import ClassificationEval\n",
    "\n",
    "GlobalSettings().set_seed(42)\n",
    "GlobalSettings().set_device(\"cpu\")\n",
    "\n",
    "dataset = Datasets.MNIST()\n",
    "data_splitter = DataSplitter(dataset)\n",
    "\n",
    "alg_hp = DDict({\n",
    "    \"server\": {\n",
    "        \"weighted\": True\n",
    "    },\n",
    "    \"client\": {\n",
    "        \"batch_size\": 20,\n",
    "        \"local_epochs\": 10,\n",
    "        \"loss\": \"CrossEntropyLoss\",\n",
    "        \"optimizer\": {\n",
    "            \"lr\": 0.4\n",
    "        },\n",
    "        \"scheduler\": {\n",
    "            \"step_size\": 1, \n",
    "            \"gamma\": 1\n",
    "        }\n",
    "    },\n",
    "    \"model\": \"test_net.MNIST_2NN_TEST\"\n",
    "})\n",
    "\n",
    "fl_algorithm = FedAVG(n_clients=10, \n",
    "                      data_splitter=data_splitter, \n",
    "                      hyperparameters=alg_hp)\n",
    "\n",
    "evaluator = ClassificationEval(fl_algorithm.loss, \n",
    "                               data_splitter.num_classes(), \n",
    "                               \"micro\")\n",
    "log = Log(evaluator, eval_every=1)\n",
    "log.init()\n",
    "fl_algorithm.set_callbacks(log)\n",
    "print(fl_algorithm)"
   ]
  },
  {
   "cell_type": "code",
   "execution_count": 3,
   "metadata": {},
   "outputs": [
    {
     "data": {
      "text/html": [
       "<pre style=\"white-space:pre;overflow-x:auto;line-height:normal;font-family:Menlo,'DejaVu Sans Mono',consolas,'Courier New',monospace\"></pre>\n"
      ],
      "text/plain": [
       "\u001b[?25l"
      ]
     },
     "metadata": {},
     "output_type": "display_data"
    },
    {
     "data": {
      "application/vnd.jupyter.widget-view+json": {
       "model_id": "4e197727f2dd462ba0b78b68f5b9f106",
       "version_major": 2,
       "version_minor": 0
      },
      "text/plain": [
       "Output()"
      ]
     },
     "metadata": {},
     "output_type": "display_data"
    },
    {
     "data": {
      "text/html": [
       "<pre style=\"white-space:pre;overflow-x:auto;line-height:normal;font-family:Menlo,'DejaVu Sans Mono',consolas,'Courier New',monospace\">╭─────────────────────────────────────────────────── Round: 1 ────────────────────────────────────────────────────╮\n",
       "│ <span style=\"font-weight: bold\">{</span>                                                                                                               │\n",
       "│     <span style=\"color: #008000; text-decoration-color: #008000\">'global'</span>: <span style=\"font-weight: bold\">{</span>                                                                                                 │\n",
       "│         <span style=\"color: #008000; text-decoration-color: #008000\">'accuracy'</span>: <span style=\"color: #008080; text-decoration-color: #008080; font-weight: bold\">0.9283</span>,                                                                                     │\n",
       "│         <span style=\"color: #008000; text-decoration-color: #008000\">'precision'</span>: <span style=\"color: #008080; text-decoration-color: #008080; font-weight: bold\">0.9283</span>,                                                                                    │\n",
       "│         <span style=\"color: #008000; text-decoration-color: #008000\">'recall'</span>: <span style=\"color: #008080; text-decoration-color: #008080; font-weight: bold\">0.9283</span>,                                                                                       │\n",
       "│         <span style=\"color: #008000; text-decoration-color: #008000\">'f1'</span>: <span style=\"color: #008080; text-decoration-color: #008080; font-weight: bold\">0.9283</span>,                                                                                           │\n",
       "│         <span style=\"color: #008000; text-decoration-color: #008000\">'loss'</span>: <span style=\"color: #008080; text-decoration-color: #008080; font-weight: bold\">1.5231</span>                                                                                          │\n",
       "│     <span style=\"font-weight: bold\">}</span>,                                                                                                          │\n",
       "│     <span style=\"color: #008000; text-decoration-color: #008000\">'comm_cost'</span>: <span style=\"color: #008080; text-decoration-color: #008080; font-weight: bold\">1599082</span>                                                                                        │\n",
       "│ <span style=\"font-weight: bold\">}</span>                                                                                                               │\n",
       "╰─────────────────────────────────────────────────────────────────────────────────────────────────────────────────╯\n",
       "<span style=\"color: #800000; text-decoration-color: #800000\">FL Rounds</span> <span style=\"color: #3a3a3a; text-decoration-color: #3a3a3a\">━━━━━━━━━━━━━━━━━━━━━━━━━━━━━━━━━━━━━━━━</span> <span style=\"color: #800080; text-decoration-color: #800080\">  1%</span> <span style=\"color: #008080; text-decoration-color: #008080\">-:--:--</span>\n",
       "<span style=\"color: #008000; text-decoration-color: #008000\">Local Training</span> <span style=\"color: #729c1f; text-decoration-color: #729c1f\">━━━━━━━━━━━━━━━━━━━━━━━━━━━━━━━━━━━━━━━━</span> <span style=\"color: #800080; text-decoration-color: #800080\">100%</span> <span style=\"color: #008080; text-decoration-color: #008080\">0:00:00</span></pre>\n"
      ],
      "text/plain": [
       "\r\u001b[2K\u001b[1A\u001b[2K╭─────────────────────────────────────────────────── Round: 1 ────────────────────────────────────────────────────╮\n",
       "│ \u001b[1m{\u001b[0m                                                                                                               │\n",
       "│     \u001b[32m'global'\u001b[0m: \u001b[1m{\u001b[0m                                                                                                 │\n",
       "│         \u001b[32m'accuracy'\u001b[0m: \u001b[1;36m0.9283\u001b[0m,                                                                                     │\n",
       "│         \u001b[32m'precision'\u001b[0m: \u001b[1;36m0.9283\u001b[0m,                                                                                    │\n",
       "│         \u001b[32m'recall'\u001b[0m: \u001b[1;36m0.9283\u001b[0m,                                                                                       │\n",
       "│         \u001b[32m'f1'\u001b[0m: \u001b[1;36m0.9283\u001b[0m,                                                                                           │\n",
       "│         \u001b[32m'loss'\u001b[0m: \u001b[1;36m1.5231\u001b[0m                                                                                          │\n",
       "│     \u001b[1m}\u001b[0m,                                                                                                          │\n",
       "│     \u001b[32m'comm_cost'\u001b[0m: \u001b[1;36m1599082\u001b[0m                                                                                        │\n",
       "│ \u001b[1m}\u001b[0m                                                                                                               │\n",
       "╰─────────────────────────────────────────────────────────────────────────────────────────────────────────────────╯\n",
       "\u001b[31mFL Rounds\u001b[0m \u001b[38;5;237m━━━━━━━━━━━━━━━━━━━━━━━━━━━━━━━━━━━━━━━━\u001b[0m \u001b[35m  1%\u001b[0m \u001b[36m-:--:--\u001b[0m\n",
       "\u001b[32mLocal Training\u001b[0m \u001b[38;2;114;156;31m━━━━━━━━━━━━━━━━━━━━━━━━━━━━━━━━━━━━━━━━\u001b[0m \u001b[35m100%\u001b[0m \u001b[36m0:00:00\u001b[0m"
      ]
     },
     "metadata": {},
     "output_type": "display_data"
    },
    {
     "data": {
      "text/html": [
       "<pre style=\"white-space:pre;overflow-x:auto;line-height:normal;font-family:Menlo,'DejaVu Sans Mono',consolas,'Courier New',monospace\">  MEMORY USAGE: <span style=\"color: #008080; text-decoration-color: #008080; font-weight: bold\">3.11</span> %\n",
       "<span style=\"color: #800000; text-decoration-color: #800000\">FL Rounds</span> <span style=\"color: #3a3a3a; text-decoration-color: #3a3a3a\">━━━━━━━━━━━━━━━━━━━━━━━━━━━━━━━━━━━━━━━━</span> <span style=\"color: #800080; text-decoration-color: #800080\">  1%</span> <span style=\"color: #008080; text-decoration-color: #008080\">-:--:--</span>\n",
       "<span style=\"color: #008000; text-decoration-color: #008000\">Local Training</span> <span style=\"color: #729c1f; text-decoration-color: #729c1f\">━━━━━━━━━━━━━━━━━━━━━━━━━━━━━━━━━━━━━━━━</span> <span style=\"color: #800080; text-decoration-color: #800080\">100%</span> <span style=\"color: #008080; text-decoration-color: #008080\">0:00:00</span></pre>\n"
      ],
      "text/plain": [
       "\r\u001b[2K\u001b[1A\u001b[2K  MEMORY USAGE: \u001b[1;36m3.11\u001b[0m %\n",
       "\u001b[31mFL Rounds\u001b[0m \u001b[38;5;237m━━━━━━━━━━━━━━━━━━━━━━━━━━━━━━━━━━━━━━━━\u001b[0m \u001b[35m  1%\u001b[0m \u001b[36m-:--:--\u001b[0m\n",
       "\u001b[32mLocal Training\u001b[0m \u001b[38;2;114;156;31m━━━━━━━━━━━━━━━━━━━━━━━━━━━━━━━━━━━━━━━━\u001b[0m \u001b[35m100%\u001b[0m \u001b[36m0:00:00\u001b[0m"
      ]
     },
     "metadata": {},
     "output_type": "display_data"
    },
    {
     "data": {
      "text/html": [
       "<pre style=\"white-space:pre;overflow-x:auto;line-height:normal;font-family:Menlo,'DejaVu Sans Mono',consolas,'Courier New',monospace\">╭─────────────────────────────────────────────────── Round: 2 ────────────────────────────────────────────────────╮\n",
       "│ <span style=\"font-weight: bold\">{</span>                                                                                                               │\n",
       "│     <span style=\"color: #008000; text-decoration-color: #008000\">'global'</span>: <span style=\"font-weight: bold\">{</span>                                                                                                 │\n",
       "│         <span style=\"color: #008000; text-decoration-color: #008000\">'accuracy'</span>: <span style=\"color: #008080; text-decoration-color: #008080; font-weight: bold\">0.949</span>,                                                                                      │\n",
       "│         <span style=\"color: #008000; text-decoration-color: #008000\">'precision'</span>: <span style=\"color: #008080; text-decoration-color: #008080; font-weight: bold\">0.949</span>,                                                                                     │\n",
       "│         <span style=\"color: #008000; text-decoration-color: #008000\">'recall'</span>: <span style=\"color: #008080; text-decoration-color: #008080; font-weight: bold\">0.949</span>,                                                                                        │\n",
       "│         <span style=\"color: #008000; text-decoration-color: #008000\">'f1'</span>: <span style=\"color: #008080; text-decoration-color: #008080; font-weight: bold\">0.949</span>,                                                                                            │\n",
       "│         <span style=\"color: #008000; text-decoration-color: #008000\">'loss'</span>: <span style=\"color: #008080; text-decoration-color: #008080; font-weight: bold\">1.50972</span>                                                                                         │\n",
       "│     <span style=\"font-weight: bold\">}</span>,                                                                                                          │\n",
       "│     <span style=\"color: #008000; text-decoration-color: #008000\">'comm_cost'</span>: <span style=\"color: #008080; text-decoration-color: #008080; font-weight: bold\">1599088</span>                                                                                        │\n",
       "│ <span style=\"font-weight: bold\">}</span>                                                                                                               │\n",
       "╰─────────────────────────────────────────────────────────────────────────────────────────────────────────────────╯\n",
       "<span style=\"color: #800000; text-decoration-color: #800000\">FL Rounds</span> <span style=\"color: #f92672; text-decoration-color: #f92672\">╸</span><span style=\"color: #3a3a3a; text-decoration-color: #3a3a3a\">━━━━━━━━━━━━━━━━━━━━━━━━━━━━━━━━━━━━━━━</span> <span style=\"color: #800080; text-decoration-color: #800080\">  2%</span> <span style=\"color: #008080; text-decoration-color: #008080\">0:02:55</span>\n",
       "<span style=\"color: #008000; text-decoration-color: #008000\">Local Training</span> <span style=\"color: #729c1f; text-decoration-color: #729c1f\">━━━━━━━━━━━━━━━━━━━━━━━━━━━━━━━━━━━━━━━━</span> <span style=\"color: #800080; text-decoration-color: #800080\">100%</span> <span style=\"color: #008080; text-decoration-color: #008080\">0:00:00</span></pre>\n"
      ],
      "text/plain": [
       "\r\u001b[2K\u001b[1A\u001b[2K╭─────────────────────────────────────────────────── Round: 2 ────────────────────────────────────────────────────╮\n",
       "│ \u001b[1m{\u001b[0m                                                                                                               │\n",
       "│     \u001b[32m'global'\u001b[0m: \u001b[1m{\u001b[0m                                                                                                 │\n",
       "│         \u001b[32m'accuracy'\u001b[0m: \u001b[1;36m0.949\u001b[0m,                                                                                      │\n",
       "│         \u001b[32m'precision'\u001b[0m: \u001b[1;36m0.949\u001b[0m,                                                                                     │\n",
       "│         \u001b[32m'recall'\u001b[0m: \u001b[1;36m0.949\u001b[0m,                                                                                        │\n",
       "│         \u001b[32m'f1'\u001b[0m: \u001b[1;36m0.949\u001b[0m,                                                                                            │\n",
       "│         \u001b[32m'loss'\u001b[0m: \u001b[1;36m1.50972\u001b[0m                                                                                         │\n",
       "│     \u001b[1m}\u001b[0m,                                                                                                          │\n",
       "│     \u001b[32m'comm_cost'\u001b[0m: \u001b[1;36m1599088\u001b[0m                                                                                        │\n",
       "│ \u001b[1m}\u001b[0m                                                                                                               │\n",
       "╰─────────────────────────────────────────────────────────────────────────────────────────────────────────────────╯\n",
       "\u001b[31mFL Rounds\u001b[0m \u001b[38;2;249;38;114m╸\u001b[0m\u001b[38;5;237m━━━━━━━━━━━━━━━━━━━━━━━━━━━━━━━━━━━━━━━\u001b[0m \u001b[35m  2%\u001b[0m \u001b[36m0:02:55\u001b[0m\n",
       "\u001b[32mLocal Training\u001b[0m \u001b[38;2;114;156;31m━━━━━━━━━━━━━━━━━━━━━━━━━━━━━━━━━━━━━━━━\u001b[0m \u001b[35m100%\u001b[0m \u001b[36m0:00:00\u001b[0m"
      ]
     },
     "metadata": {},
     "output_type": "display_data"
    },
    {
     "data": {
      "text/html": [
       "<pre style=\"white-space:pre;overflow-x:auto;line-height:normal;font-family:Menlo,'DejaVu Sans Mono',consolas,'Courier New',monospace\">  MEMORY USAGE: <span style=\"color: #008080; text-decoration-color: #008080; font-weight: bold\">3.12</span> %\n",
       "<span style=\"color: #800000; text-decoration-color: #800000\">FL Rounds</span> <span style=\"color: #f92672; text-decoration-color: #f92672\">╸</span><span style=\"color: #3a3a3a; text-decoration-color: #3a3a3a\">━━━━━━━━━━━━━━━━━━━━━━━━━━━━━━━━━━━━━━━</span> <span style=\"color: #800080; text-decoration-color: #800080\">  2%</span> <span style=\"color: #008080; text-decoration-color: #008080\">0:02:55</span>\n",
       "<span style=\"color: #008000; text-decoration-color: #008000\">Local Training</span> <span style=\"color: #729c1f; text-decoration-color: #729c1f\">━━━━━━━━━━━━━━━━━━━━━━━━━━━━━━━━━━━━━━━━</span> <span style=\"color: #800080; text-decoration-color: #800080\">100%</span> <span style=\"color: #008080; text-decoration-color: #008080\">0:00:00</span></pre>\n"
      ],
      "text/plain": [
       "\r\u001b[2K\u001b[1A\u001b[2K  MEMORY USAGE: \u001b[1;36m3.12\u001b[0m %\n",
       "\u001b[31mFL Rounds\u001b[0m \u001b[38;2;249;38;114m╸\u001b[0m\u001b[38;5;237m━━━━━━━━━━━━━━━━━━━━━━━━━━━━━━━━━━━━━━━\u001b[0m \u001b[35m  2%\u001b[0m \u001b[36m0:02:55\u001b[0m\n",
       "\u001b[32mLocal Training\u001b[0m \u001b[38;2;114;156;31m━━━━━━━━━━━━━━━━━━━━━━━━━━━━━━━━━━━━━━━━\u001b[0m \u001b[35m100%\u001b[0m \u001b[36m0:00:00\u001b[0m"
      ]
     },
     "metadata": {},
     "output_type": "display_data"
    },
    {
     "data": {
      "text/html": [
       "<pre style=\"white-space:pre;overflow-x:auto;line-height:normal;font-family:Menlo,'DejaVu Sans Mono',consolas,'Courier New',monospace\">╭─────────────────────────────────────────────────── Round: 3 ────────────────────────────────────────────────────╮\n",
       "│ <span style=\"font-weight: bold\">{</span>                                                                                                               │\n",
       "│     <span style=\"color: #008000; text-decoration-color: #008000\">'global'</span>: <span style=\"font-weight: bold\">{</span>                                                                                                 │\n",
       "│         <span style=\"color: #008000; text-decoration-color: #008000\">'accuracy'</span>: <span style=\"color: #008080; text-decoration-color: #008080; font-weight: bold\">0.9647</span>,                                                                                     │\n",
       "│         <span style=\"color: #008000; text-decoration-color: #008000\">'precision'</span>: <span style=\"color: #008080; text-decoration-color: #008080; font-weight: bold\">0.9647</span>,                                                                                    │\n",
       "│         <span style=\"color: #008000; text-decoration-color: #008000\">'recall'</span>: <span style=\"color: #008080; text-decoration-color: #008080; font-weight: bold\">0.9647</span>,                                                                                       │\n",
       "│         <span style=\"color: #008000; text-decoration-color: #008000\">'f1'</span>: <span style=\"color: #008080; text-decoration-color: #008080; font-weight: bold\">0.9647</span>,                                                                                           │\n",
       "│         <span style=\"color: #008000; text-decoration-color: #008000\">'loss'</span>: <span style=\"color: #008080; text-decoration-color: #008080; font-weight: bold\">1.49701</span>                                                                                         │\n",
       "│     <span style=\"font-weight: bold\">}</span>,                                                                                                          │\n",
       "│     <span style=\"color: #008000; text-decoration-color: #008000\">'comm_cost'</span>: <span style=\"color: #008080; text-decoration-color: #008080; font-weight: bold\">1599082</span>                                                                                        │\n",
       "│ <span style=\"font-weight: bold\">}</span>                                                                                                               │\n",
       "╰─────────────────────────────────────────────────────────────────────────────────────────────────────────────────╯\n",
       "<span style=\"color: #800000; text-decoration-color: #800000\">FL Rounds</span> <span style=\"color: #f92672; text-decoration-color: #f92672\">━</span><span style=\"color: #3a3a3a; text-decoration-color: #3a3a3a\">╺━━━━━━━━━━━━━━━━━━━━━━━━━━━━━━━━━━━━━━</span> <span style=\"color: #800080; text-decoration-color: #800080\">  3%</span> <span style=\"color: #008080; text-decoration-color: #008080\">0:02:52</span>\n",
       "<span style=\"color: #008000; text-decoration-color: #008000\">Local Training</span> <span style=\"color: #729c1f; text-decoration-color: #729c1f\">━━━━━━━━━━━━━━━━━━━━━━━━━━━━━━━━━━━━━━━━</span> <span style=\"color: #800080; text-decoration-color: #800080\">100%</span> <span style=\"color: #008080; text-decoration-color: #008080\">0:00:00</span></pre>\n"
      ],
      "text/plain": [
       "\r\u001b[2K\u001b[1A\u001b[2K╭─────────────────────────────────────────────────── Round: 3 ────────────────────────────────────────────────────╮\n",
       "│ \u001b[1m{\u001b[0m                                                                                                               │\n",
       "│     \u001b[32m'global'\u001b[0m: \u001b[1m{\u001b[0m                                                                                                 │\n",
       "│         \u001b[32m'accuracy'\u001b[0m: \u001b[1;36m0.9647\u001b[0m,                                                                                     │\n",
       "│         \u001b[32m'precision'\u001b[0m: \u001b[1;36m0.9647\u001b[0m,                                                                                    │\n",
       "│         \u001b[32m'recall'\u001b[0m: \u001b[1;36m0.9647\u001b[0m,                                                                                       │\n",
       "│         \u001b[32m'f1'\u001b[0m: \u001b[1;36m0.9647\u001b[0m,                                                                                           │\n",
       "│         \u001b[32m'loss'\u001b[0m: \u001b[1;36m1.49701\u001b[0m                                                                                         │\n",
       "│     \u001b[1m}\u001b[0m,                                                                                                          │\n",
       "│     \u001b[32m'comm_cost'\u001b[0m: \u001b[1;36m1599082\u001b[0m                                                                                        │\n",
       "│ \u001b[1m}\u001b[0m                                                                                                               │\n",
       "╰─────────────────────────────────────────────────────────────────────────────────────────────────────────────────╯\n",
       "\u001b[31mFL Rounds\u001b[0m \u001b[38;2;249;38;114m━\u001b[0m\u001b[38;5;237m╺\u001b[0m\u001b[38;5;237m━━━━━━━━━━━━━━━━━━━━━━━━━━━━━━━━━━━━━━\u001b[0m \u001b[35m  3%\u001b[0m \u001b[36m0:02:52\u001b[0m\n",
       "\u001b[32mLocal Training\u001b[0m \u001b[38;2;114;156;31m━━━━━━━━━━━━━━━━━━━━━━━━━━━━━━━━━━━━━━━━\u001b[0m \u001b[35m100%\u001b[0m \u001b[36m0:00:00\u001b[0m"
      ]
     },
     "metadata": {},
     "output_type": "display_data"
    },
    {
     "data": {
      "text/html": [
       "<pre style=\"white-space:pre;overflow-x:auto;line-height:normal;font-family:Menlo,'DejaVu Sans Mono',consolas,'Courier New',monospace\">  MEMORY USAGE: <span style=\"color: #008080; text-decoration-color: #008080; font-weight: bold\">3.12</span> %\n",
       "<span style=\"color: #800000; text-decoration-color: #800000\">FL Rounds</span> <span style=\"color: #f92672; text-decoration-color: #f92672\">━</span><span style=\"color: #3a3a3a; text-decoration-color: #3a3a3a\">╺━━━━━━━━━━━━━━━━━━━━━━━━━━━━━━━━━━━━━━</span> <span style=\"color: #800080; text-decoration-color: #800080\">  3%</span> <span style=\"color: #008080; text-decoration-color: #008080\">0:02:52</span>\n",
       "<span style=\"color: #008000; text-decoration-color: #008000\">Local Training</span> <span style=\"color: #729c1f; text-decoration-color: #729c1f\">━━━━━━━━━━━━━━━━━━━━━━━━━━━━━━━━━━━━━━━━</span> <span style=\"color: #800080; text-decoration-color: #800080\">100%</span> <span style=\"color: #008080; text-decoration-color: #008080\">0:00:00</span></pre>\n"
      ],
      "text/plain": [
       "\r\u001b[2K\u001b[1A\u001b[2K  MEMORY USAGE: \u001b[1;36m3.12\u001b[0m %\n",
       "\u001b[31mFL Rounds\u001b[0m \u001b[38;2;249;38;114m━\u001b[0m\u001b[38;5;237m╺\u001b[0m\u001b[38;5;237m━━━━━━━━━━━━━━━━━━━━━━━━━━━━━━━━━━━━━━\u001b[0m \u001b[35m  3%\u001b[0m \u001b[36m0:02:52\u001b[0m\n",
       "\u001b[32mLocal Training\u001b[0m \u001b[38;2;114;156;31m━━━━━━━━━━━━━━━━━━━━━━━━━━━━━━━━━━━━━━━━\u001b[0m \u001b[35m100%\u001b[0m \u001b[36m0:00:00\u001b[0m"
      ]
     },
     "metadata": {},
     "output_type": "display_data"
    },
    {
     "data": {
      "text/html": [
       "<pre style=\"white-space:pre;overflow-x:auto;line-height:normal;font-family:Menlo,'DejaVu Sans Mono',consolas,'Courier New',monospace\">╭─────────────────────────────────────────────────── Round: 4 ────────────────────────────────────────────────────╮\n",
       "│ <span style=\"font-weight: bold\">{</span>                                                                                                               │\n",
       "│     <span style=\"color: #008000; text-decoration-color: #008000\">'global'</span>: <span style=\"font-weight: bold\">{</span>                                                                                                 │\n",
       "│         <span style=\"color: #008000; text-decoration-color: #008000\">'accuracy'</span>: <span style=\"color: #008080; text-decoration-color: #008080; font-weight: bold\">0.9655</span>,                                                                                     │\n",
       "│         <span style=\"color: #008000; text-decoration-color: #008000\">'precision'</span>: <span style=\"color: #008080; text-decoration-color: #008080; font-weight: bold\">0.9655</span>,                                                                                    │\n",
       "│         <span style=\"color: #008000; text-decoration-color: #008000\">'recall'</span>: <span style=\"color: #008080; text-decoration-color: #008080; font-weight: bold\">0.9655</span>,                                                                                       │\n",
       "│         <span style=\"color: #008000; text-decoration-color: #008000\">'f1'</span>: <span style=\"color: #008080; text-decoration-color: #008080; font-weight: bold\">0.9655</span>,                                                                                           │\n",
       "│         <span style=\"color: #008000; text-decoration-color: #008000\">'loss'</span>: <span style=\"color: #008080; text-decoration-color: #008080; font-weight: bold\">1.49503</span>                                                                                         │\n",
       "│     <span style=\"font-weight: bold\">}</span>,                                                                                                          │\n",
       "│     <span style=\"color: #008000; text-decoration-color: #008000\">'comm_cost'</span>: <span style=\"color: #008080; text-decoration-color: #008080; font-weight: bold\">1599088</span>                                                                                        │\n",
       "│ <span style=\"font-weight: bold\">}</span>                                                                                                               │\n",
       "╰─────────────────────────────────────────────────────────────────────────────────────────────────────────────────╯\n",
       "<span style=\"color: #800000; text-decoration-color: #800000\">FL Rounds</span> <span style=\"color: #f92672; text-decoration-color: #f92672\">━╸</span><span style=\"color: #3a3a3a; text-decoration-color: #3a3a3a\">━━━━━━━━━━━━━━━━━━━━━━━━━━━━━━━━━━━━━━</span> <span style=\"color: #800080; text-decoration-color: #800080\">  4%</span> <span style=\"color: #008080; text-decoration-color: #008080\">0:02:51</span>\n",
       "<span style=\"color: #008000; text-decoration-color: #008000\">Local Training</span> <span style=\"color: #729c1f; text-decoration-color: #729c1f\">━━━━━━━━━━━━━━━━━━━━━━━━━━━━━━━━━━━━━━━━</span> <span style=\"color: #800080; text-decoration-color: #800080\">100%</span> <span style=\"color: #008080; text-decoration-color: #008080\">0:00:00</span></pre>\n"
      ],
      "text/plain": [
       "\r\u001b[2K\u001b[1A\u001b[2K╭─────────────────────────────────────────────────── Round: 4 ────────────────────────────────────────────────────╮\n",
       "│ \u001b[1m{\u001b[0m                                                                                                               │\n",
       "│     \u001b[32m'global'\u001b[0m: \u001b[1m{\u001b[0m                                                                                                 │\n",
       "│         \u001b[32m'accuracy'\u001b[0m: \u001b[1;36m0.9655\u001b[0m,                                                                                     │\n",
       "│         \u001b[32m'precision'\u001b[0m: \u001b[1;36m0.9655\u001b[0m,                                                                                    │\n",
       "│         \u001b[32m'recall'\u001b[0m: \u001b[1;36m0.9655\u001b[0m,                                                                                       │\n",
       "│         \u001b[32m'f1'\u001b[0m: \u001b[1;36m0.9655\u001b[0m,                                                                                           │\n",
       "│         \u001b[32m'loss'\u001b[0m: \u001b[1;36m1.49503\u001b[0m                                                                                         │\n",
       "│     \u001b[1m}\u001b[0m,                                                                                                          │\n",
       "│     \u001b[32m'comm_cost'\u001b[0m: \u001b[1;36m1599088\u001b[0m                                                                                        │\n",
       "│ \u001b[1m}\u001b[0m                                                                                                               │\n",
       "╰─────────────────────────────────────────────────────────────────────────────────────────────────────────────────╯\n",
       "\u001b[31mFL Rounds\u001b[0m \u001b[38;2;249;38;114m━\u001b[0m\u001b[38;2;249;38;114m╸\u001b[0m\u001b[38;5;237m━━━━━━━━━━━━━━━━━━━━━━━━━━━━━━━━━━━━━━\u001b[0m \u001b[35m  4%\u001b[0m \u001b[36m0:02:51\u001b[0m\n",
       "\u001b[32mLocal Training\u001b[0m \u001b[38;2;114;156;31m━━━━━━━━━━━━━━━━━━━━━━━━━━━━━━━━━━━━━━━━\u001b[0m \u001b[35m100%\u001b[0m \u001b[36m0:00:00\u001b[0m"
      ]
     },
     "metadata": {},
     "output_type": "display_data"
    },
    {
     "data": {
      "text/html": [
       "<pre style=\"white-space:pre;overflow-x:auto;line-height:normal;font-family:Menlo,'DejaVu Sans Mono',consolas,'Courier New',monospace\">  MEMORY USAGE: <span style=\"color: #008080; text-decoration-color: #008080; font-weight: bold\">3.13</span> %\n",
       "<span style=\"color: #800000; text-decoration-color: #800000\">FL Rounds</span> <span style=\"color: #f92672; text-decoration-color: #f92672\">━╸</span><span style=\"color: #3a3a3a; text-decoration-color: #3a3a3a\">━━━━━━━━━━━━━━━━━━━━━━━━━━━━━━━━━━━━━━</span> <span style=\"color: #800080; text-decoration-color: #800080\">  4%</span> <span style=\"color: #008080; text-decoration-color: #008080\">0:02:51</span>\n",
       "<span style=\"color: #008000; text-decoration-color: #008000\">Local Training</span> <span style=\"color: #729c1f; text-decoration-color: #729c1f\">━━━━━━━━━━━━━━━━━━━━━━━━━━━━━━━━━━━━━━━━</span> <span style=\"color: #800080; text-decoration-color: #800080\">100%</span> <span style=\"color: #008080; text-decoration-color: #008080\">0:00:00</span></pre>\n"
      ],
      "text/plain": [
       "\r\u001b[2K\u001b[1A\u001b[2K  MEMORY USAGE: \u001b[1;36m3.13\u001b[0m %\n",
       "\u001b[31mFL Rounds\u001b[0m \u001b[38;2;249;38;114m━\u001b[0m\u001b[38;2;249;38;114m╸\u001b[0m\u001b[38;5;237m━━━━━━━━━━━━━━━━━━━━━━━━━━━━━━━━━━━━━━\u001b[0m \u001b[35m  4%\u001b[0m \u001b[36m0:02:51\u001b[0m\n",
       "\u001b[32mLocal Training\u001b[0m \u001b[38;2;114;156;31m━━━━━━━━━━━━━━━━━━━━━━━━━━━━━━━━━━━━━━━━\u001b[0m \u001b[35m100%\u001b[0m \u001b[36m0:00:00\u001b[0m"
      ]
     },
     "metadata": {},
     "output_type": "display_data"
    },
    {
     "data": {
      "text/html": [
       "<pre style=\"white-space:pre;overflow-x:auto;line-height:normal;font-family:Menlo,'DejaVu Sans Mono',consolas,'Courier New',monospace\">╭─────────────────────────────────────────────────── Round: 5 ────────────────────────────────────────────────────╮\n",
       "│ <span style=\"font-weight: bold\">{</span>                                                                                                               │\n",
       "│     <span style=\"color: #008000; text-decoration-color: #008000\">'global'</span>: <span style=\"font-weight: bold\">{</span>                                                                                                 │\n",
       "│         <span style=\"color: #008000; text-decoration-color: #008000\">'accuracy'</span>: <span style=\"color: #008080; text-decoration-color: #008080; font-weight: bold\">0.9692</span>,                                                                                     │\n",
       "│         <span style=\"color: #008000; text-decoration-color: #008000\">'precision'</span>: <span style=\"color: #008080; text-decoration-color: #008080; font-weight: bold\">0.9692</span>,                                                                                    │\n",
       "│         <span style=\"color: #008000; text-decoration-color: #008000\">'recall'</span>: <span style=\"color: #008080; text-decoration-color: #008080; font-weight: bold\">0.9692</span>,                                                                                       │\n",
       "│         <span style=\"color: #008000; text-decoration-color: #008000\">'f1'</span>: <span style=\"color: #008080; text-decoration-color: #008080; font-weight: bold\">0.9692</span>,                                                                                           │\n",
       "│         <span style=\"color: #008000; text-decoration-color: #008000\">'loss'</span>: <span style=\"color: #008080; text-decoration-color: #008080; font-weight: bold\">1.49312</span>                                                                                         │\n",
       "│     <span style=\"font-weight: bold\">}</span>,                                                                                                          │\n",
       "│     <span style=\"color: #008000; text-decoration-color: #008000\">'comm_cost'</span>: <span style=\"color: #008080; text-decoration-color: #008080; font-weight: bold\">1599084</span>                                                                                        │\n",
       "│ <span style=\"font-weight: bold\">}</span>                                                                                                               │\n",
       "╰─────────────────────────────────────────────────────────────────────────────────────────────────────────────────╯\n",
       "<span style=\"color: #800000; text-decoration-color: #800000\">FL Rounds</span> <span style=\"color: #f92672; text-decoration-color: #f92672\">━━</span><span style=\"color: #3a3a3a; text-decoration-color: #3a3a3a\">╺━━━━━━━━━━━━━━━━━━━━━━━━━━━━━━━━━━━━━</span> <span style=\"color: #800080; text-decoration-color: #800080\">  5%</span> <span style=\"color: #008080; text-decoration-color: #008080\">0:02:54</span>\n",
       "<span style=\"color: #008000; text-decoration-color: #008000\">Local Training</span> <span style=\"color: #729c1f; text-decoration-color: #729c1f\">━━━━━━━━━━━━━━━━━━━━━━━━━━━━━━━━━━━━━━━━</span> <span style=\"color: #800080; text-decoration-color: #800080\">100%</span> <span style=\"color: #008080; text-decoration-color: #008080\">0:00:00</span></pre>\n"
      ],
      "text/plain": [
       "\r\u001b[2K\u001b[1A\u001b[2K╭─────────────────────────────────────────────────── Round: 5 ────────────────────────────────────────────────────╮\n",
       "│ \u001b[1m{\u001b[0m                                                                                                               │\n",
       "│     \u001b[32m'global'\u001b[0m: \u001b[1m{\u001b[0m                                                                                                 │\n",
       "│         \u001b[32m'accuracy'\u001b[0m: \u001b[1;36m0.9692\u001b[0m,                                                                                     │\n",
       "│         \u001b[32m'precision'\u001b[0m: \u001b[1;36m0.9692\u001b[0m,                                                                                    │\n",
       "│         \u001b[32m'recall'\u001b[0m: \u001b[1;36m0.9692\u001b[0m,                                                                                       │\n",
       "│         \u001b[32m'f1'\u001b[0m: \u001b[1;36m0.9692\u001b[0m,                                                                                           │\n",
       "│         \u001b[32m'loss'\u001b[0m: \u001b[1;36m1.49312\u001b[0m                                                                                         │\n",
       "│     \u001b[1m}\u001b[0m,                                                                                                          │\n",
       "│     \u001b[32m'comm_cost'\u001b[0m: \u001b[1;36m1599084\u001b[0m                                                                                        │\n",
       "│ \u001b[1m}\u001b[0m                                                                                                               │\n",
       "╰─────────────────────────────────────────────────────────────────────────────────────────────────────────────────╯\n",
       "\u001b[31mFL Rounds\u001b[0m \u001b[38;2;249;38;114m━━\u001b[0m\u001b[38;5;237m╺\u001b[0m\u001b[38;5;237m━━━━━━━━━━━━━━━━━━━━━━━━━━━━━━━━━━━━━\u001b[0m \u001b[35m  5%\u001b[0m \u001b[36m0:02:54\u001b[0m\n",
       "\u001b[32mLocal Training\u001b[0m \u001b[38;2;114;156;31m━━━━━━━━━━━━━━━━━━━━━━━━━━━━━━━━━━━━━━━━\u001b[0m \u001b[35m100%\u001b[0m \u001b[36m0:00:00\u001b[0m"
      ]
     },
     "metadata": {},
     "output_type": "display_data"
    },
    {
     "data": {
      "text/html": [
       "<pre style=\"white-space:pre;overflow-x:auto;line-height:normal;font-family:Menlo,'DejaVu Sans Mono',consolas,'Courier New',monospace\">  MEMORY USAGE: <span style=\"color: #008080; text-decoration-color: #008080; font-weight: bold\">3.13</span> %\n",
       "<span style=\"color: #800000; text-decoration-color: #800000\">FL Rounds</span> <span style=\"color: #f92672; text-decoration-color: #f92672\">━━</span><span style=\"color: #3a3a3a; text-decoration-color: #3a3a3a\">╺━━━━━━━━━━━━━━━━━━━━━━━━━━━━━━━━━━━━━</span> <span style=\"color: #800080; text-decoration-color: #800080\">  5%</span> <span style=\"color: #008080; text-decoration-color: #008080\">0:02:54</span>\n",
       "<span style=\"color: #008000; text-decoration-color: #008000\">Local Training</span> <span style=\"color: #729c1f; text-decoration-color: #729c1f\">━━━━━━━━━━━━━━━━━━━━━━━━━━━━━━━━━━━━━━━━</span> <span style=\"color: #800080; text-decoration-color: #800080\">100%</span> <span style=\"color: #008080; text-decoration-color: #008080\">0:00:00</span></pre>\n"
      ],
      "text/plain": [
       "\r\u001b[2K\u001b[1A\u001b[2K  MEMORY USAGE: \u001b[1;36m3.13\u001b[0m %\n",
       "\u001b[31mFL Rounds\u001b[0m \u001b[38;2;249;38;114m━━\u001b[0m\u001b[38;5;237m╺\u001b[0m\u001b[38;5;237m━━━━━━━━━━━━━━━━━━━━━━━━━━━━━━━━━━━━━\u001b[0m \u001b[35m  5%\u001b[0m \u001b[36m0:02:54\u001b[0m\n",
       "\u001b[32mLocal Training\u001b[0m \u001b[38;2;114;156;31m━━━━━━━━━━━━━━━━━━━━━━━━━━━━━━━━━━━━━━━━\u001b[0m \u001b[35m100%\u001b[0m \u001b[36m0:00:00\u001b[0m"
      ]
     },
     "metadata": {},
     "output_type": "display_data"
    },
    {
     "data": {
      "text/html": [
       "<pre style=\"white-space:pre;overflow-x:auto;line-height:normal;font-family:Menlo,'DejaVu Sans Mono',consolas,'Courier New',monospace\">╭─────────────────────────────────────────────────── Round: 6 ────────────────────────────────────────────────────╮\n",
       "│ <span style=\"font-weight: bold\">{</span>                                                                                                               │\n",
       "│     <span style=\"color: #008000; text-decoration-color: #008000\">'global'</span>: <span style=\"font-weight: bold\">{</span>                                                                                                 │\n",
       "│         <span style=\"color: #008000; text-decoration-color: #008000\">'accuracy'</span>: <span style=\"color: #008080; text-decoration-color: #008080; font-weight: bold\">0.9702</span>,                                                                                     │\n",
       "│         <span style=\"color: #008000; text-decoration-color: #008000\">'precision'</span>: <span style=\"color: #008080; text-decoration-color: #008080; font-weight: bold\">0.9702</span>,                                                                                    │\n",
       "│         <span style=\"color: #008000; text-decoration-color: #008000\">'recall'</span>: <span style=\"color: #008080; text-decoration-color: #008080; font-weight: bold\">0.9702</span>,                                                                                       │\n",
       "│         <span style=\"color: #008000; text-decoration-color: #008000\">'f1'</span>: <span style=\"color: #008080; text-decoration-color: #008080; font-weight: bold\">0.9702</span>,                                                                                           │\n",
       "│         <span style=\"color: #008000; text-decoration-color: #008000\">'loss'</span>: <span style=\"color: #008080; text-decoration-color: #008080; font-weight: bold\">1.49111</span>                                                                                         │\n",
       "│     <span style=\"font-weight: bold\">}</span>,                                                                                                          │\n",
       "│     <span style=\"color: #008000; text-decoration-color: #008000\">'comm_cost'</span>: <span style=\"color: #008080; text-decoration-color: #008080; font-weight: bold\">1599086</span>                                                                                        │\n",
       "│ <span style=\"font-weight: bold\">}</span>                                                                                                               │\n",
       "╰─────────────────────────────────────────────────────────────────────────────────────────────────────────────────╯\n",
       "<span style=\"color: #800000; text-decoration-color: #800000\">FL Rounds</span> <span style=\"color: #f92672; text-decoration-color: #f92672\">━━</span><span style=\"color: #3a3a3a; text-decoration-color: #3a3a3a\">╺━━━━━━━━━━━━━━━━━━━━━━━━━━━━━━━━━━━━━</span> <span style=\"color: #800080; text-decoration-color: #800080\">  6%</span> <span style=\"color: #008080; text-decoration-color: #008080\">0:02:53</span>\n",
       "<span style=\"color: #008000; text-decoration-color: #008000\">Local Training</span> <span style=\"color: #729c1f; text-decoration-color: #729c1f\">━━━━━━━━━━━━━━━━━━━━━━━━━━━━━━━━━━━━━━━━</span> <span style=\"color: #800080; text-decoration-color: #800080\">100%</span> <span style=\"color: #008080; text-decoration-color: #008080\">0:00:00</span></pre>\n"
      ],
      "text/plain": [
       "\r\u001b[2K\u001b[1A\u001b[2K╭─────────────────────────────────────────────────── Round: 6 ────────────────────────────────────────────────────╮\n",
       "│ \u001b[1m{\u001b[0m                                                                                                               │\n",
       "│     \u001b[32m'global'\u001b[0m: \u001b[1m{\u001b[0m                                                                                                 │\n",
       "│         \u001b[32m'accuracy'\u001b[0m: \u001b[1;36m0.9702\u001b[0m,                                                                                     │\n",
       "│         \u001b[32m'precision'\u001b[0m: \u001b[1;36m0.9702\u001b[0m,                                                                                    │\n",
       "│         \u001b[32m'recall'\u001b[0m: \u001b[1;36m0.9702\u001b[0m,                                                                                       │\n",
       "│         \u001b[32m'f1'\u001b[0m: \u001b[1;36m0.9702\u001b[0m,                                                                                           │\n",
       "│         \u001b[32m'loss'\u001b[0m: \u001b[1;36m1.49111\u001b[0m                                                                                         │\n",
       "│     \u001b[1m}\u001b[0m,                                                                                                          │\n",
       "│     \u001b[32m'comm_cost'\u001b[0m: \u001b[1;36m1599086\u001b[0m                                                                                        │\n",
       "│ \u001b[1m}\u001b[0m                                                                                                               │\n",
       "╰─────────────────────────────────────────────────────────────────────────────────────────────────────────────────╯\n",
       "\u001b[31mFL Rounds\u001b[0m \u001b[38;2;249;38;114m━━\u001b[0m\u001b[38;5;237m╺\u001b[0m\u001b[38;5;237m━━━━━━━━━━━━━━━━━━━━━━━━━━━━━━━━━━━━━\u001b[0m \u001b[35m  6%\u001b[0m \u001b[36m0:02:53\u001b[0m\n",
       "\u001b[32mLocal Training\u001b[0m \u001b[38;2;114;156;31m━━━━━━━━━━━━━━━━━━━━━━━━━━━━━━━━━━━━━━━━\u001b[0m \u001b[35m100%\u001b[0m \u001b[36m0:00:00\u001b[0m"
      ]
     },
     "metadata": {},
     "output_type": "display_data"
    },
    {
     "data": {
      "text/html": [
       "<pre style=\"white-space:pre;overflow-x:auto;line-height:normal;font-family:Menlo,'DejaVu Sans Mono',consolas,'Courier New',monospace\">  MEMORY USAGE: <span style=\"color: #008080; text-decoration-color: #008080; font-weight: bold\">3.14</span> %\n",
       "<span style=\"color: #800000; text-decoration-color: #800000\">FL Rounds</span> <span style=\"color: #f92672; text-decoration-color: #f92672\">━━</span><span style=\"color: #3a3a3a; text-decoration-color: #3a3a3a\">╺━━━━━━━━━━━━━━━━━━━━━━━━━━━━━━━━━━━━━</span> <span style=\"color: #800080; text-decoration-color: #800080\">  6%</span> <span style=\"color: #008080; text-decoration-color: #008080\">0:02:53</span>\n",
       "<span style=\"color: #008000; text-decoration-color: #008000\">Local Training</span> <span style=\"color: #729c1f; text-decoration-color: #729c1f\">━━━━━━━━━━━━━━━━━━━━━━━━━━━━━━━━━━━━━━━━</span> <span style=\"color: #800080; text-decoration-color: #800080\">100%</span> <span style=\"color: #008080; text-decoration-color: #008080\">0:00:00</span></pre>\n"
      ],
      "text/plain": [
       "\r\u001b[2K\u001b[1A\u001b[2K  MEMORY USAGE: \u001b[1;36m3.14\u001b[0m %\n",
       "\u001b[31mFL Rounds\u001b[0m \u001b[38;2;249;38;114m━━\u001b[0m\u001b[38;5;237m╺\u001b[0m\u001b[38;5;237m━━━━━━━━━━━━━━━━━━━━━━━━━━━━━━━━━━━━━\u001b[0m \u001b[35m  6%\u001b[0m \u001b[36m0:02:53\u001b[0m\n",
       "\u001b[32mLocal Training\u001b[0m \u001b[38;2;114;156;31m━━━━━━━━━━━━━━━━━━━━━━━━━━━━━━━━━━━━━━━━\u001b[0m \u001b[35m100%\u001b[0m \u001b[36m0:00:00\u001b[0m"
      ]
     },
     "metadata": {},
     "output_type": "display_data"
    },
    {
     "data": {
      "text/html": [
       "<pre style=\"white-space:pre;overflow-x:auto;line-height:normal;font-family:Menlo,'DejaVu Sans Mono',consolas,'Courier New',monospace\">╭─────────────────────────────────────────────────── Round: 7 ────────────────────────────────────────────────────╮\n",
       "│ <span style=\"font-weight: bold\">{</span>                                                                                                               │\n",
       "│     <span style=\"color: #008000; text-decoration-color: #008000\">'global'</span>: <span style=\"font-weight: bold\">{</span>                                                                                                 │\n",
       "│         <span style=\"color: #008000; text-decoration-color: #008000\">'accuracy'</span>: <span style=\"color: #008080; text-decoration-color: #008080; font-weight: bold\">0.9712</span>,                                                                                     │\n",
       "│         <span style=\"color: #008000; text-decoration-color: #008000\">'precision'</span>: <span style=\"color: #008080; text-decoration-color: #008080; font-weight: bold\">0.9712</span>,                                                                                    │\n",
       "│         <span style=\"color: #008000; text-decoration-color: #008000\">'recall'</span>: <span style=\"color: #008080; text-decoration-color: #008080; font-weight: bold\">0.9712</span>,                                                                                       │\n",
       "│         <span style=\"color: #008000; text-decoration-color: #008000\">'f1'</span>: <span style=\"color: #008080; text-decoration-color: #008080; font-weight: bold\">0.9712</span>,                                                                                           │\n",
       "│         <span style=\"color: #008000; text-decoration-color: #008000\">'loss'</span>: <span style=\"color: #008080; text-decoration-color: #008080; font-weight: bold\">1.49048</span>                                                                                         │\n",
       "│     <span style=\"font-weight: bold\">}</span>,                                                                                                          │\n",
       "│     <span style=\"color: #008000; text-decoration-color: #008000\">'comm_cost'</span>: <span style=\"color: #008080; text-decoration-color: #008080; font-weight: bold\">1599092</span>                                                                                        │\n",
       "│ <span style=\"font-weight: bold\">}</span>                                                                                                               │\n",
       "╰─────────────────────────────────────────────────────────────────────────────────────────────────────────────────╯\n",
       "<span style=\"color: #800000; text-decoration-color: #800000\">FL Rounds</span> <span style=\"color: #f92672; text-decoration-color: #f92672\">━━╸</span><span style=\"color: #3a3a3a; text-decoration-color: #3a3a3a\">━━━━━━━━━━━━━━━━━━━━━━━━━━━━━━━━━━━━━</span> <span style=\"color: #800080; text-decoration-color: #800080\">  7%</span> <span style=\"color: #008080; text-decoration-color: #008080\">0:02:49</span>\n",
       "<span style=\"color: #008000; text-decoration-color: #008000\">Local Training</span> <span style=\"color: #729c1f; text-decoration-color: #729c1f\">━━━━━━━━━━━━━━━━━━━━━━━━━━━━━━━━━━━━━━━━</span> <span style=\"color: #800080; text-decoration-color: #800080\">100%</span> <span style=\"color: #008080; text-decoration-color: #008080\">0:00:00</span></pre>\n"
      ],
      "text/plain": [
       "\r\u001b[2K\u001b[1A\u001b[2K╭─────────────────────────────────────────────────── Round: 7 ────────────────────────────────────────────────────╮\n",
       "│ \u001b[1m{\u001b[0m                                                                                                               │\n",
       "│     \u001b[32m'global'\u001b[0m: \u001b[1m{\u001b[0m                                                                                                 │\n",
       "│         \u001b[32m'accuracy'\u001b[0m: \u001b[1;36m0.9712\u001b[0m,                                                                                     │\n",
       "│         \u001b[32m'precision'\u001b[0m: \u001b[1;36m0.9712\u001b[0m,                                                                                    │\n",
       "│         \u001b[32m'recall'\u001b[0m: \u001b[1;36m0.9712\u001b[0m,                                                                                       │\n",
       "│         \u001b[32m'f1'\u001b[0m: \u001b[1;36m0.9712\u001b[0m,                                                                                           │\n",
       "│         \u001b[32m'loss'\u001b[0m: \u001b[1;36m1.49048\u001b[0m                                                                                         │\n",
       "│     \u001b[1m}\u001b[0m,                                                                                                          │\n",
       "│     \u001b[32m'comm_cost'\u001b[0m: \u001b[1;36m1599092\u001b[0m                                                                                        │\n",
       "│ \u001b[1m}\u001b[0m                                                                                                               │\n",
       "╰─────────────────────────────────────────────────────────────────────────────────────────────────────────────────╯\n",
       "\u001b[31mFL Rounds\u001b[0m \u001b[38;2;249;38;114m━━\u001b[0m\u001b[38;2;249;38;114m╸\u001b[0m\u001b[38;5;237m━━━━━━━━━━━━━━━━━━━━━━━━━━━━━━━━━━━━━\u001b[0m \u001b[35m  7%\u001b[0m \u001b[36m0:02:49\u001b[0m\n",
       "\u001b[32mLocal Training\u001b[0m \u001b[38;2;114;156;31m━━━━━━━━━━━━━━━━━━━━━━━━━━━━━━━━━━━━━━━━\u001b[0m \u001b[35m100%\u001b[0m \u001b[36m0:00:00\u001b[0m"
      ]
     },
     "metadata": {},
     "output_type": "display_data"
    },
    {
     "data": {
      "text/html": [
       "<pre style=\"white-space:pre;overflow-x:auto;line-height:normal;font-family:Menlo,'DejaVu Sans Mono',consolas,'Courier New',monospace\">  MEMORY USAGE: <span style=\"color: #008080; text-decoration-color: #008080; font-weight: bold\">3.14</span> %\n",
       "<span style=\"color: #800000; text-decoration-color: #800000\">FL Rounds</span> <span style=\"color: #f92672; text-decoration-color: #f92672\">━━╸</span><span style=\"color: #3a3a3a; text-decoration-color: #3a3a3a\">━━━━━━━━━━━━━━━━━━━━━━━━━━━━━━━━━━━━━</span> <span style=\"color: #800080; text-decoration-color: #800080\">  7%</span> <span style=\"color: #008080; text-decoration-color: #008080\">0:02:49</span>\n",
       "<span style=\"color: #008000; text-decoration-color: #008000\">Local Training</span> <span style=\"color: #729c1f; text-decoration-color: #729c1f\">━━━━━━━━━━━━━━━━━━━━━━━━━━━━━━━━━━━━━━━━</span> <span style=\"color: #800080; text-decoration-color: #800080\">100%</span> <span style=\"color: #008080; text-decoration-color: #008080\">0:00:00</span></pre>\n"
      ],
      "text/plain": [
       "\r\u001b[2K\u001b[1A\u001b[2K  MEMORY USAGE: \u001b[1;36m3.14\u001b[0m %\n",
       "\u001b[31mFL Rounds\u001b[0m \u001b[38;2;249;38;114m━━\u001b[0m\u001b[38;2;249;38;114m╸\u001b[0m\u001b[38;5;237m━━━━━━━━━━━━━━━━━━━━━━━━━━━━━━━━━━━━━\u001b[0m \u001b[35m  7%\u001b[0m \u001b[36m0:02:49\u001b[0m\n",
       "\u001b[32mLocal Training\u001b[0m \u001b[38;2;114;156;31m━━━━━━━━━━━━━━━━━━━━━━━━━━━━━━━━━━━━━━━━\u001b[0m \u001b[35m100%\u001b[0m \u001b[36m0:00:00\u001b[0m"
      ]
     },
     "metadata": {},
     "output_type": "display_data"
    },
    {
     "data": {
      "text/html": [
       "<pre style=\"white-space:pre;overflow-x:auto;line-height:normal;font-family:Menlo,'DejaVu Sans Mono',consolas,'Courier New',monospace\">╭─────────────────────────────────────────────────── Round: 8 ────────────────────────────────────────────────────╮\n",
       "│ <span style=\"font-weight: bold\">{</span>                                                                                                               │\n",
       "│     <span style=\"color: #008000; text-decoration-color: #008000\">'global'</span>: <span style=\"font-weight: bold\">{</span>                                                                                                 │\n",
       "│         <span style=\"color: #008000; text-decoration-color: #008000\">'accuracy'</span>: <span style=\"color: #008080; text-decoration-color: #008080; font-weight: bold\">0.9722</span>,                                                                                     │\n",
       "│         <span style=\"color: #008000; text-decoration-color: #008000\">'precision'</span>: <span style=\"color: #008080; text-decoration-color: #008080; font-weight: bold\">0.9722</span>,                                                                                    │\n",
       "│         <span style=\"color: #008000; text-decoration-color: #008000\">'recall'</span>: <span style=\"color: #008080; text-decoration-color: #008080; font-weight: bold\">0.9722</span>,                                                                                       │\n",
       "│         <span style=\"color: #008000; text-decoration-color: #008000\">'f1'</span>: <span style=\"color: #008080; text-decoration-color: #008080; font-weight: bold\">0.9722</span>,                                                                                           │\n",
       "│         <span style=\"color: #008000; text-decoration-color: #008000\">'loss'</span>: <span style=\"color: #008080; text-decoration-color: #008080; font-weight: bold\">1.489</span>                                                                                           │\n",
       "│     <span style=\"font-weight: bold\">}</span>,                                                                                                          │\n",
       "│     <span style=\"color: #008000; text-decoration-color: #008000\">'comm_cost'</span>: <span style=\"color: #008080; text-decoration-color: #008080; font-weight: bold\">1599080</span>                                                                                        │\n",
       "│ <span style=\"font-weight: bold\">}</span>                                                                                                               │\n",
       "╰─────────────────────────────────────────────────────────────────────────────────────────────────────────────────╯\n",
       "<span style=\"color: #800000; text-decoration-color: #800000\">FL Rounds</span> <span style=\"color: #f92672; text-decoration-color: #f92672\">━━━</span><span style=\"color: #3a3a3a; text-decoration-color: #3a3a3a\">╺━━━━━━━━━━━━━━━━━━━━━━━━━━━━━━━━━━━━</span> <span style=\"color: #800080; text-decoration-color: #800080\">  8%</span> <span style=\"color: #008080; text-decoration-color: #008080\">0:02:49</span>\n",
       "<span style=\"color: #008000; text-decoration-color: #008000\">Local Training</span> <span style=\"color: #729c1f; text-decoration-color: #729c1f\">━━━━━━━━━━━━━━━━━━━━━━━━━━━━━━━━━━━━━━━━</span> <span style=\"color: #800080; text-decoration-color: #800080\">100%</span> <span style=\"color: #008080; text-decoration-color: #008080\">0:00:00</span></pre>\n"
      ],
      "text/plain": [
       "\r\u001b[2K\u001b[1A\u001b[2K╭─────────────────────────────────────────────────── Round: 8 ────────────────────────────────────────────────────╮\n",
       "│ \u001b[1m{\u001b[0m                                                                                                               │\n",
       "│     \u001b[32m'global'\u001b[0m: \u001b[1m{\u001b[0m                                                                                                 │\n",
       "│         \u001b[32m'accuracy'\u001b[0m: \u001b[1;36m0.9722\u001b[0m,                                                                                     │\n",
       "│         \u001b[32m'precision'\u001b[0m: \u001b[1;36m0.9722\u001b[0m,                                                                                    │\n",
       "│         \u001b[32m'recall'\u001b[0m: \u001b[1;36m0.9722\u001b[0m,                                                                                       │\n",
       "│         \u001b[32m'f1'\u001b[0m: \u001b[1;36m0.9722\u001b[0m,                                                                                           │\n",
       "│         \u001b[32m'loss'\u001b[0m: \u001b[1;36m1.489\u001b[0m                                                                                           │\n",
       "│     \u001b[1m}\u001b[0m,                                                                                                          │\n",
       "│     \u001b[32m'comm_cost'\u001b[0m: \u001b[1;36m1599080\u001b[0m                                                                                        │\n",
       "│ \u001b[1m}\u001b[0m                                                                                                               │\n",
       "╰─────────────────────────────────────────────────────────────────────────────────────────────────────────────────╯\n",
       "\u001b[31mFL Rounds\u001b[0m \u001b[38;2;249;38;114m━━━\u001b[0m\u001b[38;5;237m╺\u001b[0m\u001b[38;5;237m━━━━━━━━━━━━━━━━━━━━━━━━━━━━━━━━━━━━\u001b[0m \u001b[35m  8%\u001b[0m \u001b[36m0:02:49\u001b[0m\n",
       "\u001b[32mLocal Training\u001b[0m \u001b[38;2;114;156;31m━━━━━━━━━━━━━━━━━━━━━━━━━━━━━━━━━━━━━━━━\u001b[0m \u001b[35m100%\u001b[0m \u001b[36m0:00:00\u001b[0m"
      ]
     },
     "metadata": {},
     "output_type": "display_data"
    },
    {
     "data": {
      "text/html": [
       "<pre style=\"white-space:pre;overflow-x:auto;line-height:normal;font-family:Menlo,'DejaVu Sans Mono',consolas,'Courier New',monospace\">  MEMORY USAGE: <span style=\"color: #008080; text-decoration-color: #008080; font-weight: bold\">3.14</span> %\n",
       "<span style=\"color: #800000; text-decoration-color: #800000\">FL Rounds</span> <span style=\"color: #f92672; text-decoration-color: #f92672\">━━━</span><span style=\"color: #3a3a3a; text-decoration-color: #3a3a3a\">╺━━━━━━━━━━━━━━━━━━━━━━━━━━━━━━━━━━━━</span> <span style=\"color: #800080; text-decoration-color: #800080\">  8%</span> <span style=\"color: #008080; text-decoration-color: #008080\">0:02:49</span>\n",
       "<span style=\"color: #008000; text-decoration-color: #008000\">Local Training</span> <span style=\"color: #729c1f; text-decoration-color: #729c1f\">━━━━━━━━━━━━━━━━━━━━━━━━━━━━━━━━━━━━━━━━</span> <span style=\"color: #800080; text-decoration-color: #800080\">100%</span> <span style=\"color: #008080; text-decoration-color: #008080\">0:00:00</span></pre>\n"
      ],
      "text/plain": [
       "\r\u001b[2K\u001b[1A\u001b[2K  MEMORY USAGE: \u001b[1;36m3.14\u001b[0m %\n",
       "\u001b[31mFL Rounds\u001b[0m \u001b[38;2;249;38;114m━━━\u001b[0m\u001b[38;5;237m╺\u001b[0m\u001b[38;5;237m━━━━━━━━━━━━━━━━━━━━━━━━━━━━━━━━━━━━\u001b[0m \u001b[35m  8%\u001b[0m \u001b[36m0:02:49\u001b[0m\n",
       "\u001b[32mLocal Training\u001b[0m \u001b[38;2;114;156;31m━━━━━━━━━━━━━━━━━━━━━━━━━━━━━━━━━━━━━━━━\u001b[0m \u001b[35m100%\u001b[0m \u001b[36m0:00:00\u001b[0m"
      ]
     },
     "metadata": {},
     "output_type": "display_data"
    },
    {
     "data": {
      "text/html": [
       "<pre style=\"white-space:pre;overflow-x:auto;line-height:normal;font-family:Menlo,'DejaVu Sans Mono',consolas,'Courier New',monospace\">╭─────────────────────────────────────────────────── Round: 9 ────────────────────────────────────────────────────╮\n",
       "│ <span style=\"font-weight: bold\">{</span>                                                                                                               │\n",
       "│     <span style=\"color: #008000; text-decoration-color: #008000\">'global'</span>: <span style=\"font-weight: bold\">{</span>                                                                                                 │\n",
       "│         <span style=\"color: #008000; text-decoration-color: #008000\">'accuracy'</span>: <span style=\"color: #008080; text-decoration-color: #008080; font-weight: bold\">0.9749</span>,                                                                                     │\n",
       "│         <span style=\"color: #008000; text-decoration-color: #008000\">'precision'</span>: <span style=\"color: #008080; text-decoration-color: #008080; font-weight: bold\">0.9749</span>,                                                                                    │\n",
       "│         <span style=\"color: #008000; text-decoration-color: #008000\">'recall'</span>: <span style=\"color: #008080; text-decoration-color: #008080; font-weight: bold\">0.9749</span>,                                                                                       │\n",
       "│         <span style=\"color: #008000; text-decoration-color: #008000\">'f1'</span>: <span style=\"color: #008080; text-decoration-color: #008080; font-weight: bold\">0.9749</span>,                                                                                           │\n",
       "│         <span style=\"color: #008000; text-decoration-color: #008000\">'loss'</span>: <span style=\"color: #008080; text-decoration-color: #008080; font-weight: bold\">1.48843</span>                                                                                         │\n",
       "│     <span style=\"font-weight: bold\">}</span>,                                                                                                          │\n",
       "│     <span style=\"color: #008000; text-decoration-color: #008000\">'comm_cost'</span>: <span style=\"color: #008080; text-decoration-color: #008080; font-weight: bold\">1599084</span>                                                                                        │\n",
       "│ <span style=\"font-weight: bold\">}</span>                                                                                                               │\n",
       "╰─────────────────────────────────────────────────────────────────────────────────────────────────────────────────╯\n",
       "<span style=\"color: #800000; text-decoration-color: #800000\">FL Rounds</span> <span style=\"color: #f92672; text-decoration-color: #f92672\">━━━╸</span><span style=\"color: #3a3a3a; text-decoration-color: #3a3a3a\">━━━━━━━━━━━━━━━━━━━━━━━━━━━━━━━━━━━━</span> <span style=\"color: #800080; text-decoration-color: #800080\">  9%</span> <span style=\"color: #008080; text-decoration-color: #008080\">0:02:46</span>\n",
       "<span style=\"color: #008000; text-decoration-color: #008000\">Local Training</span> <span style=\"color: #729c1f; text-decoration-color: #729c1f\">━━━━━━━━━━━━━━━━━━━━━━━━━━━━━━━━━━━━━━━━</span> <span style=\"color: #800080; text-decoration-color: #800080\">100%</span> <span style=\"color: #008080; text-decoration-color: #008080\">0:00:00</span></pre>\n"
      ],
      "text/plain": [
       "\r\u001b[2K\u001b[1A\u001b[2K╭─────────────────────────────────────────────────── Round: 9 ────────────────────────────────────────────────────╮\n",
       "│ \u001b[1m{\u001b[0m                                                                                                               │\n",
       "│     \u001b[32m'global'\u001b[0m: \u001b[1m{\u001b[0m                                                                                                 │\n",
       "│         \u001b[32m'accuracy'\u001b[0m: \u001b[1;36m0.9749\u001b[0m,                                                                                     │\n",
       "│         \u001b[32m'precision'\u001b[0m: \u001b[1;36m0.9749\u001b[0m,                                                                                    │\n",
       "│         \u001b[32m'recall'\u001b[0m: \u001b[1;36m0.9749\u001b[0m,                                                                                       │\n",
       "│         \u001b[32m'f1'\u001b[0m: \u001b[1;36m0.9749\u001b[0m,                                                                                           │\n",
       "│         \u001b[32m'loss'\u001b[0m: \u001b[1;36m1.48843\u001b[0m                                                                                         │\n",
       "│     \u001b[1m}\u001b[0m,                                                                                                          │\n",
       "│     \u001b[32m'comm_cost'\u001b[0m: \u001b[1;36m1599084\u001b[0m                                                                                        │\n",
       "│ \u001b[1m}\u001b[0m                                                                                                               │\n",
       "╰─────────────────────────────────────────────────────────────────────────────────────────────────────────────────╯\n",
       "\u001b[31mFL Rounds\u001b[0m \u001b[38;2;249;38;114m━━━\u001b[0m\u001b[38;2;249;38;114m╸\u001b[0m\u001b[38;5;237m━━━━━━━━━━━━━━━━━━━━━━━━━━━━━━━━━━━━\u001b[0m \u001b[35m  9%\u001b[0m \u001b[36m0:02:46\u001b[0m\n",
       "\u001b[32mLocal Training\u001b[0m \u001b[38;2;114;156;31m━━━━━━━━━━━━━━━━━━━━━━━━━━━━━━━━━━━━━━━━\u001b[0m \u001b[35m100%\u001b[0m \u001b[36m0:00:00\u001b[0m"
      ]
     },
     "metadata": {},
     "output_type": "display_data"
    },
    {
     "data": {
      "text/html": [
       "<pre style=\"white-space:pre;overflow-x:auto;line-height:normal;font-family:Menlo,'DejaVu Sans Mono',consolas,'Courier New',monospace\">  MEMORY USAGE: <span style=\"color: #008080; text-decoration-color: #008080; font-weight: bold\">3.14</span> %\n",
       "<span style=\"color: #800000; text-decoration-color: #800000\">FL Rounds</span> <span style=\"color: #f92672; text-decoration-color: #f92672\">━━━╸</span><span style=\"color: #3a3a3a; text-decoration-color: #3a3a3a\">━━━━━━━━━━━━━━━━━━━━━━━━━━━━━━━━━━━━</span> <span style=\"color: #800080; text-decoration-color: #800080\">  9%</span> <span style=\"color: #008080; text-decoration-color: #008080\">0:02:46</span>\n",
       "<span style=\"color: #008000; text-decoration-color: #008000\">Local Training</span> <span style=\"color: #729c1f; text-decoration-color: #729c1f\">━━━━━━━━━━━━━━━━━━━━━━━━━━━━━━━━━━━━━━━━</span> <span style=\"color: #800080; text-decoration-color: #800080\">100%</span> <span style=\"color: #008080; text-decoration-color: #008080\">0:00:00</span></pre>\n"
      ],
      "text/plain": [
       "\r\u001b[2K\u001b[1A\u001b[2K  MEMORY USAGE: \u001b[1;36m3.14\u001b[0m %\n",
       "\u001b[31mFL Rounds\u001b[0m \u001b[38;2;249;38;114m━━━\u001b[0m\u001b[38;2;249;38;114m╸\u001b[0m\u001b[38;5;237m━━━━━━━━━━━━━━━━━━━━━━━━━━━━━━━━━━━━\u001b[0m \u001b[35m  9%\u001b[0m \u001b[36m0:02:46\u001b[0m\n",
       "\u001b[32mLocal Training\u001b[0m \u001b[38;2;114;156;31m━━━━━━━━━━━━━━━━━━━━━━━━━━━━━━━━━━━━━━━━\u001b[0m \u001b[35m100%\u001b[0m \u001b[36m0:00:00\u001b[0m"
      ]
     },
     "metadata": {},
     "output_type": "display_data"
    },
    {
     "data": {
      "text/html": [
       "<pre style=\"white-space:pre;overflow-x:auto;line-height:normal;font-family:Menlo,'DejaVu Sans Mono',consolas,'Courier New',monospace\">╭─────────────────────────────────────────────────── Round: 10 ───────────────────────────────────────────────────╮\n",
       "│ <span style=\"font-weight: bold\">{</span>                                                                                                               │\n",
       "│     <span style=\"color: #008000; text-decoration-color: #008000\">'global'</span>: <span style=\"font-weight: bold\">{</span>                                                                                                 │\n",
       "│         <span style=\"color: #008000; text-decoration-color: #008000\">'accuracy'</span>: <span style=\"color: #008080; text-decoration-color: #008080; font-weight: bold\">0.9746</span>,                                                                                     │\n",
       "│         <span style=\"color: #008000; text-decoration-color: #008000\">'precision'</span>: <span style=\"color: #008080; text-decoration-color: #008080; font-weight: bold\">0.9746</span>,                                                                                    │\n",
       "│         <span style=\"color: #008000; text-decoration-color: #008000\">'recall'</span>: <span style=\"color: #008080; text-decoration-color: #008080; font-weight: bold\">0.9746</span>,                                                                                       │\n",
       "│         <span style=\"color: #008000; text-decoration-color: #008000\">'f1'</span>: <span style=\"color: #008080; text-decoration-color: #008080; font-weight: bold\">0.9746</span>,                                                                                           │\n",
       "│         <span style=\"color: #008000; text-decoration-color: #008000\">'loss'</span>: <span style=\"color: #008080; text-decoration-color: #008080; font-weight: bold\">1.48751</span>                                                                                         │\n",
       "│     <span style=\"font-weight: bold\">}</span>,                                                                                                          │\n",
       "│     <span style=\"color: #008000; text-decoration-color: #008000\">'comm_cost'</span>: <span style=\"color: #008080; text-decoration-color: #008080; font-weight: bold\">1599080</span>                                                                                        │\n",
       "│ <span style=\"font-weight: bold\">}</span>                                                                                                               │\n",
       "╰─────────────────────────────────────────────────────────────────────────────────────────────────────────────────╯\n",
       "<span style=\"color: #800000; text-decoration-color: #800000\">FL Rounds</span> <span style=\"color: #f92672; text-decoration-color: #f92672\">━━━━</span><span style=\"color: #3a3a3a; text-decoration-color: #3a3a3a\">╺━━━━━━━━━━━━━━━━━━━━━━━━━━━━━━━━━━━</span> <span style=\"color: #800080; text-decoration-color: #800080\"> 10%</span> <span style=\"color: #008080; text-decoration-color: #008080\">0:02:44</span>\n",
       "<span style=\"color: #008000; text-decoration-color: #008000\">Local Training</span> <span style=\"color: #729c1f; text-decoration-color: #729c1f\">━━━━━━━━━━━━━━━━━━━━━━━━━━━━━━━━━━━━━━━━</span> <span style=\"color: #800080; text-decoration-color: #800080\">100%</span> <span style=\"color: #008080; text-decoration-color: #008080\">0:00:00</span></pre>\n"
      ],
      "text/plain": [
       "\r\u001b[2K\u001b[1A\u001b[2K╭─────────────────────────────────────────────────── Round: 10 ───────────────────────────────────────────────────╮\n",
       "│ \u001b[1m{\u001b[0m                                                                                                               │\n",
       "│     \u001b[32m'global'\u001b[0m: \u001b[1m{\u001b[0m                                                                                                 │\n",
       "│         \u001b[32m'accuracy'\u001b[0m: \u001b[1;36m0.9746\u001b[0m,                                                                                     │\n",
       "│         \u001b[32m'precision'\u001b[0m: \u001b[1;36m0.9746\u001b[0m,                                                                                    │\n",
       "│         \u001b[32m'recall'\u001b[0m: \u001b[1;36m0.9746\u001b[0m,                                                                                       │\n",
       "│         \u001b[32m'f1'\u001b[0m: \u001b[1;36m0.9746\u001b[0m,                                                                                           │\n",
       "│         \u001b[32m'loss'\u001b[0m: \u001b[1;36m1.48751\u001b[0m                                                                                         │\n",
       "│     \u001b[1m}\u001b[0m,                                                                                                          │\n",
       "│     \u001b[32m'comm_cost'\u001b[0m: \u001b[1;36m1599080\u001b[0m                                                                                        │\n",
       "│ \u001b[1m}\u001b[0m                                                                                                               │\n",
       "╰─────────────────────────────────────────────────────────────────────────────────────────────────────────────────╯\n",
       "\u001b[31mFL Rounds\u001b[0m \u001b[38;2;249;38;114m━━━━\u001b[0m\u001b[38;5;237m╺\u001b[0m\u001b[38;5;237m━━━━━━━━━━━━━━━━━━━━━━━━━━━━━━━━━━━\u001b[0m \u001b[35m 10%\u001b[0m \u001b[36m0:02:44\u001b[0m\n",
       "\u001b[32mLocal Training\u001b[0m \u001b[38;2;114;156;31m━━━━━━━━━━━━━━━━━━━━━━━━━━━━━━━━━━━━━━━━\u001b[0m \u001b[35m100%\u001b[0m \u001b[36m0:00:00\u001b[0m"
      ]
     },
     "metadata": {},
     "output_type": "display_data"
    },
    {
     "data": {
      "text/html": [
       "<pre style=\"white-space:pre;overflow-x:auto;line-height:normal;font-family:Menlo,'DejaVu Sans Mono',consolas,'Courier New',monospace\">  MEMORY USAGE: <span style=\"color: #008080; text-decoration-color: #008080; font-weight: bold\">3.14</span> %\n",
       "<span style=\"color: #800000; text-decoration-color: #800000\">FL Rounds</span> <span style=\"color: #f92672; text-decoration-color: #f92672\">━━━━</span><span style=\"color: #3a3a3a; text-decoration-color: #3a3a3a\">╺━━━━━━━━━━━━━━━━━━━━━━━━━━━━━━━━━━━</span> <span style=\"color: #800080; text-decoration-color: #800080\"> 10%</span> <span style=\"color: #008080; text-decoration-color: #008080\">0:02:44</span>\n",
       "<span style=\"color: #008000; text-decoration-color: #008000\">Local Training</span> <span style=\"color: #729c1f; text-decoration-color: #729c1f\">━━━━━━━━━━━━━━━━━━━━━━━━━━━━━━━━━━━━━━━━</span> <span style=\"color: #800080; text-decoration-color: #800080\">100%</span> <span style=\"color: #008080; text-decoration-color: #008080\">0:00:00</span></pre>\n"
      ],
      "text/plain": [
       "\r\u001b[2K\u001b[1A\u001b[2K  MEMORY USAGE: \u001b[1;36m3.14\u001b[0m %\n",
       "\u001b[31mFL Rounds\u001b[0m \u001b[38;2;249;38;114m━━━━\u001b[0m\u001b[38;5;237m╺\u001b[0m\u001b[38;5;237m━━━━━━━━━━━━━━━━━━━━━━━━━━━━━━━━━━━\u001b[0m \u001b[35m 10%\u001b[0m \u001b[36m0:02:44\u001b[0m\n",
       "\u001b[32mLocal Training\u001b[0m \u001b[38;2;114;156;31m━━━━━━━━━━━━━━━━━━━━━━━━━━━━━━━━━━━━━━━━\u001b[0m \u001b[35m100%\u001b[0m \u001b[36m0:00:00\u001b[0m"
      ]
     },
     "metadata": {},
     "output_type": "display_data"
    },
    {
     "data": {
      "text/html": [
       "<pre style=\"white-space:pre;overflow-x:auto;line-height:normal;font-family:Menlo,'DejaVu Sans Mono',consolas,'Courier New',monospace\">╭─────────────────────────────────────────────────── Round: 11 ───────────────────────────────────────────────────╮\n",
       "│ <span style=\"font-weight: bold\">{</span>                                                                                                               │\n",
       "│     <span style=\"color: #008000; text-decoration-color: #008000\">'global'</span>: <span style=\"font-weight: bold\">{</span>                                                                                                 │\n",
       "│         <span style=\"color: #008000; text-decoration-color: #008000\">'accuracy'</span>: <span style=\"color: #008080; text-decoration-color: #008080; font-weight: bold\">0.972</span>,                                                                                      │\n",
       "│         <span style=\"color: #008000; text-decoration-color: #008000\">'precision'</span>: <span style=\"color: #008080; text-decoration-color: #008080; font-weight: bold\">0.972</span>,                                                                                     │\n",
       "│         <span style=\"color: #008000; text-decoration-color: #008000\">'recall'</span>: <span style=\"color: #008080; text-decoration-color: #008080; font-weight: bold\">0.972</span>,                                                                                        │\n",
       "│         <span style=\"color: #008000; text-decoration-color: #008000\">'f1'</span>: <span style=\"color: #008080; text-decoration-color: #008080; font-weight: bold\">0.972</span>,                                                                                            │\n",
       "│         <span style=\"color: #008000; text-decoration-color: #008000\">'loss'</span>: <span style=\"color: #008080; text-decoration-color: #008080; font-weight: bold\">1.48782</span>                                                                                         │\n",
       "│     <span style=\"font-weight: bold\">}</span>,                                                                                                          │\n",
       "│     <span style=\"color: #008000; text-decoration-color: #008000\">'comm_cost'</span>: <span style=\"color: #008080; text-decoration-color: #008080; font-weight: bold\">1599080</span>                                                                                        │\n",
       "│ <span style=\"font-weight: bold\">}</span>                                                                                                               │\n",
       "╰─────────────────────────────────────────────────────────────────────────────────────────────────────────────────╯\n",
       "<span style=\"color: #800000; text-decoration-color: #800000\">FL Rounds</span> <span style=\"color: #f92672; text-decoration-color: #f92672\">━━━━</span><span style=\"color: #3a3a3a; text-decoration-color: #3a3a3a\">╺━━━━━━━━━━━━━━━━━━━━━━━━━━━━━━━━━━━</span> <span style=\"color: #800080; text-decoration-color: #800080\"> 11%</span> <span style=\"color: #008080; text-decoration-color: #008080\">0:02:42</span>\n",
       "<span style=\"color: #008000; text-decoration-color: #008000\">Local Training</span> <span style=\"color: #729c1f; text-decoration-color: #729c1f\">━━━━━━━━━━━━━━━━━━━━━━━━━━━━━━━━━━━━━━━━</span> <span style=\"color: #800080; text-decoration-color: #800080\">100%</span> <span style=\"color: #008080; text-decoration-color: #008080\">0:00:00</span></pre>\n"
      ],
      "text/plain": [
       "\r\u001b[2K\u001b[1A\u001b[2K╭─────────────────────────────────────────────────── Round: 11 ───────────────────────────────────────────────────╮\n",
       "│ \u001b[1m{\u001b[0m                                                                                                               │\n",
       "│     \u001b[32m'global'\u001b[0m: \u001b[1m{\u001b[0m                                                                                                 │\n",
       "│         \u001b[32m'accuracy'\u001b[0m: \u001b[1;36m0.972\u001b[0m,                                                                                      │\n",
       "│         \u001b[32m'precision'\u001b[0m: \u001b[1;36m0.972\u001b[0m,                                                                                     │\n",
       "│         \u001b[32m'recall'\u001b[0m: \u001b[1;36m0.972\u001b[0m,                                                                                        │\n",
       "│         \u001b[32m'f1'\u001b[0m: \u001b[1;36m0.972\u001b[0m,                                                                                            │\n",
       "│         \u001b[32m'loss'\u001b[0m: \u001b[1;36m1.48782\u001b[0m                                                                                         │\n",
       "│     \u001b[1m}\u001b[0m,                                                                                                          │\n",
       "│     \u001b[32m'comm_cost'\u001b[0m: \u001b[1;36m1599080\u001b[0m                                                                                        │\n",
       "│ \u001b[1m}\u001b[0m                                                                                                               │\n",
       "╰─────────────────────────────────────────────────────────────────────────────────────────────────────────────────╯\n",
       "\u001b[31mFL Rounds\u001b[0m \u001b[38;2;249;38;114m━━━━\u001b[0m\u001b[38;5;237m╺\u001b[0m\u001b[38;5;237m━━━━━━━━━━━━━━━━━━━━━━━━━━━━━━━━━━━\u001b[0m \u001b[35m 11%\u001b[0m \u001b[36m0:02:42\u001b[0m\n",
       "\u001b[32mLocal Training\u001b[0m \u001b[38;2;114;156;31m━━━━━━━━━━━━━━━━━━━━━━━━━━━━━━━━━━━━━━━━\u001b[0m \u001b[35m100%\u001b[0m \u001b[36m0:00:00\u001b[0m"
      ]
     },
     "metadata": {},
     "output_type": "display_data"
    },
    {
     "data": {
      "text/html": [
       "<pre style=\"white-space:pre;overflow-x:auto;line-height:normal;font-family:Menlo,'DejaVu Sans Mono',consolas,'Courier New',monospace\">  MEMORY USAGE: <span style=\"color: #008080; text-decoration-color: #008080; font-weight: bold\">3.14</span> %\n",
       "<span style=\"color: #800000; text-decoration-color: #800000\">FL Rounds</span> <span style=\"color: #f92672; text-decoration-color: #f92672\">━━━━</span><span style=\"color: #3a3a3a; text-decoration-color: #3a3a3a\">╺━━━━━━━━━━━━━━━━━━━━━━━━━━━━━━━━━━━</span> <span style=\"color: #800080; text-decoration-color: #800080\"> 11%</span> <span style=\"color: #008080; text-decoration-color: #008080\">0:02:42</span>\n",
       "<span style=\"color: #008000; text-decoration-color: #008000\">Local Training</span> <span style=\"color: #729c1f; text-decoration-color: #729c1f\">━━━━━━━━━━━━━━━━━━━━━━━━━━━━━━━━━━━━━━━━</span> <span style=\"color: #800080; text-decoration-color: #800080\">100%</span> <span style=\"color: #008080; text-decoration-color: #008080\">0:00:00</span></pre>\n"
      ],
      "text/plain": [
       "\r\u001b[2K\u001b[1A\u001b[2K  MEMORY USAGE: \u001b[1;36m3.14\u001b[0m %\n",
       "\u001b[31mFL Rounds\u001b[0m \u001b[38;2;249;38;114m━━━━\u001b[0m\u001b[38;5;237m╺\u001b[0m\u001b[38;5;237m━━━━━━━━━━━━━━━━━━━━━━━━━━━━━━━━━━━\u001b[0m \u001b[35m 11%\u001b[0m \u001b[36m0:02:42\u001b[0m\n",
       "\u001b[32mLocal Training\u001b[0m \u001b[38;2;114;156;31m━━━━━━━━━━━━━━━━━━━━━━━━━━━━━━━━━━━━━━━━\u001b[0m \u001b[35m100%\u001b[0m \u001b[36m0:00:00\u001b[0m"
      ]
     },
     "metadata": {},
     "output_type": "display_data"
    },
    {
     "data": {
      "text/html": [
       "<pre style=\"white-space:pre;overflow-x:auto;line-height:normal;font-family:Menlo,'DejaVu Sans Mono',consolas,'Courier New',monospace\">╭─────────────────────────────────────────────────── Round: 12 ───────────────────────────────────────────────────╮\n",
       "│ <span style=\"font-weight: bold\">{</span>                                                                                                               │\n",
       "│     <span style=\"color: #008000; text-decoration-color: #008000\">'global'</span>: <span style=\"font-weight: bold\">{</span>                                                                                                 │\n",
       "│         <span style=\"color: #008000; text-decoration-color: #008000\">'accuracy'</span>: <span style=\"color: #008080; text-decoration-color: #008080; font-weight: bold\">0.9748</span>,                                                                                     │\n",
       "│         <span style=\"color: #008000; text-decoration-color: #008000\">'precision'</span>: <span style=\"color: #008080; text-decoration-color: #008080; font-weight: bold\">0.9748</span>,                                                                                    │\n",
       "│         <span style=\"color: #008000; text-decoration-color: #008000\">'recall'</span>: <span style=\"color: #008080; text-decoration-color: #008080; font-weight: bold\">0.9748</span>,                                                                                       │\n",
       "│         <span style=\"color: #008000; text-decoration-color: #008000\">'f1'</span>: <span style=\"color: #008080; text-decoration-color: #008080; font-weight: bold\">0.9748</span>,                                                                                           │\n",
       "│         <span style=\"color: #008000; text-decoration-color: #008000\">'loss'</span>: <span style=\"color: #008080; text-decoration-color: #008080; font-weight: bold\">1.48615</span>                                                                                         │\n",
       "│     <span style=\"font-weight: bold\">}</span>,                                                                                                          │\n",
       "│     <span style=\"color: #008000; text-decoration-color: #008000\">'comm_cost'</span>: <span style=\"color: #008080; text-decoration-color: #008080; font-weight: bold\">1599080</span>                                                                                        │\n",
       "│ <span style=\"font-weight: bold\">}</span>                                                                                                               │\n",
       "╰─────────────────────────────────────────────────────────────────────────────────────────────────────────────────╯\n",
       "<span style=\"color: #800000; text-decoration-color: #800000\">FL Rounds</span> <span style=\"color: #f92672; text-decoration-color: #f92672\">━━━━╸</span><span style=\"color: #3a3a3a; text-decoration-color: #3a3a3a\">━━━━━━━━━━━━━━━━━━━━━━━━━━━━━━━━━━━</span> <span style=\"color: #800080; text-decoration-color: #800080\"> 12%</span> <span style=\"color: #008080; text-decoration-color: #008080\">0:02:39</span>\n",
       "<span style=\"color: #008000; text-decoration-color: #008000\">Local Training</span> <span style=\"color: #729c1f; text-decoration-color: #729c1f\">━━━━━━━━━━━━━━━━━━━━━━━━━━━━━━━━━━━━━━━━</span> <span style=\"color: #800080; text-decoration-color: #800080\">100%</span> <span style=\"color: #008080; text-decoration-color: #008080\">0:00:00</span></pre>\n"
      ],
      "text/plain": [
       "\r\u001b[2K\u001b[1A\u001b[2K╭─────────────────────────────────────────────────── Round: 12 ───────────────────────────────────────────────────╮\n",
       "│ \u001b[1m{\u001b[0m                                                                                                               │\n",
       "│     \u001b[32m'global'\u001b[0m: \u001b[1m{\u001b[0m                                                                                                 │\n",
       "│         \u001b[32m'accuracy'\u001b[0m: \u001b[1;36m0.9748\u001b[0m,                                                                                     │\n",
       "│         \u001b[32m'precision'\u001b[0m: \u001b[1;36m0.9748\u001b[0m,                                                                                    │\n",
       "│         \u001b[32m'recall'\u001b[0m: \u001b[1;36m0.9748\u001b[0m,                                                                                       │\n",
       "│         \u001b[32m'f1'\u001b[0m: \u001b[1;36m0.9748\u001b[0m,                                                                                           │\n",
       "│         \u001b[32m'loss'\u001b[0m: \u001b[1;36m1.48615\u001b[0m                                                                                         │\n",
       "│     \u001b[1m}\u001b[0m,                                                                                                          │\n",
       "│     \u001b[32m'comm_cost'\u001b[0m: \u001b[1;36m1599080\u001b[0m                                                                                        │\n",
       "│ \u001b[1m}\u001b[0m                                                                                                               │\n",
       "╰─────────────────────────────────────────────────────────────────────────────────────────────────────────────────╯\n",
       "\u001b[31mFL Rounds\u001b[0m \u001b[38;2;249;38;114m━━━━\u001b[0m\u001b[38;2;249;38;114m╸\u001b[0m\u001b[38;5;237m━━━━━━━━━━━━━━━━━━━━━━━━━━━━━━━━━━━\u001b[0m \u001b[35m 12%\u001b[0m \u001b[36m0:02:39\u001b[0m\n",
       "\u001b[32mLocal Training\u001b[0m \u001b[38;2;114;156;31m━━━━━━━━━━━━━━━━━━━━━━━━━━━━━━━━━━━━━━━━\u001b[0m \u001b[35m100%\u001b[0m \u001b[36m0:00:00\u001b[0m"
      ]
     },
     "metadata": {},
     "output_type": "display_data"
    },
    {
     "data": {
      "text/html": [
       "<pre style=\"white-space:pre;overflow-x:auto;line-height:normal;font-family:Menlo,'DejaVu Sans Mono',consolas,'Courier New',monospace\">  MEMORY USAGE: <span style=\"color: #008080; text-decoration-color: #008080; font-weight: bold\">3.14</span> %\n",
       "<span style=\"color: #800000; text-decoration-color: #800000\">FL Rounds</span> <span style=\"color: #f92672; text-decoration-color: #f92672\">━━━━╸</span><span style=\"color: #3a3a3a; text-decoration-color: #3a3a3a\">━━━━━━━━━━━━━━━━━━━━━━━━━━━━━━━━━━━</span> <span style=\"color: #800080; text-decoration-color: #800080\"> 12%</span> <span style=\"color: #008080; text-decoration-color: #008080\">0:02:39</span>\n",
       "<span style=\"color: #008000; text-decoration-color: #008000\">Local Training</span> <span style=\"color: #729c1f; text-decoration-color: #729c1f\">━━━━━━━━━━━━━━━━━━━━━━━━━━━━━━━━━━━━━━━━</span> <span style=\"color: #800080; text-decoration-color: #800080\">100%</span> <span style=\"color: #008080; text-decoration-color: #008080\">0:00:00</span></pre>\n"
      ],
      "text/plain": [
       "\r\u001b[2K\u001b[1A\u001b[2K  MEMORY USAGE: \u001b[1;36m3.14\u001b[0m %\n",
       "\u001b[31mFL Rounds\u001b[0m \u001b[38;2;249;38;114m━━━━\u001b[0m\u001b[38;2;249;38;114m╸\u001b[0m\u001b[38;5;237m━━━━━━━━━━━━━━━━━━━━━━━━━━━━━━━━━━━\u001b[0m \u001b[35m 12%\u001b[0m \u001b[36m0:02:39\u001b[0m\n",
       "\u001b[32mLocal Training\u001b[0m \u001b[38;2;114;156;31m━━━━━━━━━━━━━━━━━━━━━━━━━━━━━━━━━━━━━━━━\u001b[0m \u001b[35m100%\u001b[0m \u001b[36m0:00:00\u001b[0m"
      ]
     },
     "metadata": {},
     "output_type": "display_data"
    },
    {
     "data": {
      "text/html": [
       "<pre style=\"white-space:pre;overflow-x:auto;line-height:normal;font-family:Menlo,'DejaVu Sans Mono',consolas,'Courier New',monospace\">╭─────────────────────────────────────────────────── Round: 13 ───────────────────────────────────────────────────╮\n",
       "│ <span style=\"font-weight: bold\">{</span>                                                                                                               │\n",
       "│     <span style=\"color: #008000; text-decoration-color: #008000\">'global'</span>: <span style=\"font-weight: bold\">{</span>                                                                                                 │\n",
       "│         <span style=\"color: #008000; text-decoration-color: #008000\">'accuracy'</span>: <span style=\"color: #008080; text-decoration-color: #008080; font-weight: bold\">0.9754</span>,                                                                                     │\n",
       "│         <span style=\"color: #008000; text-decoration-color: #008000\">'precision'</span>: <span style=\"color: #008080; text-decoration-color: #008080; font-weight: bold\">0.9754</span>,                                                                                    │\n",
       "│         <span style=\"color: #008000; text-decoration-color: #008000\">'recall'</span>: <span style=\"color: #008080; text-decoration-color: #008080; font-weight: bold\">0.9754</span>,                                                                                       │\n",
       "│         <span style=\"color: #008000; text-decoration-color: #008000\">'f1'</span>: <span style=\"color: #008080; text-decoration-color: #008080; font-weight: bold\">0.9754</span>,                                                                                           │\n",
       "│         <span style=\"color: #008000; text-decoration-color: #008000\">'loss'</span>: <span style=\"color: #008080; text-decoration-color: #008080; font-weight: bold\">1.48595</span>                                                                                         │\n",
       "│     <span style=\"font-weight: bold\">}</span>,                                                                                                          │\n",
       "│     <span style=\"color: #008000; text-decoration-color: #008000\">'comm_cost'</span>: <span style=\"color: #008080; text-decoration-color: #008080; font-weight: bold\">1599084</span>                                                                                        │\n",
       "│ <span style=\"font-weight: bold\">}</span>                                                                                                               │\n",
       "╰─────────────────────────────────────────────────────────────────────────────────────────────────────────────────╯\n",
       "<span style=\"color: #800000; text-decoration-color: #800000\">FL Rounds</span> <span style=\"color: #f92672; text-decoration-color: #f92672\">━━━━━</span><span style=\"color: #3a3a3a; text-decoration-color: #3a3a3a\">╺━━━━━━━━━━━━━━━━━━━━━━━━━━━━━━━━━━</span> <span style=\"color: #800080; text-decoration-color: #800080\"> 13%</span> <span style=\"color: #008080; text-decoration-color: #008080\">0:02:36</span>\n",
       "<span style=\"color: #008000; text-decoration-color: #008000\">Local Training</span> <span style=\"color: #729c1f; text-decoration-color: #729c1f\">━━━━━━━━━━━━━━━━━━━━━━━━━━━━━━━━━━━━━━━━</span> <span style=\"color: #800080; text-decoration-color: #800080\">100%</span> <span style=\"color: #008080; text-decoration-color: #008080\">0:00:00</span></pre>\n"
      ],
      "text/plain": [
       "\r\u001b[2K\u001b[1A\u001b[2K╭─────────────────────────────────────────────────── Round: 13 ───────────────────────────────────────────────────╮\n",
       "│ \u001b[1m{\u001b[0m                                                                                                               │\n",
       "│     \u001b[32m'global'\u001b[0m: \u001b[1m{\u001b[0m                                                                                                 │\n",
       "│         \u001b[32m'accuracy'\u001b[0m: \u001b[1;36m0.9754\u001b[0m,                                                                                     │\n",
       "│         \u001b[32m'precision'\u001b[0m: \u001b[1;36m0.9754\u001b[0m,                                                                                    │\n",
       "│         \u001b[32m'recall'\u001b[0m: \u001b[1;36m0.9754\u001b[0m,                                                                                       │\n",
       "│         \u001b[32m'f1'\u001b[0m: \u001b[1;36m0.9754\u001b[0m,                                                                                           │\n",
       "│         \u001b[32m'loss'\u001b[0m: \u001b[1;36m1.48595\u001b[0m                                                                                         │\n",
       "│     \u001b[1m}\u001b[0m,                                                                                                          │\n",
       "│     \u001b[32m'comm_cost'\u001b[0m: \u001b[1;36m1599084\u001b[0m                                                                                        │\n",
       "│ \u001b[1m}\u001b[0m                                                                                                               │\n",
       "╰─────────────────────────────────────────────────────────────────────────────────────────────────────────────────╯\n",
       "\u001b[31mFL Rounds\u001b[0m \u001b[38;2;249;38;114m━━━━━\u001b[0m\u001b[38;5;237m╺\u001b[0m\u001b[38;5;237m━━━━━━━━━━━━━━━━━━━━━━━━━━━━━━━━━━\u001b[0m \u001b[35m 13%\u001b[0m \u001b[36m0:02:36\u001b[0m\n",
       "\u001b[32mLocal Training\u001b[0m \u001b[38;2;114;156;31m━━━━━━━━━━━━━━━━━━━━━━━━━━━━━━━━━━━━━━━━\u001b[0m \u001b[35m100%\u001b[0m \u001b[36m0:00:00\u001b[0m"
      ]
     },
     "metadata": {},
     "output_type": "display_data"
    },
    {
     "data": {
      "text/html": [
       "<pre style=\"white-space:pre;overflow-x:auto;line-height:normal;font-family:Menlo,'DejaVu Sans Mono',consolas,'Courier New',monospace\">  MEMORY USAGE: <span style=\"color: #008080; text-decoration-color: #008080; font-weight: bold\">3.14</span> %\n",
       "<span style=\"color: #800000; text-decoration-color: #800000\">FL Rounds</span> <span style=\"color: #f92672; text-decoration-color: #f92672\">━━━━━</span><span style=\"color: #3a3a3a; text-decoration-color: #3a3a3a\">╺━━━━━━━━━━━━━━━━━━━━━━━━━━━━━━━━━━</span> <span style=\"color: #800080; text-decoration-color: #800080\"> 13%</span> <span style=\"color: #008080; text-decoration-color: #008080\">0:02:36</span>\n",
       "<span style=\"color: #008000; text-decoration-color: #008000\">Local Training</span> <span style=\"color: #729c1f; text-decoration-color: #729c1f\">━━━━━━━━━━━━━━━━━━━━━━━━━━━━━━━━━━━━━━━━</span> <span style=\"color: #800080; text-decoration-color: #800080\">100%</span> <span style=\"color: #008080; text-decoration-color: #008080\">0:00:00</span></pre>\n"
      ],
      "text/plain": [
       "\r\u001b[2K\u001b[1A\u001b[2K  MEMORY USAGE: \u001b[1;36m3.14\u001b[0m %\n",
       "\u001b[31mFL Rounds\u001b[0m \u001b[38;2;249;38;114m━━━━━\u001b[0m\u001b[38;5;237m╺\u001b[0m\u001b[38;5;237m━━━━━━━━━━━━━━━━━━━━━━━━━━━━━━━━━━\u001b[0m \u001b[35m 13%\u001b[0m \u001b[36m0:02:36\u001b[0m\n",
       "\u001b[32mLocal Training\u001b[0m \u001b[38;2;114;156;31m━━━━━━━━━━━━━━━━━━━━━━━━━━━━━━━━━━━━━━━━\u001b[0m \u001b[35m100%\u001b[0m \u001b[36m0:00:00\u001b[0m"
      ]
     },
     "metadata": {},
     "output_type": "display_data"
    },
    {
     "data": {
      "text/html": [
       "<pre style=\"white-space:pre;overflow-x:auto;line-height:normal;font-family:Menlo,'DejaVu Sans Mono',consolas,'Courier New',monospace\">╭─────────────────────────────────────────────────── Round: 14 ───────────────────────────────────────────────────╮\n",
       "│ <span style=\"font-weight: bold\">{</span>                                                                                                               │\n",
       "│     <span style=\"color: #008000; text-decoration-color: #008000\">'global'</span>: <span style=\"font-weight: bold\">{</span>                                                                                                 │\n",
       "│         <span style=\"color: #008000; text-decoration-color: #008000\">'accuracy'</span>: <span style=\"color: #008080; text-decoration-color: #008080; font-weight: bold\">0.9775</span>,                                                                                     │\n",
       "│         <span style=\"color: #008000; text-decoration-color: #008000\">'precision'</span>: <span style=\"color: #008080; text-decoration-color: #008080; font-weight: bold\">0.9775</span>,                                                                                    │\n",
       "│         <span style=\"color: #008000; text-decoration-color: #008000\">'recall'</span>: <span style=\"color: #008080; text-decoration-color: #008080; font-weight: bold\">0.9775</span>,                                                                                       │\n",
       "│         <span style=\"color: #008000; text-decoration-color: #008000\">'f1'</span>: <span style=\"color: #008080; text-decoration-color: #008080; font-weight: bold\">0.9775</span>,                                                                                           │\n",
       "│         <span style=\"color: #008000; text-decoration-color: #008000\">'loss'</span>: <span style=\"color: #008080; text-decoration-color: #008080; font-weight: bold\">1.48293</span>                                                                                         │\n",
       "│     <span style=\"font-weight: bold\">}</span>,                                                                                                          │\n",
       "│     <span style=\"color: #008000; text-decoration-color: #008000\">'comm_cost'</span>: <span style=\"color: #008080; text-decoration-color: #008080; font-weight: bold\">1599084</span>                                                                                        │\n",
       "│ <span style=\"font-weight: bold\">}</span>                                                                                                               │\n",
       "╰─────────────────────────────────────────────────────────────────────────────────────────────────────────────────╯\n",
       "<span style=\"color: #800000; text-decoration-color: #800000\">FL Rounds</span> <span style=\"color: #f92672; text-decoration-color: #f92672\">━━━━━╸</span><span style=\"color: #3a3a3a; text-decoration-color: #3a3a3a\">━━━━━━━━━━━━━━━━━━━━━━━━━━━━━━━━━━</span> <span style=\"color: #800080; text-decoration-color: #800080\"> 14%</span> <span style=\"color: #008080; text-decoration-color: #008080\">0:02:32</span>\n",
       "<span style=\"color: #008000; text-decoration-color: #008000\">Local Training</span> <span style=\"color: #729c1f; text-decoration-color: #729c1f\">━━━━━━━━━━━━━━━━━━━━━━━━━━━━━━━━━━━━━━━━</span> <span style=\"color: #800080; text-decoration-color: #800080\">100%</span> <span style=\"color: #008080; text-decoration-color: #008080\">0:00:00</span></pre>\n"
      ],
      "text/plain": [
       "\r\u001b[2K\u001b[1A\u001b[2K╭─────────────────────────────────────────────────── Round: 14 ───────────────────────────────────────────────────╮\n",
       "│ \u001b[1m{\u001b[0m                                                                                                               │\n",
       "│     \u001b[32m'global'\u001b[0m: \u001b[1m{\u001b[0m                                                                                                 │\n",
       "│         \u001b[32m'accuracy'\u001b[0m: \u001b[1;36m0.9775\u001b[0m,                                                                                     │\n",
       "│         \u001b[32m'precision'\u001b[0m: \u001b[1;36m0.9775\u001b[0m,                                                                                    │\n",
       "│         \u001b[32m'recall'\u001b[0m: \u001b[1;36m0.9775\u001b[0m,                                                                                       │\n",
       "│         \u001b[32m'f1'\u001b[0m: \u001b[1;36m0.9775\u001b[0m,                                                                                           │\n",
       "│         \u001b[32m'loss'\u001b[0m: \u001b[1;36m1.48293\u001b[0m                                                                                         │\n",
       "│     \u001b[1m}\u001b[0m,                                                                                                          │\n",
       "│     \u001b[32m'comm_cost'\u001b[0m: \u001b[1;36m1599084\u001b[0m                                                                                        │\n",
       "│ \u001b[1m}\u001b[0m                                                                                                               │\n",
       "╰─────────────────────────────────────────────────────────────────────────────────────────────────────────────────╯\n",
       "\u001b[31mFL Rounds\u001b[0m \u001b[38;2;249;38;114m━━━━━\u001b[0m\u001b[38;2;249;38;114m╸\u001b[0m\u001b[38;5;237m━━━━━━━━━━━━━━━━━━━━━━━━━━━━━━━━━━\u001b[0m \u001b[35m 14%\u001b[0m \u001b[36m0:02:32\u001b[0m\n",
       "\u001b[32mLocal Training\u001b[0m \u001b[38;2;114;156;31m━━━━━━━━━━━━━━━━━━━━━━━━━━━━━━━━━━━━━━━━\u001b[0m \u001b[35m100%\u001b[0m \u001b[36m0:00:00\u001b[0m"
      ]
     },
     "metadata": {},
     "output_type": "display_data"
    },
    {
     "data": {
      "text/html": [
       "<pre style=\"white-space:pre;overflow-x:auto;line-height:normal;font-family:Menlo,'DejaVu Sans Mono',consolas,'Courier New',monospace\">  MEMORY USAGE: <span style=\"color: #008080; text-decoration-color: #008080; font-weight: bold\">3.14</span> %\n",
       "<span style=\"color: #800000; text-decoration-color: #800000\">FL Rounds</span> <span style=\"color: #f92672; text-decoration-color: #f92672\">━━━━━╸</span><span style=\"color: #3a3a3a; text-decoration-color: #3a3a3a\">━━━━━━━━━━━━━━━━━━━━━━━━━━━━━━━━━━</span> <span style=\"color: #800080; text-decoration-color: #800080\"> 14%</span> <span style=\"color: #008080; text-decoration-color: #008080\">0:02:32</span>\n",
       "<span style=\"color: #008000; text-decoration-color: #008000\">Local Training</span> <span style=\"color: #729c1f; text-decoration-color: #729c1f\">━━━━━━━━━━━━━━━━━━━━━━━━━━━━━━━━━━━━━━━━</span> <span style=\"color: #800080; text-decoration-color: #800080\">100%</span> <span style=\"color: #008080; text-decoration-color: #008080\">0:00:00</span></pre>\n"
      ],
      "text/plain": [
       "\r\u001b[2K\u001b[1A\u001b[2K  MEMORY USAGE: \u001b[1;36m3.14\u001b[0m %\n",
       "\u001b[31mFL Rounds\u001b[0m \u001b[38;2;249;38;114m━━━━━\u001b[0m\u001b[38;2;249;38;114m╸\u001b[0m\u001b[38;5;237m━━━━━━━━━━━━━━━━━━━━━━━━━━━━━━━━━━\u001b[0m \u001b[35m 14%\u001b[0m \u001b[36m0:02:32\u001b[0m\n",
       "\u001b[32mLocal Training\u001b[0m \u001b[38;2;114;156;31m━━━━━━━━━━━━━━━━━━━━━━━━━━━━━━━━━━━━━━━━\u001b[0m \u001b[35m100%\u001b[0m \u001b[36m0:00:00\u001b[0m"
      ]
     },
     "metadata": {},
     "output_type": "display_data"
    },
    {
     "data": {
      "text/html": [
       "<pre style=\"white-space:pre;overflow-x:auto;line-height:normal;font-family:Menlo,'DejaVu Sans Mono',consolas,'Courier New',monospace\">╭─────────────────────────────────────────────────── Round: 15 ───────────────────────────────────────────────────╮\n",
       "│ <span style=\"font-weight: bold\">{</span>                                                                                                               │\n",
       "│     <span style=\"color: #008000; text-decoration-color: #008000\">'global'</span>: <span style=\"font-weight: bold\">{</span>                                                                                                 │\n",
       "│         <span style=\"color: #008000; text-decoration-color: #008000\">'accuracy'</span>: <span style=\"color: #008080; text-decoration-color: #008080; font-weight: bold\">0.9761</span>,                                                                                     │\n",
       "│         <span style=\"color: #008000; text-decoration-color: #008000\">'precision'</span>: <span style=\"color: #008080; text-decoration-color: #008080; font-weight: bold\">0.9761</span>,                                                                                    │\n",
       "│         <span style=\"color: #008000; text-decoration-color: #008000\">'recall'</span>: <span style=\"color: #008080; text-decoration-color: #008080; font-weight: bold\">0.9761</span>,                                                                                       │\n",
       "│         <span style=\"color: #008000; text-decoration-color: #008000\">'f1'</span>: <span style=\"color: #008080; text-decoration-color: #008080; font-weight: bold\">0.9761</span>,                                                                                           │\n",
       "│         <span style=\"color: #008000; text-decoration-color: #008000\">'loss'</span>: <span style=\"color: #008080; text-decoration-color: #008080; font-weight: bold\">1.48469</span>                                                                                         │\n",
       "│     <span style=\"font-weight: bold\">}</span>,                                                                                                          │\n",
       "│     <span style=\"color: #008000; text-decoration-color: #008000\">'comm_cost'</span>: <span style=\"color: #008080; text-decoration-color: #008080; font-weight: bold\">1599086</span>                                                                                        │\n",
       "│ <span style=\"font-weight: bold\">}</span>                                                                                                               │\n",
       "╰─────────────────────────────────────────────────────────────────────────────────────────────────────────────────╯\n",
       "<span style=\"color: #800000; text-decoration-color: #800000\">FL Rounds</span> <span style=\"color: #f92672; text-decoration-color: #f92672\">━━━━━━</span><span style=\"color: #3a3a3a; text-decoration-color: #3a3a3a\">╺━━━━━━━━━━━━━━━━━━━━━━━━━━━━━━━━━</span> <span style=\"color: #800080; text-decoration-color: #800080\"> 15%</span> <span style=\"color: #008080; text-decoration-color: #008080\">0:02:29</span>\n",
       "<span style=\"color: #008000; text-decoration-color: #008000\">Local Training</span> <span style=\"color: #729c1f; text-decoration-color: #729c1f\">━━━━━━━━━━━━━━━━━━━━━━━━━━━━━━━━━━━━━━━━</span> <span style=\"color: #800080; text-decoration-color: #800080\">100%</span> <span style=\"color: #008080; text-decoration-color: #008080\">0:00:00</span></pre>\n"
      ],
      "text/plain": [
       "\r\u001b[2K\u001b[1A\u001b[2K╭─────────────────────────────────────────────────── Round: 15 ───────────────────────────────────────────────────╮\n",
       "│ \u001b[1m{\u001b[0m                                                                                                               │\n",
       "│     \u001b[32m'global'\u001b[0m: \u001b[1m{\u001b[0m                                                                                                 │\n",
       "│         \u001b[32m'accuracy'\u001b[0m: \u001b[1;36m0.9761\u001b[0m,                                                                                     │\n",
       "│         \u001b[32m'precision'\u001b[0m: \u001b[1;36m0.9761\u001b[0m,                                                                                    │\n",
       "│         \u001b[32m'recall'\u001b[0m: \u001b[1;36m0.9761\u001b[0m,                                                                                       │\n",
       "│         \u001b[32m'f1'\u001b[0m: \u001b[1;36m0.9761\u001b[0m,                                                                                           │\n",
       "│         \u001b[32m'loss'\u001b[0m: \u001b[1;36m1.48469\u001b[0m                                                                                         │\n",
       "│     \u001b[1m}\u001b[0m,                                                                                                          │\n",
       "│     \u001b[32m'comm_cost'\u001b[0m: \u001b[1;36m1599086\u001b[0m                                                                                        │\n",
       "│ \u001b[1m}\u001b[0m                                                                                                               │\n",
       "╰─────────────────────────────────────────────────────────────────────────────────────────────────────────────────╯\n",
       "\u001b[31mFL Rounds\u001b[0m \u001b[38;2;249;38;114m━━━━━━\u001b[0m\u001b[38;5;237m╺\u001b[0m\u001b[38;5;237m━━━━━━━━━━━━━━━━━━━━━━━━━━━━━━━━━\u001b[0m \u001b[35m 15%\u001b[0m \u001b[36m0:02:29\u001b[0m\n",
       "\u001b[32mLocal Training\u001b[0m \u001b[38;2;114;156;31m━━━━━━━━━━━━━━━━━━━━━━━━━━━━━━━━━━━━━━━━\u001b[0m \u001b[35m100%\u001b[0m \u001b[36m0:00:00\u001b[0m"
      ]
     },
     "metadata": {},
     "output_type": "display_data"
    },
    {
     "data": {
      "text/html": [
       "<pre style=\"white-space:pre;overflow-x:auto;line-height:normal;font-family:Menlo,'DejaVu Sans Mono',consolas,'Courier New',monospace\">  MEMORY USAGE: <span style=\"color: #008080; text-decoration-color: #008080; font-weight: bold\">3.14</span> %\n",
       "<span style=\"color: #800000; text-decoration-color: #800000\">FL Rounds</span> <span style=\"color: #f92672; text-decoration-color: #f92672\">━━━━━━</span><span style=\"color: #3a3a3a; text-decoration-color: #3a3a3a\">╺━━━━━━━━━━━━━━━━━━━━━━━━━━━━━━━━━</span> <span style=\"color: #800080; text-decoration-color: #800080\"> 15%</span> <span style=\"color: #008080; text-decoration-color: #008080\">0:02:29</span>\n",
       "<span style=\"color: #008000; text-decoration-color: #008000\">Local Training</span> <span style=\"color: #729c1f; text-decoration-color: #729c1f\">━━━━━━━━━━━━━━━━━━━━━━━━━━━━━━━━━━━━━━━━</span> <span style=\"color: #800080; text-decoration-color: #800080\">100%</span> <span style=\"color: #008080; text-decoration-color: #008080\">0:00:00</span></pre>\n"
      ],
      "text/plain": [
       "\r\u001b[2K\u001b[1A\u001b[2K  MEMORY USAGE: \u001b[1;36m3.14\u001b[0m %\n",
       "\u001b[31mFL Rounds\u001b[0m \u001b[38;2;249;38;114m━━━━━━\u001b[0m\u001b[38;5;237m╺\u001b[0m\u001b[38;5;237m━━━━━━━━━━━━━━━━━━━━━━━━━━━━━━━━━\u001b[0m \u001b[35m 15%\u001b[0m \u001b[36m0:02:29\u001b[0m\n",
       "\u001b[32mLocal Training\u001b[0m \u001b[38;2;114;156;31m━━━━━━━━━━━━━━━━━━━━━━━━━━━━━━━━━━━━━━━━\u001b[0m \u001b[35m100%\u001b[0m \u001b[36m0:00:00\u001b[0m"
      ]
     },
     "metadata": {},
     "output_type": "display_data"
    },
    {
     "data": {
      "text/html": [
       "<pre style=\"white-space:pre;overflow-x:auto;line-height:normal;font-family:Menlo,'DejaVu Sans Mono',consolas,'Courier New',monospace\">╭─────────────────────────────────────────────────── Round: 16 ───────────────────────────────────────────────────╮\n",
       "│ <span style=\"font-weight: bold\">{</span>                                                                                                               │\n",
       "│     <span style=\"color: #008000; text-decoration-color: #008000\">'global'</span>: <span style=\"font-weight: bold\">{</span>                                                                                                 │\n",
       "│         <span style=\"color: #008000; text-decoration-color: #008000\">'accuracy'</span>: <span style=\"color: #008080; text-decoration-color: #008080; font-weight: bold\">0.9773</span>,                                                                                     │\n",
       "│         <span style=\"color: #008000; text-decoration-color: #008000\">'precision'</span>: <span style=\"color: #008080; text-decoration-color: #008080; font-weight: bold\">0.9773</span>,                                                                                    │\n",
       "│         <span style=\"color: #008000; text-decoration-color: #008000\">'recall'</span>: <span style=\"color: #008080; text-decoration-color: #008080; font-weight: bold\">0.9773</span>,                                                                                       │\n",
       "│         <span style=\"color: #008000; text-decoration-color: #008000\">'f1'</span>: <span style=\"color: #008080; text-decoration-color: #008080; font-weight: bold\">0.9773</span>,                                                                                           │\n",
       "│         <span style=\"color: #008000; text-decoration-color: #008000\">'loss'</span>: <span style=\"color: #008080; text-decoration-color: #008080; font-weight: bold\">1.48459</span>                                                                                         │\n",
       "│     <span style=\"font-weight: bold\">}</span>,                                                                                                          │\n",
       "│     <span style=\"color: #008000; text-decoration-color: #008000\">'comm_cost'</span>: <span style=\"color: #008080; text-decoration-color: #008080; font-weight: bold\">1599080</span>                                                                                        │\n",
       "│ <span style=\"font-weight: bold\">}</span>                                                                                                               │\n",
       "╰─────────────────────────────────────────────────────────────────────────────────────────────────────────────────╯\n",
       "<span style=\"color: #800000; text-decoration-color: #800000\">FL Rounds</span> <span style=\"color: #f92672; text-decoration-color: #f92672\">━━━━━━</span><span style=\"color: #3a3a3a; text-decoration-color: #3a3a3a\">╺━━━━━━━━━━━━━━━━━━━━━━━━━━━━━━━━━</span> <span style=\"color: #800080; text-decoration-color: #800080\"> 16%</span> <span style=\"color: #008080; text-decoration-color: #008080\">0:02:27</span>\n",
       "<span style=\"color: #008000; text-decoration-color: #008000\">Local Training</span> <span style=\"color: #729c1f; text-decoration-color: #729c1f\">━━━━━━━━━━━━━━━━━━━━━━━━━━━━━━━━━━━━━━━━</span> <span style=\"color: #800080; text-decoration-color: #800080\">100%</span> <span style=\"color: #008080; text-decoration-color: #008080\">0:00:00</span></pre>\n"
      ],
      "text/plain": [
       "\r\u001b[2K\u001b[1A\u001b[2K╭─────────────────────────────────────────────────── Round: 16 ───────────────────────────────────────────────────╮\n",
       "│ \u001b[1m{\u001b[0m                                                                                                               │\n",
       "│     \u001b[32m'global'\u001b[0m: \u001b[1m{\u001b[0m                                                                                                 │\n",
       "│         \u001b[32m'accuracy'\u001b[0m: \u001b[1;36m0.9773\u001b[0m,                                                                                     │\n",
       "│         \u001b[32m'precision'\u001b[0m: \u001b[1;36m0.9773\u001b[0m,                                                                                    │\n",
       "│         \u001b[32m'recall'\u001b[0m: \u001b[1;36m0.9773\u001b[0m,                                                                                       │\n",
       "│         \u001b[32m'f1'\u001b[0m: \u001b[1;36m0.9773\u001b[0m,                                                                                           │\n",
       "│         \u001b[32m'loss'\u001b[0m: \u001b[1;36m1.48459\u001b[0m                                                                                         │\n",
       "│     \u001b[1m}\u001b[0m,                                                                                                          │\n",
       "│     \u001b[32m'comm_cost'\u001b[0m: \u001b[1;36m1599080\u001b[0m                                                                                        │\n",
       "│ \u001b[1m}\u001b[0m                                                                                                               │\n",
       "╰─────────────────────────────────────────────────────────────────────────────────────────────────────────────────╯\n",
       "\u001b[31mFL Rounds\u001b[0m \u001b[38;2;249;38;114m━━━━━━\u001b[0m\u001b[38;5;237m╺\u001b[0m\u001b[38;5;237m━━━━━━━━━━━━━━━━━━━━━━━━━━━━━━━━━\u001b[0m \u001b[35m 16%\u001b[0m \u001b[36m0:02:27\u001b[0m\n",
       "\u001b[32mLocal Training\u001b[0m \u001b[38;2;114;156;31m━━━━━━━━━━━━━━━━━━━━━━━━━━━━━━━━━━━━━━━━\u001b[0m \u001b[35m100%\u001b[0m \u001b[36m0:00:00\u001b[0m"
      ]
     },
     "metadata": {},
     "output_type": "display_data"
    },
    {
     "data": {
      "text/html": [
       "<pre style=\"white-space:pre;overflow-x:auto;line-height:normal;font-family:Menlo,'DejaVu Sans Mono',consolas,'Courier New',monospace\">  MEMORY USAGE: <span style=\"color: #008080; text-decoration-color: #008080; font-weight: bold\">3.14</span> %\n",
       "<span style=\"color: #800000; text-decoration-color: #800000\">FL Rounds</span> <span style=\"color: #f92672; text-decoration-color: #f92672\">━━━━━━</span><span style=\"color: #3a3a3a; text-decoration-color: #3a3a3a\">╺━━━━━━━━━━━━━━━━━━━━━━━━━━━━━━━━━</span> <span style=\"color: #800080; text-decoration-color: #800080\"> 16%</span> <span style=\"color: #008080; text-decoration-color: #008080\">0:02:27</span>\n",
       "<span style=\"color: #008000; text-decoration-color: #008000\">Local Training</span> <span style=\"color: #729c1f; text-decoration-color: #729c1f\">━━━━━━━━━━━━━━━━━━━━━━━━━━━━━━━━━━━━━━━━</span> <span style=\"color: #800080; text-decoration-color: #800080\">100%</span> <span style=\"color: #008080; text-decoration-color: #008080\">0:00:00</span></pre>\n"
      ],
      "text/plain": [
       "\r\u001b[2K\u001b[1A\u001b[2K  MEMORY USAGE: \u001b[1;36m3.14\u001b[0m %\n",
       "\u001b[31mFL Rounds\u001b[0m \u001b[38;2;249;38;114m━━━━━━\u001b[0m\u001b[38;5;237m╺\u001b[0m\u001b[38;5;237m━━━━━━━━━━━━━━━━━━━━━━━━━━━━━━━━━\u001b[0m \u001b[35m 16%\u001b[0m \u001b[36m0:02:27\u001b[0m\n",
       "\u001b[32mLocal Training\u001b[0m \u001b[38;2;114;156;31m━━━━━━━━━━━━━━━━━━━━━━━━━━━━━━━━━━━━━━━━\u001b[0m \u001b[35m100%\u001b[0m \u001b[36m0:00:00\u001b[0m"
      ]
     },
     "metadata": {},
     "output_type": "display_data"
    },
    {
     "data": {
      "text/html": [
       "<pre style=\"white-space:pre;overflow-x:auto;line-height:normal;font-family:Menlo,'DejaVu Sans Mono',consolas,'Courier New',monospace\">╭─────────────────────────────────────────────────── Round: 17 ───────────────────────────────────────────────────╮\n",
       "│ <span style=\"font-weight: bold\">{</span>                                                                                                               │\n",
       "│     <span style=\"color: #008000; text-decoration-color: #008000\">'global'</span>: <span style=\"font-weight: bold\">{</span>                                                                                                 │\n",
       "│         <span style=\"color: #008000; text-decoration-color: #008000\">'accuracy'</span>: <span style=\"color: #008080; text-decoration-color: #008080; font-weight: bold\">0.98</span>,                                                                                       │\n",
       "│         <span style=\"color: #008000; text-decoration-color: #008000\">'precision'</span>: <span style=\"color: #008080; text-decoration-color: #008080; font-weight: bold\">0.98</span>,                                                                                      │\n",
       "│         <span style=\"color: #008000; text-decoration-color: #008000\">'recall'</span>: <span style=\"color: #008080; text-decoration-color: #008080; font-weight: bold\">0.98</span>,                                                                                         │\n",
       "│         <span style=\"color: #008000; text-decoration-color: #008000\">'f1'</span>: <span style=\"color: #008080; text-decoration-color: #008080; font-weight: bold\">0.98</span>,                                                                                             │\n",
       "│         <span style=\"color: #008000; text-decoration-color: #008000\">'loss'</span>: <span style=\"color: #008080; text-decoration-color: #008080; font-weight: bold\">1.48138</span>                                                                                         │\n",
       "│     <span style=\"font-weight: bold\">}</span>,                                                                                                          │\n",
       "│     <span style=\"color: #008000; text-decoration-color: #008000\">'comm_cost'</span>: <span style=\"color: #008080; text-decoration-color: #008080; font-weight: bold\">1599088</span>                                                                                        │\n",
       "│ <span style=\"font-weight: bold\">}</span>                                                                                                               │\n",
       "╰─────────────────────────────────────────────────────────────────────────────────────────────────────────────────╯\n",
       "<span style=\"color: #800000; text-decoration-color: #800000\">FL Rounds</span> <span style=\"color: #f92672; text-decoration-color: #f92672\">━━━━━━╸</span><span style=\"color: #3a3a3a; text-decoration-color: #3a3a3a\">━━━━━━━━━━━━━━━━━━━━━━━━━━━━━━━━━</span> <span style=\"color: #800080; text-decoration-color: #800080\"> 17%</span> <span style=\"color: #008080; text-decoration-color: #008080\">0:02:24</span>\n",
       "<span style=\"color: #008000; text-decoration-color: #008000\">Local Training</span> <span style=\"color: #729c1f; text-decoration-color: #729c1f\">━━━━━━━━━━━━━━━━━━━━━━━━━━━━━━━━━━━━━━━━</span> <span style=\"color: #800080; text-decoration-color: #800080\">100%</span> <span style=\"color: #008080; text-decoration-color: #008080\">0:00:00</span></pre>\n"
      ],
      "text/plain": [
       "\r\u001b[2K\u001b[1A\u001b[2K╭─────────────────────────────────────────────────── Round: 17 ───────────────────────────────────────────────────╮\n",
       "│ \u001b[1m{\u001b[0m                                                                                                               │\n",
       "│     \u001b[32m'global'\u001b[0m: \u001b[1m{\u001b[0m                                                                                                 │\n",
       "│         \u001b[32m'accuracy'\u001b[0m: \u001b[1;36m0.98\u001b[0m,                                                                                       │\n",
       "│         \u001b[32m'precision'\u001b[0m: \u001b[1;36m0.98\u001b[0m,                                                                                      │\n",
       "│         \u001b[32m'recall'\u001b[0m: \u001b[1;36m0.98\u001b[0m,                                                                                         │\n",
       "│         \u001b[32m'f1'\u001b[0m: \u001b[1;36m0.98\u001b[0m,                                                                                             │\n",
       "│         \u001b[32m'loss'\u001b[0m: \u001b[1;36m1.48138\u001b[0m                                                                                         │\n",
       "│     \u001b[1m}\u001b[0m,                                                                                                          │\n",
       "│     \u001b[32m'comm_cost'\u001b[0m: \u001b[1;36m1599088\u001b[0m                                                                                        │\n",
       "│ \u001b[1m}\u001b[0m                                                                                                               │\n",
       "╰─────────────────────────────────────────────────────────────────────────────────────────────────────────────────╯\n",
       "\u001b[31mFL Rounds\u001b[0m \u001b[38;2;249;38;114m━━━━━━\u001b[0m\u001b[38;2;249;38;114m╸\u001b[0m\u001b[38;5;237m━━━━━━━━━━━━━━━━━━━━━━━━━━━━━━━━━\u001b[0m \u001b[35m 17%\u001b[0m \u001b[36m0:02:24\u001b[0m\n",
       "\u001b[32mLocal Training\u001b[0m \u001b[38;2;114;156;31m━━━━━━━━━━━━━━━━━━━━━━━━━━━━━━━━━━━━━━━━\u001b[0m \u001b[35m100%\u001b[0m \u001b[36m0:00:00\u001b[0m"
      ]
     },
     "metadata": {},
     "output_type": "display_data"
    },
    {
     "data": {
      "text/html": [
       "<pre style=\"white-space:pre;overflow-x:auto;line-height:normal;font-family:Menlo,'DejaVu Sans Mono',consolas,'Courier New',monospace\">  MEMORY USAGE: <span style=\"color: #008080; text-decoration-color: #008080; font-weight: bold\">3.14</span> %\n",
       "<span style=\"color: #800000; text-decoration-color: #800000\">FL Rounds</span> <span style=\"color: #f92672; text-decoration-color: #f92672\">━━━━━━╸</span><span style=\"color: #3a3a3a; text-decoration-color: #3a3a3a\">━━━━━━━━━━━━━━━━━━━━━━━━━━━━━━━━━</span> <span style=\"color: #800080; text-decoration-color: #800080\"> 17%</span> <span style=\"color: #008080; text-decoration-color: #008080\">0:02:24</span>\n",
       "<span style=\"color: #008000; text-decoration-color: #008000\">Local Training</span> <span style=\"color: #729c1f; text-decoration-color: #729c1f\">━━━━━━━━━━━━━━━━━━━━━━━━━━━━━━━━━━━━━━━━</span> <span style=\"color: #800080; text-decoration-color: #800080\">100%</span> <span style=\"color: #008080; text-decoration-color: #008080\">0:00:00</span></pre>\n"
      ],
      "text/plain": [
       "\r\u001b[2K\u001b[1A\u001b[2K  MEMORY USAGE: \u001b[1;36m3.14\u001b[0m %\n",
       "\u001b[31mFL Rounds\u001b[0m \u001b[38;2;249;38;114m━━━━━━\u001b[0m\u001b[38;2;249;38;114m╸\u001b[0m\u001b[38;5;237m━━━━━━━━━━━━━━━━━━━━━━━━━━━━━━━━━\u001b[0m \u001b[35m 17%\u001b[0m \u001b[36m0:02:24\u001b[0m\n",
       "\u001b[32mLocal Training\u001b[0m \u001b[38;2;114;156;31m━━━━━━━━━━━━━━━━━━━━━━━━━━━━━━━━━━━━━━━━\u001b[0m \u001b[35m100%\u001b[0m \u001b[36m0:00:00\u001b[0m"
      ]
     },
     "metadata": {},
     "output_type": "display_data"
    },
    {
     "data": {
      "text/html": [
       "<pre style=\"white-space:pre;overflow-x:auto;line-height:normal;font-family:Menlo,'DejaVu Sans Mono',consolas,'Courier New',monospace\">╭─────────────────────────────────────────────────── Round: 18 ───────────────────────────────────────────────────╮\n",
       "│ <span style=\"font-weight: bold\">{</span>                                                                                                               │\n",
       "│     <span style=\"color: #008000; text-decoration-color: #008000\">'global'</span>: <span style=\"font-weight: bold\">{</span>                                                                                                 │\n",
       "│         <span style=\"color: #008000; text-decoration-color: #008000\">'accuracy'</span>: <span style=\"color: #008080; text-decoration-color: #008080; font-weight: bold\">0.9778</span>,                                                                                     │\n",
       "│         <span style=\"color: #008000; text-decoration-color: #008000\">'precision'</span>: <span style=\"color: #008080; text-decoration-color: #008080; font-weight: bold\">0.9778</span>,                                                                                    │\n",
       "│         <span style=\"color: #008000; text-decoration-color: #008000\">'recall'</span>: <span style=\"color: #008080; text-decoration-color: #008080; font-weight: bold\">0.9778</span>,                                                                                       │\n",
       "│         <span style=\"color: #008000; text-decoration-color: #008000\">'f1'</span>: <span style=\"color: #008080; text-decoration-color: #008080; font-weight: bold\">0.9778</span>,                                                                                           │\n",
       "│         <span style=\"color: #008000; text-decoration-color: #008000\">'loss'</span>: <span style=\"color: #008080; text-decoration-color: #008080; font-weight: bold\">1.48338</span>                                                                                         │\n",
       "│     <span style=\"font-weight: bold\">}</span>,                                                                                                          │\n",
       "│     <span style=\"color: #008000; text-decoration-color: #008000\">'comm_cost'</span>: <span style=\"color: #008080; text-decoration-color: #008080; font-weight: bold\">1599092</span>                                                                                        │\n",
       "│ <span style=\"font-weight: bold\">}</span>                                                                                                               │\n",
       "╰─────────────────────────────────────────────────────────────────────────────────────────────────────────────────╯\n",
       "<span style=\"color: #800000; text-decoration-color: #800000\">FL Rounds</span> <span style=\"color: #f92672; text-decoration-color: #f92672\">━━━━━━━</span><span style=\"color: #3a3a3a; text-decoration-color: #3a3a3a\">╺━━━━━━━━━━━━━━━━━━━━━━━━━━━━━━━━</span> <span style=\"color: #800080; text-decoration-color: #800080\"> 18%</span> <span style=\"color: #008080; text-decoration-color: #008080\">0:02:22</span>\n",
       "<span style=\"color: #008000; text-decoration-color: #008000\">Local Training</span> <span style=\"color: #729c1f; text-decoration-color: #729c1f\">━━━━━━━━━━━━━━━━━━━━━━━━━━━━━━━━━━━━━━━━</span> <span style=\"color: #800080; text-decoration-color: #800080\">100%</span> <span style=\"color: #008080; text-decoration-color: #008080\">0:00:00</span></pre>\n"
      ],
      "text/plain": [
       "\r\u001b[2K\u001b[1A\u001b[2K╭─────────────────────────────────────────────────── Round: 18 ───────────────────────────────────────────────────╮\n",
       "│ \u001b[1m{\u001b[0m                                                                                                               │\n",
       "│     \u001b[32m'global'\u001b[0m: \u001b[1m{\u001b[0m                                                                                                 │\n",
       "│         \u001b[32m'accuracy'\u001b[0m: \u001b[1;36m0.9778\u001b[0m,                                                                                     │\n",
       "│         \u001b[32m'precision'\u001b[0m: \u001b[1;36m0.9778\u001b[0m,                                                                                    │\n",
       "│         \u001b[32m'recall'\u001b[0m: \u001b[1;36m0.9778\u001b[0m,                                                                                       │\n",
       "│         \u001b[32m'f1'\u001b[0m: \u001b[1;36m0.9778\u001b[0m,                                                                                           │\n",
       "│         \u001b[32m'loss'\u001b[0m: \u001b[1;36m1.48338\u001b[0m                                                                                         │\n",
       "│     \u001b[1m}\u001b[0m,                                                                                                          │\n",
       "│     \u001b[32m'comm_cost'\u001b[0m: \u001b[1;36m1599092\u001b[0m                                                                                        │\n",
       "│ \u001b[1m}\u001b[0m                                                                                                               │\n",
       "╰─────────────────────────────────────────────────────────────────────────────────────────────────────────────────╯\n",
       "\u001b[31mFL Rounds\u001b[0m \u001b[38;2;249;38;114m━━━━━━━\u001b[0m\u001b[38;5;237m╺\u001b[0m\u001b[38;5;237m━━━━━━━━━━━━━━━━━━━━━━━━━━━━━━━━\u001b[0m \u001b[35m 18%\u001b[0m \u001b[36m0:02:22\u001b[0m\n",
       "\u001b[32mLocal Training\u001b[0m \u001b[38;2;114;156;31m━━━━━━━━━━━━━━━━━━━━━━━━━━━━━━━━━━━━━━━━\u001b[0m \u001b[35m100%\u001b[0m \u001b[36m0:00:00\u001b[0m"
      ]
     },
     "metadata": {},
     "output_type": "display_data"
    },
    {
     "data": {
      "text/html": [
       "<pre style=\"white-space:pre;overflow-x:auto;line-height:normal;font-family:Menlo,'DejaVu Sans Mono',consolas,'Courier New',monospace\">  MEMORY USAGE: <span style=\"color: #008080; text-decoration-color: #008080; font-weight: bold\">3.15</span> %\n",
       "<span style=\"color: #800000; text-decoration-color: #800000\">FL Rounds</span> <span style=\"color: #f92672; text-decoration-color: #f92672\">━━━━━━━</span><span style=\"color: #3a3a3a; text-decoration-color: #3a3a3a\">╺━━━━━━━━━━━━━━━━━━━━━━━━━━━━━━━━</span> <span style=\"color: #800080; text-decoration-color: #800080\"> 18%</span> <span style=\"color: #008080; text-decoration-color: #008080\">0:02:22</span>\n",
       "<span style=\"color: #008000; text-decoration-color: #008000\">Local Training</span> <span style=\"color: #729c1f; text-decoration-color: #729c1f\">━━━━━━━━━━━━━━━━━━━━━━━━━━━━━━━━━━━━━━━━</span> <span style=\"color: #800080; text-decoration-color: #800080\">100%</span> <span style=\"color: #008080; text-decoration-color: #008080\">0:00:00</span></pre>\n"
      ],
      "text/plain": [
       "\r\u001b[2K\u001b[1A\u001b[2K  MEMORY USAGE: \u001b[1;36m3.15\u001b[0m %\n",
       "\u001b[31mFL Rounds\u001b[0m \u001b[38;2;249;38;114m━━━━━━━\u001b[0m\u001b[38;5;237m╺\u001b[0m\u001b[38;5;237m━━━━━━━━━━━━━━━━━━━━━━━━━━━━━━━━\u001b[0m \u001b[35m 18%\u001b[0m \u001b[36m0:02:22\u001b[0m\n",
       "\u001b[32mLocal Training\u001b[0m \u001b[38;2;114;156;31m━━━━━━━━━━━━━━━━━━━━━━━━━━━━━━━━━━━━━━━━\u001b[0m \u001b[35m100%\u001b[0m \u001b[36m0:00:00\u001b[0m"
      ]
     },
     "metadata": {},
     "output_type": "display_data"
    },
    {
     "data": {
      "text/html": [
       "<pre style=\"white-space:pre;overflow-x:auto;line-height:normal;font-family:Menlo,'DejaVu Sans Mono',consolas,'Courier New',monospace\">╭─────────────────────────────────────────────────── Round: 19 ───────────────────────────────────────────────────╮\n",
       "│ <span style=\"font-weight: bold\">{</span>                                                                                                               │\n",
       "│     <span style=\"color: #008000; text-decoration-color: #008000\">'global'</span>: <span style=\"font-weight: bold\">{</span>                                                                                                 │\n",
       "│         <span style=\"color: #008000; text-decoration-color: #008000\">'accuracy'</span>: <span style=\"color: #008080; text-decoration-color: #008080; font-weight: bold\">0.9782</span>,                                                                                     │\n",
       "│         <span style=\"color: #008000; text-decoration-color: #008000\">'precision'</span>: <span style=\"color: #008080; text-decoration-color: #008080; font-weight: bold\">0.9782</span>,                                                                                    │\n",
       "│         <span style=\"color: #008000; text-decoration-color: #008000\">'recall'</span>: <span style=\"color: #008080; text-decoration-color: #008080; font-weight: bold\">0.9782</span>,                                                                                       │\n",
       "│         <span style=\"color: #008000; text-decoration-color: #008000\">'f1'</span>: <span style=\"color: #008080; text-decoration-color: #008080; font-weight: bold\">0.9782</span>,                                                                                           │\n",
       "│         <span style=\"color: #008000; text-decoration-color: #008000\">'loss'</span>: <span style=\"color: #008080; text-decoration-color: #008080; font-weight: bold\">1.48397</span>                                                                                         │\n",
       "│     <span style=\"font-weight: bold\">}</span>,                                                                                                          │\n",
       "│     <span style=\"color: #008000; text-decoration-color: #008000\">'comm_cost'</span>: <span style=\"color: #008080; text-decoration-color: #008080; font-weight: bold\">1599090</span>                                                                                        │\n",
       "│ <span style=\"font-weight: bold\">}</span>                                                                                                               │\n",
       "╰─────────────────────────────────────────────────────────────────────────────────────────────────────────────────╯\n",
       "<span style=\"color: #800000; text-decoration-color: #800000\">FL Rounds</span> <span style=\"color: #f92672; text-decoration-color: #f92672\">━━━━━━━╸</span><span style=\"color: #3a3a3a; text-decoration-color: #3a3a3a\">━━━━━━━━━━━━━━━━━━━━━━━━━━━━━━━━</span> <span style=\"color: #800080; text-decoration-color: #800080\"> 19%</span> <span style=\"color: #008080; text-decoration-color: #008080\">0:02:20</span>\n",
       "<span style=\"color: #008000; text-decoration-color: #008000\">Local Training</span> <span style=\"color: #729c1f; text-decoration-color: #729c1f\">━━━━━━━━━━━━━━━━━━━━━━━━━━━━━━━━━━━━━━━━</span> <span style=\"color: #800080; text-decoration-color: #800080\">100%</span> <span style=\"color: #008080; text-decoration-color: #008080\">0:00:00</span></pre>\n"
      ],
      "text/plain": [
       "\r\u001b[2K\u001b[1A\u001b[2K╭─────────────────────────────────────────────────── Round: 19 ───────────────────────────────────────────────────╮\n",
       "│ \u001b[1m{\u001b[0m                                                                                                               │\n",
       "│     \u001b[32m'global'\u001b[0m: \u001b[1m{\u001b[0m                                                                                                 │\n",
       "│         \u001b[32m'accuracy'\u001b[0m: \u001b[1;36m0.9782\u001b[0m,                                                                                     │\n",
       "│         \u001b[32m'precision'\u001b[0m: \u001b[1;36m0.9782\u001b[0m,                                                                                    │\n",
       "│         \u001b[32m'recall'\u001b[0m: \u001b[1;36m0.9782\u001b[0m,                                                                                       │\n",
       "│         \u001b[32m'f1'\u001b[0m: \u001b[1;36m0.9782\u001b[0m,                                                                                           │\n",
       "│         \u001b[32m'loss'\u001b[0m: \u001b[1;36m1.48397\u001b[0m                                                                                         │\n",
       "│     \u001b[1m}\u001b[0m,                                                                                                          │\n",
       "│     \u001b[32m'comm_cost'\u001b[0m: \u001b[1;36m1599090\u001b[0m                                                                                        │\n",
       "│ \u001b[1m}\u001b[0m                                                                                                               │\n",
       "╰─────────────────────────────────────────────────────────────────────────────────────────────────────────────────╯\n",
       "\u001b[31mFL Rounds\u001b[0m \u001b[38;2;249;38;114m━━━━━━━\u001b[0m\u001b[38;2;249;38;114m╸\u001b[0m\u001b[38;5;237m━━━━━━━━━━━━━━━━━━━━━━━━━━━━━━━━\u001b[0m \u001b[35m 19%\u001b[0m \u001b[36m0:02:20\u001b[0m\n",
       "\u001b[32mLocal Training\u001b[0m \u001b[38;2;114;156;31m━━━━━━━━━━━━━━━━━━━━━━━━━━━━━━━━━━━━━━━━\u001b[0m \u001b[35m100%\u001b[0m \u001b[36m0:00:00\u001b[0m"
      ]
     },
     "metadata": {},
     "output_type": "display_data"
    },
    {
     "data": {
      "text/html": [
       "<pre style=\"white-space:pre;overflow-x:auto;line-height:normal;font-family:Menlo,'DejaVu Sans Mono',consolas,'Courier New',monospace\">  MEMORY USAGE: <span style=\"color: #008080; text-decoration-color: #008080; font-weight: bold\">3.15</span> %\n",
       "<span style=\"color: #800000; text-decoration-color: #800000\">FL Rounds</span> <span style=\"color: #f92672; text-decoration-color: #f92672\">━━━━━━━╸</span><span style=\"color: #3a3a3a; text-decoration-color: #3a3a3a\">━━━━━━━━━━━━━━━━━━━━━━━━━━━━━━━━</span> <span style=\"color: #800080; text-decoration-color: #800080\"> 19%</span> <span style=\"color: #008080; text-decoration-color: #008080\">0:02:20</span>\n",
       "<span style=\"color: #008000; text-decoration-color: #008000\">Local Training</span> <span style=\"color: #729c1f; text-decoration-color: #729c1f\">━━━━━━━━━━━━━━━━━━━━━━━━━━━━━━━━━━━━━━━━</span> <span style=\"color: #800080; text-decoration-color: #800080\">100%</span> <span style=\"color: #008080; text-decoration-color: #008080\">0:00:00</span></pre>\n"
      ],
      "text/plain": [
       "\r\u001b[2K\u001b[1A\u001b[2K  MEMORY USAGE: \u001b[1;36m3.15\u001b[0m %\n",
       "\u001b[31mFL Rounds\u001b[0m \u001b[38;2;249;38;114m━━━━━━━\u001b[0m\u001b[38;2;249;38;114m╸\u001b[0m\u001b[38;5;237m━━━━━━━━━━━━━━━━━━━━━━━━━━━━━━━━\u001b[0m \u001b[35m 19%\u001b[0m \u001b[36m0:02:20\u001b[0m\n",
       "\u001b[32mLocal Training\u001b[0m \u001b[38;2;114;156;31m━━━━━━━━━━━━━━━━━━━━━━━━━━━━━━━━━━━━━━━━\u001b[0m \u001b[35m100%\u001b[0m \u001b[36m0:00:00\u001b[0m"
      ]
     },
     "metadata": {},
     "output_type": "display_data"
    },
    {
     "data": {
      "text/html": [
       "<pre style=\"white-space:pre;overflow-x:auto;line-height:normal;font-family:Menlo,'DejaVu Sans Mono',consolas,'Courier New',monospace\">╭─────────────────────────────────────────────────── Round: 20 ───────────────────────────────────────────────────╮\n",
       "│ <span style=\"font-weight: bold\">{</span>                                                                                                               │\n",
       "│     <span style=\"color: #008000; text-decoration-color: #008000\">'global'</span>: <span style=\"font-weight: bold\">{</span>                                                                                                 │\n",
       "│         <span style=\"color: #008000; text-decoration-color: #008000\">'accuracy'</span>: <span style=\"color: #008080; text-decoration-color: #008080; font-weight: bold\">0.9786</span>,                                                                                     │\n",
       "│         <span style=\"color: #008000; text-decoration-color: #008000\">'precision'</span>: <span style=\"color: #008080; text-decoration-color: #008080; font-weight: bold\">0.9786</span>,                                                                                    │\n",
       "│         <span style=\"color: #008000; text-decoration-color: #008000\">'recall'</span>: <span style=\"color: #008080; text-decoration-color: #008080; font-weight: bold\">0.9786</span>,                                                                                       │\n",
       "│         <span style=\"color: #008000; text-decoration-color: #008000\">'f1'</span>: <span style=\"color: #008080; text-decoration-color: #008080; font-weight: bold\">0.9786</span>,                                                                                           │\n",
       "│         <span style=\"color: #008000; text-decoration-color: #008000\">'loss'</span>: <span style=\"color: #008080; text-decoration-color: #008080; font-weight: bold\">1.48244</span>                                                                                         │\n",
       "│     <span style=\"font-weight: bold\">}</span>,                                                                                                          │\n",
       "│     <span style=\"color: #008000; text-decoration-color: #008000\">'comm_cost'</span>: <span style=\"color: #008080; text-decoration-color: #008080; font-weight: bold\">1599086</span>                                                                                        │\n",
       "│ <span style=\"font-weight: bold\">}</span>                                                                                                               │\n",
       "╰─────────────────────────────────────────────────────────────────────────────────────────────────────────────────╯\n",
       "<span style=\"color: #800000; text-decoration-color: #800000\">FL Rounds</span> <span style=\"color: #f92672; text-decoration-color: #f92672\">━━━━━━━━</span><span style=\"color: #3a3a3a; text-decoration-color: #3a3a3a\">╺━━━━━━━━━━━━━━━━━━━━━━━━━━━━━━━</span> <span style=\"color: #800080; text-decoration-color: #800080\"> 20%</span> <span style=\"color: #008080; text-decoration-color: #008080\">0:02:18</span>\n",
       "<span style=\"color: #008000; text-decoration-color: #008000\">Local Training</span> <span style=\"color: #729c1f; text-decoration-color: #729c1f\">━━━━━━━━━━━━━━━━━━━━━━━━━━━━━━━━━━━━━━━━</span> <span style=\"color: #800080; text-decoration-color: #800080\">100%</span> <span style=\"color: #008080; text-decoration-color: #008080\">0:00:00</span></pre>\n"
      ],
      "text/plain": [
       "\r\u001b[2K\u001b[1A\u001b[2K╭─────────────────────────────────────────────────── Round: 20 ───────────────────────────────────────────────────╮\n",
       "│ \u001b[1m{\u001b[0m                                                                                                               │\n",
       "│     \u001b[32m'global'\u001b[0m: \u001b[1m{\u001b[0m                                                                                                 │\n",
       "│         \u001b[32m'accuracy'\u001b[0m: \u001b[1;36m0.9786\u001b[0m,                                                                                     │\n",
       "│         \u001b[32m'precision'\u001b[0m: \u001b[1;36m0.9786\u001b[0m,                                                                                    │\n",
       "│         \u001b[32m'recall'\u001b[0m: \u001b[1;36m0.9786\u001b[0m,                                                                                       │\n",
       "│         \u001b[32m'f1'\u001b[0m: \u001b[1;36m0.9786\u001b[0m,                                                                                           │\n",
       "│         \u001b[32m'loss'\u001b[0m: \u001b[1;36m1.48244\u001b[0m                                                                                         │\n",
       "│     \u001b[1m}\u001b[0m,                                                                                                          │\n",
       "│     \u001b[32m'comm_cost'\u001b[0m: \u001b[1;36m1599086\u001b[0m                                                                                        │\n",
       "│ \u001b[1m}\u001b[0m                                                                                                               │\n",
       "╰─────────────────────────────────────────────────────────────────────────────────────────────────────────────────╯\n",
       "\u001b[31mFL Rounds\u001b[0m \u001b[38;2;249;38;114m━━━━━━━━\u001b[0m\u001b[38;5;237m╺\u001b[0m\u001b[38;5;237m━━━━━━━━━━━━━━━━━━━━━━━━━━━━━━━\u001b[0m \u001b[35m 20%\u001b[0m \u001b[36m0:02:18\u001b[0m\n",
       "\u001b[32mLocal Training\u001b[0m \u001b[38;2;114;156;31m━━━━━━━━━━━━━━━━━━━━━━━━━━━━━━━━━━━━━━━━\u001b[0m \u001b[35m100%\u001b[0m \u001b[36m0:00:00\u001b[0m"
      ]
     },
     "metadata": {},
     "output_type": "display_data"
    },
    {
     "data": {
      "text/html": [
       "<pre style=\"white-space:pre;overflow-x:auto;line-height:normal;font-family:Menlo,'DejaVu Sans Mono',consolas,'Courier New',monospace\">  MEMORY USAGE: <span style=\"color: #008080; text-decoration-color: #008080; font-weight: bold\">3.15</span> %\n",
       "<span style=\"color: #800000; text-decoration-color: #800000\">FL Rounds</span> <span style=\"color: #f92672; text-decoration-color: #f92672\">━━━━━━━━</span><span style=\"color: #3a3a3a; text-decoration-color: #3a3a3a\">╺━━━━━━━━━━━━━━━━━━━━━━━━━━━━━━━</span> <span style=\"color: #800080; text-decoration-color: #800080\"> 20%</span> <span style=\"color: #008080; text-decoration-color: #008080\">0:02:18</span>\n",
       "<span style=\"color: #008000; text-decoration-color: #008000\">Local Training</span> <span style=\"color: #729c1f; text-decoration-color: #729c1f\">━━━━━━━━━━━━━━━━━━━━━━━━━━━━━━━━━━━━━━━━</span> <span style=\"color: #800080; text-decoration-color: #800080\">100%</span> <span style=\"color: #008080; text-decoration-color: #008080\">0:00:00</span></pre>\n"
      ],
      "text/plain": [
       "\r\u001b[2K\u001b[1A\u001b[2K  MEMORY USAGE: \u001b[1;36m3.15\u001b[0m %\n",
       "\u001b[31mFL Rounds\u001b[0m \u001b[38;2;249;38;114m━━━━━━━━\u001b[0m\u001b[38;5;237m╺\u001b[0m\u001b[38;5;237m━━━━━━━━━━━━━━━━━━━━━━━━━━━━━━━\u001b[0m \u001b[35m 20%\u001b[0m \u001b[36m0:02:18\u001b[0m\n",
       "\u001b[32mLocal Training\u001b[0m \u001b[38;2;114;156;31m━━━━━━━━━━━━━━━━━━━━━━━━━━━━━━━━━━━━━━━━\u001b[0m \u001b[35m100%\u001b[0m \u001b[36m0:00:00\u001b[0m"
      ]
     },
     "metadata": {},
     "output_type": "display_data"
    },
    {
     "data": {
      "text/html": [
       "<pre style=\"white-space:pre;overflow-x:auto;line-height:normal;font-family:Menlo,'DejaVu Sans Mono',consolas,'Courier New',monospace\">╭─────────────────────────────────────────────────── Round: 21 ───────────────────────────────────────────────────╮\n",
       "│ <span style=\"font-weight: bold\">{</span>                                                                                                               │\n",
       "│     <span style=\"color: #008000; text-decoration-color: #008000\">'global'</span>: <span style=\"font-weight: bold\">{</span>                                                                                                 │\n",
       "│         <span style=\"color: #008000; text-decoration-color: #008000\">'accuracy'</span>: <span style=\"color: #008080; text-decoration-color: #008080; font-weight: bold\">0.9785</span>,                                                                                     │\n",
       "│         <span style=\"color: #008000; text-decoration-color: #008000\">'precision'</span>: <span style=\"color: #008080; text-decoration-color: #008080; font-weight: bold\">0.9785</span>,                                                                                    │\n",
       "│         <span style=\"color: #008000; text-decoration-color: #008000\">'recall'</span>: <span style=\"color: #008080; text-decoration-color: #008080; font-weight: bold\">0.9785</span>,                                                                                       │\n",
       "│         <span style=\"color: #008000; text-decoration-color: #008000\">'f1'</span>: <span style=\"color: #008080; text-decoration-color: #008080; font-weight: bold\">0.9785</span>,                                                                                           │\n",
       "│         <span style=\"color: #008000; text-decoration-color: #008000\">'loss'</span>: <span style=\"color: #008080; text-decoration-color: #008080; font-weight: bold\">1.48288</span>                                                                                         │\n",
       "│     <span style=\"font-weight: bold\">}</span>,                                                                                                          │\n",
       "│     <span style=\"color: #008000; text-decoration-color: #008000\">'comm_cost'</span>: <span style=\"color: #008080; text-decoration-color: #008080; font-weight: bold\">1599086</span>                                                                                        │\n",
       "│ <span style=\"font-weight: bold\">}</span>                                                                                                               │\n",
       "╰─────────────────────────────────────────────────────────────────────────────────────────────────────────────────╯\n",
       "<span style=\"color: #800000; text-decoration-color: #800000\">FL Rounds</span> <span style=\"color: #f92672; text-decoration-color: #f92672\">━━━━━━━━</span><span style=\"color: #3a3a3a; text-decoration-color: #3a3a3a\">╺━━━━━━━━━━━━━━━━━━━━━━━━━━━━━━━</span> <span style=\"color: #800080; text-decoration-color: #800080\"> 21%</span> <span style=\"color: #008080; text-decoration-color: #008080\">0:02:15</span>\n",
       "<span style=\"color: #008000; text-decoration-color: #008000\">Local Training</span> <span style=\"color: #729c1f; text-decoration-color: #729c1f\">━━━━━━━━━━━━━━━━━━━━━━━━━━━━━━━━━━━━━━━━</span> <span style=\"color: #800080; text-decoration-color: #800080\">100%</span> <span style=\"color: #008080; text-decoration-color: #008080\">0:00:00</span></pre>\n"
      ],
      "text/plain": [
       "\r\u001b[2K\u001b[1A\u001b[2K╭─────────────────────────────────────────────────── Round: 21 ───────────────────────────────────────────────────╮\n",
       "│ \u001b[1m{\u001b[0m                                                                                                               │\n",
       "│     \u001b[32m'global'\u001b[0m: \u001b[1m{\u001b[0m                                                                                                 │\n",
       "│         \u001b[32m'accuracy'\u001b[0m: \u001b[1;36m0.9785\u001b[0m,                                                                                     │\n",
       "│         \u001b[32m'precision'\u001b[0m: \u001b[1;36m0.9785\u001b[0m,                                                                                    │\n",
       "│         \u001b[32m'recall'\u001b[0m: \u001b[1;36m0.9785\u001b[0m,                                                                                       │\n",
       "│         \u001b[32m'f1'\u001b[0m: \u001b[1;36m0.9785\u001b[0m,                                                                                           │\n",
       "│         \u001b[32m'loss'\u001b[0m: \u001b[1;36m1.48288\u001b[0m                                                                                         │\n",
       "│     \u001b[1m}\u001b[0m,                                                                                                          │\n",
       "│     \u001b[32m'comm_cost'\u001b[0m: \u001b[1;36m1599086\u001b[0m                                                                                        │\n",
       "│ \u001b[1m}\u001b[0m                                                                                                               │\n",
       "╰─────────────────────────────────────────────────────────────────────────────────────────────────────────────────╯\n",
       "\u001b[31mFL Rounds\u001b[0m \u001b[38;2;249;38;114m━━━━━━━━\u001b[0m\u001b[38;5;237m╺\u001b[0m\u001b[38;5;237m━━━━━━━━━━━━━━━━━━━━━━━━━━━━━━━\u001b[0m \u001b[35m 21%\u001b[0m \u001b[36m0:02:15\u001b[0m\n",
       "\u001b[32mLocal Training\u001b[0m \u001b[38;2;114;156;31m━━━━━━━━━━━━━━━━━━━━━━━━━━━━━━━━━━━━━━━━\u001b[0m \u001b[35m100%\u001b[0m \u001b[36m0:00:00\u001b[0m"
      ]
     },
     "metadata": {},
     "output_type": "display_data"
    },
    {
     "data": {
      "text/html": [
       "<pre style=\"white-space:pre;overflow-x:auto;line-height:normal;font-family:Menlo,'DejaVu Sans Mono',consolas,'Courier New',monospace\">  MEMORY USAGE: <span style=\"color: #008080; text-decoration-color: #008080; font-weight: bold\">3.15</span> %\n",
       "<span style=\"color: #800000; text-decoration-color: #800000\">FL Rounds</span> <span style=\"color: #f92672; text-decoration-color: #f92672\">━━━━━━━━</span><span style=\"color: #3a3a3a; text-decoration-color: #3a3a3a\">╺━━━━━━━━━━━━━━━━━━━━━━━━━━━━━━━</span> <span style=\"color: #800080; text-decoration-color: #800080\"> 21%</span> <span style=\"color: #008080; text-decoration-color: #008080\">0:02:15</span>\n",
       "<span style=\"color: #008000; text-decoration-color: #008000\">Local Training</span> <span style=\"color: #729c1f; text-decoration-color: #729c1f\">━━━━━━━━━━━━━━━━━━━━━━━━━━━━━━━━━━━━━━━━</span> <span style=\"color: #800080; text-decoration-color: #800080\">100%</span> <span style=\"color: #008080; text-decoration-color: #008080\">0:00:00</span></pre>\n"
      ],
      "text/plain": [
       "\r\u001b[2K\u001b[1A\u001b[2K  MEMORY USAGE: \u001b[1;36m3.15\u001b[0m %\n",
       "\u001b[31mFL Rounds\u001b[0m \u001b[38;2;249;38;114m━━━━━━━━\u001b[0m\u001b[38;5;237m╺\u001b[0m\u001b[38;5;237m━━━━━━━━━━━━━━━━━━━━━━━━━━━━━━━\u001b[0m \u001b[35m 21%\u001b[0m \u001b[36m0:02:15\u001b[0m\n",
       "\u001b[32mLocal Training\u001b[0m \u001b[38;2;114;156;31m━━━━━━━━━━━━━━━━━━━━━━━━━━━━━━━━━━━━━━━━\u001b[0m \u001b[35m100%\u001b[0m \u001b[36m0:00:00\u001b[0m"
      ]
     },
     "metadata": {},
     "output_type": "display_data"
    },
    {
     "data": {
      "text/html": [
       "<pre style=\"white-space:pre;overflow-x:auto;line-height:normal;font-family:Menlo,'DejaVu Sans Mono',consolas,'Courier New',monospace\">╭─────────────────────────────────────────────────── Round: 22 ───────────────────────────────────────────────────╮\n",
       "│ <span style=\"font-weight: bold\">{</span>                                                                                                               │\n",
       "│     <span style=\"color: #008000; text-decoration-color: #008000\">'global'</span>: <span style=\"font-weight: bold\">{</span>                                                                                                 │\n",
       "│         <span style=\"color: #008000; text-decoration-color: #008000\">'accuracy'</span>: <span style=\"color: #008080; text-decoration-color: #008080; font-weight: bold\">0.979</span>,                                                                                      │\n",
       "│         <span style=\"color: #008000; text-decoration-color: #008000\">'precision'</span>: <span style=\"color: #008080; text-decoration-color: #008080; font-weight: bold\">0.979</span>,                                                                                     │\n",
       "│         <span style=\"color: #008000; text-decoration-color: #008000\">'recall'</span>: <span style=\"color: #008080; text-decoration-color: #008080; font-weight: bold\">0.979</span>,                                                                                        │\n",
       "│         <span style=\"color: #008000; text-decoration-color: #008000\">'f1'</span>: <span style=\"color: #008080; text-decoration-color: #008080; font-weight: bold\">0.979</span>,                                                                                            │\n",
       "│         <span style=\"color: #008000; text-decoration-color: #008000\">'loss'</span>: <span style=\"color: #008080; text-decoration-color: #008080; font-weight: bold\">1.48321</span>                                                                                         │\n",
       "│     <span style=\"font-weight: bold\">}</span>,                                                                                                          │\n",
       "│     <span style=\"color: #008000; text-decoration-color: #008000\">'comm_cost'</span>: <span style=\"color: #008080; text-decoration-color: #008080; font-weight: bold\">1599080</span>                                                                                        │\n",
       "│ <span style=\"font-weight: bold\">}</span>                                                                                                               │\n",
       "╰─────────────────────────────────────────────────────────────────────────────────────────────────────────────────╯\n",
       "<span style=\"color: #800000; text-decoration-color: #800000\">FL Rounds</span> <span style=\"color: #f92672; text-decoration-color: #f92672\">━━━━━━━━╸</span><span style=\"color: #3a3a3a; text-decoration-color: #3a3a3a\">━━━━━━━━━━━━━━━━━━━━━━━━━━━━━━━</span> <span style=\"color: #800080; text-decoration-color: #800080\"> 22%</span> <span style=\"color: #008080; text-decoration-color: #008080\">0:02:12</span>\n",
       "<span style=\"color: #008000; text-decoration-color: #008000\">Local Training</span> <span style=\"color: #729c1f; text-decoration-color: #729c1f\">━━━━━━━━━━━━━━━━━━━━━━━━━━━━━━━━━━━━━━━━</span> <span style=\"color: #800080; text-decoration-color: #800080\">100%</span> <span style=\"color: #008080; text-decoration-color: #008080\">0:00:00</span></pre>\n"
      ],
      "text/plain": [
       "\r\u001b[2K\u001b[1A\u001b[2K╭─────────────────────────────────────────────────── Round: 22 ───────────────────────────────────────────────────╮\n",
       "│ \u001b[1m{\u001b[0m                                                                                                               │\n",
       "│     \u001b[32m'global'\u001b[0m: \u001b[1m{\u001b[0m                                                                                                 │\n",
       "│         \u001b[32m'accuracy'\u001b[0m: \u001b[1;36m0.979\u001b[0m,                                                                                      │\n",
       "│         \u001b[32m'precision'\u001b[0m: \u001b[1;36m0.979\u001b[0m,                                                                                     │\n",
       "│         \u001b[32m'recall'\u001b[0m: \u001b[1;36m0.979\u001b[0m,                                                                                        │\n",
       "│         \u001b[32m'f1'\u001b[0m: \u001b[1;36m0.979\u001b[0m,                                                                                            │\n",
       "│         \u001b[32m'loss'\u001b[0m: \u001b[1;36m1.48321\u001b[0m                                                                                         │\n",
       "│     \u001b[1m}\u001b[0m,                                                                                                          │\n",
       "│     \u001b[32m'comm_cost'\u001b[0m: \u001b[1;36m1599080\u001b[0m                                                                                        │\n",
       "│ \u001b[1m}\u001b[0m                                                                                                               │\n",
       "╰─────────────────────────────────────────────────────────────────────────────────────────────────────────────────╯\n",
       "\u001b[31mFL Rounds\u001b[0m \u001b[38;2;249;38;114m━━━━━━━━\u001b[0m\u001b[38;2;249;38;114m╸\u001b[0m\u001b[38;5;237m━━━━━━━━━━━━━━━━━━━━━━━━━━━━━━━\u001b[0m \u001b[35m 22%\u001b[0m \u001b[36m0:02:12\u001b[0m\n",
       "\u001b[32mLocal Training\u001b[0m \u001b[38;2;114;156;31m━━━━━━━━━━━━━━━━━━━━━━━━━━━━━━━━━━━━━━━━\u001b[0m \u001b[35m100%\u001b[0m \u001b[36m0:00:00\u001b[0m"
      ]
     },
     "metadata": {},
     "output_type": "display_data"
    },
    {
     "data": {
      "text/html": [
       "<pre style=\"white-space:pre;overflow-x:auto;line-height:normal;font-family:Menlo,'DejaVu Sans Mono',consolas,'Courier New',monospace\">  MEMORY USAGE: <span style=\"color: #008080; text-decoration-color: #008080; font-weight: bold\">3.15</span> %\n",
       "<span style=\"color: #800000; text-decoration-color: #800000\">FL Rounds</span> <span style=\"color: #f92672; text-decoration-color: #f92672\">━━━━━━━━╸</span><span style=\"color: #3a3a3a; text-decoration-color: #3a3a3a\">━━━━━━━━━━━━━━━━━━━━━━━━━━━━━━━</span> <span style=\"color: #800080; text-decoration-color: #800080\"> 22%</span> <span style=\"color: #008080; text-decoration-color: #008080\">0:02:12</span>\n",
       "<span style=\"color: #008000; text-decoration-color: #008000\">Local Training</span> <span style=\"color: #729c1f; text-decoration-color: #729c1f\">━━━━━━━━━━━━━━━━━━━━━━━━━━━━━━━━━━━━━━━━</span> <span style=\"color: #800080; text-decoration-color: #800080\">100%</span> <span style=\"color: #008080; text-decoration-color: #008080\">0:00:00</span></pre>\n"
      ],
      "text/plain": [
       "\r\u001b[2K\u001b[1A\u001b[2K  MEMORY USAGE: \u001b[1;36m3.15\u001b[0m %\n",
       "\u001b[31mFL Rounds\u001b[0m \u001b[38;2;249;38;114m━━━━━━━━\u001b[0m\u001b[38;2;249;38;114m╸\u001b[0m\u001b[38;5;237m━━━━━━━━━━━━━━━━━━━━━━━━━━━━━━━\u001b[0m \u001b[35m 22%\u001b[0m \u001b[36m0:02:12\u001b[0m\n",
       "\u001b[32mLocal Training\u001b[0m \u001b[38;2;114;156;31m━━━━━━━━━━━━━━━━━━━━━━━━━━━━━━━━━━━━━━━━\u001b[0m \u001b[35m100%\u001b[0m \u001b[36m0:00:00\u001b[0m"
      ]
     },
     "metadata": {},
     "output_type": "display_data"
    },
    {
     "data": {
      "text/html": [
       "<pre style=\"white-space:pre;overflow-x:auto;line-height:normal;font-family:Menlo,'DejaVu Sans Mono',consolas,'Courier New',monospace\">╭─────────────────────────────────────────────────── Round: 23 ───────────────────────────────────────────────────╮\n",
       "│ <span style=\"font-weight: bold\">{</span>                                                                                                               │\n",
       "│     <span style=\"color: #008000; text-decoration-color: #008000\">'global'</span>: <span style=\"font-weight: bold\">{</span>                                                                                                 │\n",
       "│         <span style=\"color: #008000; text-decoration-color: #008000\">'accuracy'</span>: <span style=\"color: #008080; text-decoration-color: #008080; font-weight: bold\">0.9805</span>,                                                                                     │\n",
       "│         <span style=\"color: #008000; text-decoration-color: #008000\">'precision'</span>: <span style=\"color: #008080; text-decoration-color: #008080; font-weight: bold\">0.9805</span>,                                                                                    │\n",
       "│         <span style=\"color: #008000; text-decoration-color: #008000\">'recall'</span>: <span style=\"color: #008080; text-decoration-color: #008080; font-weight: bold\">0.9805</span>,                                                                                       │\n",
       "│         <span style=\"color: #008000; text-decoration-color: #008000\">'f1'</span>: <span style=\"color: #008080; text-decoration-color: #008080; font-weight: bold\">0.9805</span>,                                                                                           │\n",
       "│         <span style=\"color: #008000; text-decoration-color: #008000\">'loss'</span>: <span style=\"color: #008080; text-decoration-color: #008080; font-weight: bold\">1.48099</span>                                                                                         │\n",
       "│     <span style=\"font-weight: bold\">}</span>,                                                                                                          │\n",
       "│     <span style=\"color: #008000; text-decoration-color: #008000\">'comm_cost'</span>: <span style=\"color: #008080; text-decoration-color: #008080; font-weight: bold\">1599088</span>                                                                                        │\n",
       "│ <span style=\"font-weight: bold\">}</span>                                                                                                               │\n",
       "╰─────────────────────────────────────────────────────────────────────────────────────────────────────────────────╯\n",
       "<span style=\"color: #800000; text-decoration-color: #800000\">FL Rounds</span> <span style=\"color: #f92672; text-decoration-color: #f92672\">━━━━━━━━━</span><span style=\"color: #3a3a3a; text-decoration-color: #3a3a3a\">╺━━━━━━━━━━━━━━━━━━━━━━━━━━━━━━</span> <span style=\"color: #800080; text-decoration-color: #800080\"> 23%</span> <span style=\"color: #008080; text-decoration-color: #008080\">0:02:08</span>\n",
       "<span style=\"color: #008000; text-decoration-color: #008000\">Local Training</span> <span style=\"color: #729c1f; text-decoration-color: #729c1f\">━━━━━━━━━━━━━━━━━━━━━━━━━━━━━━━━━━━━━━━━</span> <span style=\"color: #800080; text-decoration-color: #800080\">100%</span> <span style=\"color: #008080; text-decoration-color: #008080\">0:00:00</span></pre>\n"
      ],
      "text/plain": [
       "\r\u001b[2K\u001b[1A\u001b[2K╭─────────────────────────────────────────────────── Round: 23 ───────────────────────────────────────────────────╮\n",
       "│ \u001b[1m{\u001b[0m                                                                                                               │\n",
       "│     \u001b[32m'global'\u001b[0m: \u001b[1m{\u001b[0m                                                                                                 │\n",
       "│         \u001b[32m'accuracy'\u001b[0m: \u001b[1;36m0.9805\u001b[0m,                                                                                     │\n",
       "│         \u001b[32m'precision'\u001b[0m: \u001b[1;36m0.9805\u001b[0m,                                                                                    │\n",
       "│         \u001b[32m'recall'\u001b[0m: \u001b[1;36m0.9805\u001b[0m,                                                                                       │\n",
       "│         \u001b[32m'f1'\u001b[0m: \u001b[1;36m0.9805\u001b[0m,                                                                                           │\n",
       "│         \u001b[32m'loss'\u001b[0m: \u001b[1;36m1.48099\u001b[0m                                                                                         │\n",
       "│     \u001b[1m}\u001b[0m,                                                                                                          │\n",
       "│     \u001b[32m'comm_cost'\u001b[0m: \u001b[1;36m1599088\u001b[0m                                                                                        │\n",
       "│ \u001b[1m}\u001b[0m                                                                                                               │\n",
       "╰─────────────────────────────────────────────────────────────────────────────────────────────────────────────────╯\n",
       "\u001b[31mFL Rounds\u001b[0m \u001b[38;2;249;38;114m━━━━━━━━━\u001b[0m\u001b[38;5;237m╺\u001b[0m\u001b[38;5;237m━━━━━━━━━━━━━━━━━━━━━━━━━━━━━━\u001b[0m \u001b[35m 23%\u001b[0m \u001b[36m0:02:08\u001b[0m\n",
       "\u001b[32mLocal Training\u001b[0m \u001b[38;2;114;156;31m━━━━━━━━━━━━━━━━━━━━━━━━━━━━━━━━━━━━━━━━\u001b[0m \u001b[35m100%\u001b[0m \u001b[36m0:00:00\u001b[0m"
      ]
     },
     "metadata": {},
     "output_type": "display_data"
    },
    {
     "data": {
      "text/html": [
       "<pre style=\"white-space:pre;overflow-x:auto;line-height:normal;font-family:Menlo,'DejaVu Sans Mono',consolas,'Courier New',monospace\">  MEMORY USAGE: <span style=\"color: #008080; text-decoration-color: #008080; font-weight: bold\">3.15</span> %\n",
       "<span style=\"color: #800000; text-decoration-color: #800000\">FL Rounds</span> <span style=\"color: #f92672; text-decoration-color: #f92672\">━━━━━━━━━</span><span style=\"color: #3a3a3a; text-decoration-color: #3a3a3a\">╺━━━━━━━━━━━━━━━━━━━━━━━━━━━━━━</span> <span style=\"color: #800080; text-decoration-color: #800080\"> 23%</span> <span style=\"color: #008080; text-decoration-color: #008080\">0:02:08</span>\n",
       "<span style=\"color: #008000; text-decoration-color: #008000\">Local Training</span> <span style=\"color: #729c1f; text-decoration-color: #729c1f\">━━━━━━━━━━━━━━━━━━━━━━━━━━━━━━━━━━━━━━━━</span> <span style=\"color: #800080; text-decoration-color: #800080\">100%</span> <span style=\"color: #008080; text-decoration-color: #008080\">0:00:00</span></pre>\n"
      ],
      "text/plain": [
       "\r\u001b[2K\u001b[1A\u001b[2K  MEMORY USAGE: \u001b[1;36m3.15\u001b[0m %\n",
       "\u001b[31mFL Rounds\u001b[0m \u001b[38;2;249;38;114m━━━━━━━━━\u001b[0m\u001b[38;5;237m╺\u001b[0m\u001b[38;5;237m━━━━━━━━━━━━━━━━━━━━━━━━━━━━━━\u001b[0m \u001b[35m 23%\u001b[0m \u001b[36m0:02:08\u001b[0m\n",
       "\u001b[32mLocal Training\u001b[0m \u001b[38;2;114;156;31m━━━━━━━━━━━━━━━━━━━━━━━━━━━━━━━━━━━━━━━━\u001b[0m \u001b[35m100%\u001b[0m \u001b[36m0:00:00\u001b[0m"
      ]
     },
     "metadata": {},
     "output_type": "display_data"
    },
    {
     "data": {
      "text/html": [
       "<pre style=\"white-space:pre;overflow-x:auto;line-height:normal;font-family:Menlo,'DejaVu Sans Mono',consolas,'Courier New',monospace\">╭─────────────────────────────────────────────────── Round: 24 ───────────────────────────────────────────────────╮\n",
       "│ <span style=\"font-weight: bold\">{</span>                                                                                                               │\n",
       "│     <span style=\"color: #008000; text-decoration-color: #008000\">'global'</span>: <span style=\"font-weight: bold\">{</span>                                                                                                 │\n",
       "│         <span style=\"color: #008000; text-decoration-color: #008000\">'accuracy'</span>: <span style=\"color: #008080; text-decoration-color: #008080; font-weight: bold\">0.9803</span>,                                                                                     │\n",
       "│         <span style=\"color: #008000; text-decoration-color: #008000\">'precision'</span>: <span style=\"color: #008080; text-decoration-color: #008080; font-weight: bold\">0.9803</span>,                                                                                    │\n",
       "│         <span style=\"color: #008000; text-decoration-color: #008000\">'recall'</span>: <span style=\"color: #008080; text-decoration-color: #008080; font-weight: bold\">0.9803</span>,                                                                                       │\n",
       "│         <span style=\"color: #008000; text-decoration-color: #008000\">'f1'</span>: <span style=\"color: #008080; text-decoration-color: #008080; font-weight: bold\">0.9803</span>,                                                                                           │\n",
       "│         <span style=\"color: #008000; text-decoration-color: #008000\">'loss'</span>: <span style=\"color: #008080; text-decoration-color: #008080; font-weight: bold\">1.48079</span>                                                                                         │\n",
       "│     <span style=\"font-weight: bold\">}</span>,                                                                                                          │\n",
       "│     <span style=\"color: #008000; text-decoration-color: #008000\">'comm_cost'</span>: <span style=\"color: #008080; text-decoration-color: #008080; font-weight: bold\">1599084</span>                                                                                        │\n",
       "│ <span style=\"font-weight: bold\">}</span>                                                                                                               │\n",
       "╰─────────────────────────────────────────────────────────────────────────────────────────────────────────────────╯\n",
       "<span style=\"color: #800000; text-decoration-color: #800000\">FL Rounds</span> <span style=\"color: #f92672; text-decoration-color: #f92672\">━━━━━━━━━╸</span><span style=\"color: #3a3a3a; text-decoration-color: #3a3a3a\">━━━━━━━━━━━━━━━━━━━━━━━━━━━━━━</span> <span style=\"color: #800080; text-decoration-color: #800080\"> 24%</span> <span style=\"color: #008080; text-decoration-color: #008080\">0:02:06</span>\n",
       "<span style=\"color: #008000; text-decoration-color: #008000\">Local Training</span> <span style=\"color: #729c1f; text-decoration-color: #729c1f\">━━━━━━━━━━━━━━━━━━━━━━━━━━━━━━━━━━━━━━━━</span> <span style=\"color: #800080; text-decoration-color: #800080\">100%</span> <span style=\"color: #008080; text-decoration-color: #008080\">0:00:00</span></pre>\n"
      ],
      "text/plain": [
       "\r\u001b[2K\u001b[1A\u001b[2K╭─────────────────────────────────────────────────── Round: 24 ───────────────────────────────────────────────────╮\n",
       "│ \u001b[1m{\u001b[0m                                                                                                               │\n",
       "│     \u001b[32m'global'\u001b[0m: \u001b[1m{\u001b[0m                                                                                                 │\n",
       "│         \u001b[32m'accuracy'\u001b[0m: \u001b[1;36m0.9803\u001b[0m,                                                                                     │\n",
       "│         \u001b[32m'precision'\u001b[0m: \u001b[1;36m0.9803\u001b[0m,                                                                                    │\n",
       "│         \u001b[32m'recall'\u001b[0m: \u001b[1;36m0.9803\u001b[0m,                                                                                       │\n",
       "│         \u001b[32m'f1'\u001b[0m: \u001b[1;36m0.9803\u001b[0m,                                                                                           │\n",
       "│         \u001b[32m'loss'\u001b[0m: \u001b[1;36m1.48079\u001b[0m                                                                                         │\n",
       "│     \u001b[1m}\u001b[0m,                                                                                                          │\n",
       "│     \u001b[32m'comm_cost'\u001b[0m: \u001b[1;36m1599084\u001b[0m                                                                                        │\n",
       "│ \u001b[1m}\u001b[0m                                                                                                               │\n",
       "╰─────────────────────────────────────────────────────────────────────────────────────────────────────────────────╯\n",
       "\u001b[31mFL Rounds\u001b[0m \u001b[38;2;249;38;114m━━━━━━━━━\u001b[0m\u001b[38;2;249;38;114m╸\u001b[0m\u001b[38;5;237m━━━━━━━━━━━━━━━━━━━━━━━━━━━━━━\u001b[0m \u001b[35m 24%\u001b[0m \u001b[36m0:02:06\u001b[0m\n",
       "\u001b[32mLocal Training\u001b[0m \u001b[38;2;114;156;31m━━━━━━━━━━━━━━━━━━━━━━━━━━━━━━━━━━━━━━━━\u001b[0m \u001b[35m100%\u001b[0m \u001b[36m0:00:00\u001b[0m"
      ]
     },
     "metadata": {},
     "output_type": "display_data"
    },
    {
     "data": {
      "text/html": [
       "<pre style=\"white-space:pre;overflow-x:auto;line-height:normal;font-family:Menlo,'DejaVu Sans Mono',consolas,'Courier New',monospace\">  MEMORY USAGE: <span style=\"color: #008080; text-decoration-color: #008080; font-weight: bold\">3.15</span> %\n",
       "<span style=\"color: #800000; text-decoration-color: #800000\">FL Rounds</span> <span style=\"color: #f92672; text-decoration-color: #f92672\">━━━━━━━━━╸</span><span style=\"color: #3a3a3a; text-decoration-color: #3a3a3a\">━━━━━━━━━━━━━━━━━━━━━━━━━━━━━━</span> <span style=\"color: #800080; text-decoration-color: #800080\"> 24%</span> <span style=\"color: #008080; text-decoration-color: #008080\">0:02:06</span>\n",
       "<span style=\"color: #008000; text-decoration-color: #008000\">Local Training</span> <span style=\"color: #729c1f; text-decoration-color: #729c1f\">━━━━━━━━━━━━━━━━━━━━━━━━━━━━━━━━━━━━━━━━</span> <span style=\"color: #800080; text-decoration-color: #800080\">100%</span> <span style=\"color: #008080; text-decoration-color: #008080\">0:00:00</span></pre>\n"
      ],
      "text/plain": [
       "\r\u001b[2K\u001b[1A\u001b[2K  MEMORY USAGE: \u001b[1;36m3.15\u001b[0m %\n",
       "\u001b[31mFL Rounds\u001b[0m \u001b[38;2;249;38;114m━━━━━━━━━\u001b[0m\u001b[38;2;249;38;114m╸\u001b[0m\u001b[38;5;237m━━━━━━━━━━━━━━━━━━━━━━━━━━━━━━\u001b[0m \u001b[35m 24%\u001b[0m \u001b[36m0:02:06\u001b[0m\n",
       "\u001b[32mLocal Training\u001b[0m \u001b[38;2;114;156;31m━━━━━━━━━━━━━━━━━━━━━━━━━━━━━━━━━━━━━━━━\u001b[0m \u001b[35m100%\u001b[0m \u001b[36m0:00:00\u001b[0m"
      ]
     },
     "metadata": {},
     "output_type": "display_data"
    },
    {
     "data": {
      "text/html": [
       "<pre style=\"white-space:pre;overflow-x:auto;line-height:normal;font-family:Menlo,'DejaVu Sans Mono',consolas,'Courier New',monospace\">╭─────────────────────────────────────────────────── Round: 25 ───────────────────────────────────────────────────╮\n",
       "│ <span style=\"font-weight: bold\">{</span>                                                                                                               │\n",
       "│     <span style=\"color: #008000; text-decoration-color: #008000\">'global'</span>: <span style=\"font-weight: bold\">{</span>                                                                                                 │\n",
       "│         <span style=\"color: #008000; text-decoration-color: #008000\">'accuracy'</span>: <span style=\"color: #008080; text-decoration-color: #008080; font-weight: bold\">0.9805</span>,                                                                                     │\n",
       "│         <span style=\"color: #008000; text-decoration-color: #008000\">'precision'</span>: <span style=\"color: #008080; text-decoration-color: #008080; font-weight: bold\">0.9805</span>,                                                                                    │\n",
       "│         <span style=\"color: #008000; text-decoration-color: #008000\">'recall'</span>: <span style=\"color: #008080; text-decoration-color: #008080; font-weight: bold\">0.9805</span>,                                                                                       │\n",
       "│         <span style=\"color: #008000; text-decoration-color: #008000\">'f1'</span>: <span style=\"color: #008080; text-decoration-color: #008080; font-weight: bold\">0.9805</span>,                                                                                           │\n",
       "│         <span style=\"color: #008000; text-decoration-color: #008000\">'loss'</span>: <span style=\"color: #008080; text-decoration-color: #008080; font-weight: bold\">1.48078</span>                                                                                         │\n",
       "│     <span style=\"font-weight: bold\">}</span>,                                                                                                          │\n",
       "│     <span style=\"color: #008000; text-decoration-color: #008000\">'comm_cost'</span>: <span style=\"color: #008080; text-decoration-color: #008080; font-weight: bold\">1599080</span>                                                                                        │\n",
       "│ <span style=\"font-weight: bold\">}</span>                                                                                                               │\n",
       "╰─────────────────────────────────────────────────────────────────────────────────────────────────────────────────╯\n",
       "<span style=\"color: #800000; text-decoration-color: #800000\">FL Rounds</span> <span style=\"color: #f92672; text-decoration-color: #f92672\">━━━━━━━━━━</span><span style=\"color: #3a3a3a; text-decoration-color: #3a3a3a\">╺━━━━━━━━━━━━━━━━━━━━━━━━━━━━━</span> <span style=\"color: #800080; text-decoration-color: #800080\"> 25%</span> <span style=\"color: #008080; text-decoration-color: #008080\">0:02:04</span>\n",
       "<span style=\"color: #008000; text-decoration-color: #008000\">Local Training</span> <span style=\"color: #729c1f; text-decoration-color: #729c1f\">━━━━━━━━━━━━━━━━━━━━━━━━━━━━━━━━━━━━━━━━</span> <span style=\"color: #800080; text-decoration-color: #800080\">100%</span> <span style=\"color: #008080; text-decoration-color: #008080\">0:00:00</span></pre>\n"
      ],
      "text/plain": [
       "\r\u001b[2K\u001b[1A\u001b[2K╭─────────────────────────────────────────────────── Round: 25 ───────────────────────────────────────────────────╮\n",
       "│ \u001b[1m{\u001b[0m                                                                                                               │\n",
       "│     \u001b[32m'global'\u001b[0m: \u001b[1m{\u001b[0m                                                                                                 │\n",
       "│         \u001b[32m'accuracy'\u001b[0m: \u001b[1;36m0.9805\u001b[0m,                                                                                     │\n",
       "│         \u001b[32m'precision'\u001b[0m: \u001b[1;36m0.9805\u001b[0m,                                                                                    │\n",
       "│         \u001b[32m'recall'\u001b[0m: \u001b[1;36m0.9805\u001b[0m,                                                                                       │\n",
       "│         \u001b[32m'f1'\u001b[0m: \u001b[1;36m0.9805\u001b[0m,                                                                                           │\n",
       "│         \u001b[32m'loss'\u001b[0m: \u001b[1;36m1.48078\u001b[0m                                                                                         │\n",
       "│     \u001b[1m}\u001b[0m,                                                                                                          │\n",
       "│     \u001b[32m'comm_cost'\u001b[0m: \u001b[1;36m1599080\u001b[0m                                                                                        │\n",
       "│ \u001b[1m}\u001b[0m                                                                                                               │\n",
       "╰─────────────────────────────────────────────────────────────────────────────────────────────────────────────────╯\n",
       "\u001b[31mFL Rounds\u001b[0m \u001b[38;2;249;38;114m━━━━━━━━━━\u001b[0m\u001b[38;5;237m╺\u001b[0m\u001b[38;5;237m━━━━━━━━━━━━━━━━━━━━━━━━━━━━━\u001b[0m \u001b[35m 25%\u001b[0m \u001b[36m0:02:04\u001b[0m\n",
       "\u001b[32mLocal Training\u001b[0m \u001b[38;2;114;156;31m━━━━━━━━━━━━━━━━━━━━━━━━━━━━━━━━━━━━━━━━\u001b[0m \u001b[35m100%\u001b[0m \u001b[36m0:00:00\u001b[0m"
      ]
     },
     "metadata": {},
     "output_type": "display_data"
    },
    {
     "data": {
      "text/html": [
       "<pre style=\"white-space:pre;overflow-x:auto;line-height:normal;font-family:Menlo,'DejaVu Sans Mono',consolas,'Courier New',monospace\">  MEMORY USAGE: <span style=\"color: #008080; text-decoration-color: #008080; font-weight: bold\">3.15</span> %\n",
       "<span style=\"color: #800000; text-decoration-color: #800000\">FL Rounds</span> <span style=\"color: #f92672; text-decoration-color: #f92672\">━━━━━━━━━━</span><span style=\"color: #3a3a3a; text-decoration-color: #3a3a3a\">╺━━━━━━━━━━━━━━━━━━━━━━━━━━━━━</span> <span style=\"color: #800080; text-decoration-color: #800080\"> 25%</span> <span style=\"color: #008080; text-decoration-color: #008080\">0:02:04</span>\n",
       "<span style=\"color: #008000; text-decoration-color: #008000\">Local Training</span> <span style=\"color: #729c1f; text-decoration-color: #729c1f\">━━━━━━━━━━━━━━━━━━━━━━━━━━━━━━━━━━━━━━━━</span> <span style=\"color: #800080; text-decoration-color: #800080\">100%</span> <span style=\"color: #008080; text-decoration-color: #008080\">0:00:00</span></pre>\n"
      ],
      "text/plain": [
       "\r\u001b[2K\u001b[1A\u001b[2K  MEMORY USAGE: \u001b[1;36m3.15\u001b[0m %\n",
       "\u001b[31mFL Rounds\u001b[0m \u001b[38;2;249;38;114m━━━━━━━━━━\u001b[0m\u001b[38;5;237m╺\u001b[0m\u001b[38;5;237m━━━━━━━━━━━━━━━━━━━━━━━━━━━━━\u001b[0m \u001b[35m 25%\u001b[0m \u001b[36m0:02:04\u001b[0m\n",
       "\u001b[32mLocal Training\u001b[0m \u001b[38;2;114;156;31m━━━━━━━━━━━━━━━━━━━━━━━━━━━━━━━━━━━━━━━━\u001b[0m \u001b[35m100%\u001b[0m \u001b[36m0:00:00\u001b[0m"
      ]
     },
     "metadata": {},
     "output_type": "display_data"
    },
    {
     "data": {
      "text/html": [
       "<pre style=\"white-space:pre;overflow-x:auto;line-height:normal;font-family:Menlo,'DejaVu Sans Mono',consolas,'Courier New',monospace\">╭─────────────────────────────────────────────────── Round: 26 ───────────────────────────────────────────────────╮\n",
       "│ <span style=\"font-weight: bold\">{</span>                                                                                                               │\n",
       "│     <span style=\"color: #008000; text-decoration-color: #008000\">'global'</span>: <span style=\"font-weight: bold\">{</span>                                                                                                 │\n",
       "│         <span style=\"color: #008000; text-decoration-color: #008000\">'accuracy'</span>: <span style=\"color: #008080; text-decoration-color: #008080; font-weight: bold\">0.9815</span>,                                                                                     │\n",
       "│         <span style=\"color: #008000; text-decoration-color: #008000\">'precision'</span>: <span style=\"color: #008080; text-decoration-color: #008080; font-weight: bold\">0.9815</span>,                                                                                    │\n",
       "│         <span style=\"color: #008000; text-decoration-color: #008000\">'recall'</span>: <span style=\"color: #008080; text-decoration-color: #008080; font-weight: bold\">0.9815</span>,                                                                                       │\n",
       "│         <span style=\"color: #008000; text-decoration-color: #008000\">'f1'</span>: <span style=\"color: #008080; text-decoration-color: #008080; font-weight: bold\">0.9815</span>,                                                                                           │\n",
       "│         <span style=\"color: #008000; text-decoration-color: #008000\">'loss'</span>: <span style=\"color: #008080; text-decoration-color: #008080; font-weight: bold\">1.48022</span>                                                                                         │\n",
       "│     <span style=\"font-weight: bold\">}</span>,                                                                                                          │\n",
       "│     <span style=\"color: #008000; text-decoration-color: #008000\">'comm_cost'</span>: <span style=\"color: #008080; text-decoration-color: #008080; font-weight: bold\">1599080</span>                                                                                        │\n",
       "│ <span style=\"font-weight: bold\">}</span>                                                                                                               │\n",
       "╰─────────────────────────────────────────────────────────────────────────────────────────────────────────────────╯\n",
       "<span style=\"color: #800000; text-decoration-color: #800000\">FL Rounds</span> <span style=\"color: #f92672; text-decoration-color: #f92672\">━━━━━━━━━━</span><span style=\"color: #3a3a3a; text-decoration-color: #3a3a3a\">╺━━━━━━━━━━━━━━━━━━━━━━━━━━━━━</span> <span style=\"color: #800080; text-decoration-color: #800080\"> 26%</span> <span style=\"color: #008080; text-decoration-color: #008080\">0:02:02</span>\n",
       "<span style=\"color: #008000; text-decoration-color: #008000\">Local Training</span> <span style=\"color: #729c1f; text-decoration-color: #729c1f\">━━━━━━━━━━━━━━━━━━━━━━━━━━━━━━━━━━━━━━━━</span> <span style=\"color: #800080; text-decoration-color: #800080\">100%</span> <span style=\"color: #008080; text-decoration-color: #008080\">0:00:00</span></pre>\n"
      ],
      "text/plain": [
       "\r\u001b[2K\u001b[1A\u001b[2K╭─────────────────────────────────────────────────── Round: 26 ───────────────────────────────────────────────────╮\n",
       "│ \u001b[1m{\u001b[0m                                                                                                               │\n",
       "│     \u001b[32m'global'\u001b[0m: \u001b[1m{\u001b[0m                                                                                                 │\n",
       "│         \u001b[32m'accuracy'\u001b[0m: \u001b[1;36m0.9815\u001b[0m,                                                                                     │\n",
       "│         \u001b[32m'precision'\u001b[0m: \u001b[1;36m0.9815\u001b[0m,                                                                                    │\n",
       "│         \u001b[32m'recall'\u001b[0m: \u001b[1;36m0.9815\u001b[0m,                                                                                       │\n",
       "│         \u001b[32m'f1'\u001b[0m: \u001b[1;36m0.9815\u001b[0m,                                                                                           │\n",
       "│         \u001b[32m'loss'\u001b[0m: \u001b[1;36m1.48022\u001b[0m                                                                                         │\n",
       "│     \u001b[1m}\u001b[0m,                                                                                                          │\n",
       "│     \u001b[32m'comm_cost'\u001b[0m: \u001b[1;36m1599080\u001b[0m                                                                                        │\n",
       "│ \u001b[1m}\u001b[0m                                                                                                               │\n",
       "╰─────────────────────────────────────────────────────────────────────────────────────────────────────────────────╯\n",
       "\u001b[31mFL Rounds\u001b[0m \u001b[38;2;249;38;114m━━━━━━━━━━\u001b[0m\u001b[38;5;237m╺\u001b[0m\u001b[38;5;237m━━━━━━━━━━━━━━━━━━━━━━━━━━━━━\u001b[0m \u001b[35m 26%\u001b[0m \u001b[36m0:02:02\u001b[0m\n",
       "\u001b[32mLocal Training\u001b[0m \u001b[38;2;114;156;31m━━━━━━━━━━━━━━━━━━━━━━━━━━━━━━━━━━━━━━━━\u001b[0m \u001b[35m100%\u001b[0m \u001b[36m0:00:00\u001b[0m"
      ]
     },
     "metadata": {},
     "output_type": "display_data"
    },
    {
     "data": {
      "text/html": [
       "<pre style=\"white-space:pre;overflow-x:auto;line-height:normal;font-family:Menlo,'DejaVu Sans Mono',consolas,'Courier New',monospace\">  MEMORY USAGE: <span style=\"color: #008080; text-decoration-color: #008080; font-weight: bold\">3.15</span> %\n",
       "<span style=\"color: #800000; text-decoration-color: #800000\">FL Rounds</span> <span style=\"color: #f92672; text-decoration-color: #f92672\">━━━━━━━━━━</span><span style=\"color: #3a3a3a; text-decoration-color: #3a3a3a\">╺━━━━━━━━━━━━━━━━━━━━━━━━━━━━━</span> <span style=\"color: #800080; text-decoration-color: #800080\"> 26%</span> <span style=\"color: #008080; text-decoration-color: #008080\">0:02:02</span>\n",
       "<span style=\"color: #008000; text-decoration-color: #008000\">Local Training</span> <span style=\"color: #729c1f; text-decoration-color: #729c1f\">━━━━━━━━━━━━━━━━━━━━━━━━━━━━━━━━━━━━━━━━</span> <span style=\"color: #800080; text-decoration-color: #800080\">100%</span> <span style=\"color: #008080; text-decoration-color: #008080\">0:00:00</span></pre>\n"
      ],
      "text/plain": [
       "\r\u001b[2K\u001b[1A\u001b[2K  MEMORY USAGE: \u001b[1;36m3.15\u001b[0m %\n",
       "\u001b[31mFL Rounds\u001b[0m \u001b[38;2;249;38;114m━━━━━━━━━━\u001b[0m\u001b[38;5;237m╺\u001b[0m\u001b[38;5;237m━━━━━━━━━━━━━━━━━━━━━━━━━━━━━\u001b[0m \u001b[35m 26%\u001b[0m \u001b[36m0:02:02\u001b[0m\n",
       "\u001b[32mLocal Training\u001b[0m \u001b[38;2;114;156;31m━━━━━━━━━━━━━━━━━━━━━━━━━━━━━━━━━━━━━━━━\u001b[0m \u001b[35m100%\u001b[0m \u001b[36m0:00:00\u001b[0m"
      ]
     },
     "metadata": {},
     "output_type": "display_data"
    },
    {
     "data": {
      "text/html": [
       "<pre style=\"white-space:pre;overflow-x:auto;line-height:normal;font-family:Menlo,'DejaVu Sans Mono',consolas,'Courier New',monospace\">╭─────────────────────────────────────────────────── Round: 27 ───────────────────────────────────────────────────╮\n",
       "│ <span style=\"font-weight: bold\">{</span>                                                                                                               │\n",
       "│     <span style=\"color: #008000; text-decoration-color: #008000\">'global'</span>: <span style=\"font-weight: bold\">{</span>                                                                                                 │\n",
       "│         <span style=\"color: #008000; text-decoration-color: #008000\">'accuracy'</span>: <span style=\"color: #008080; text-decoration-color: #008080; font-weight: bold\">0.9816</span>,                                                                                     │\n",
       "│         <span style=\"color: #008000; text-decoration-color: #008000\">'precision'</span>: <span style=\"color: #008080; text-decoration-color: #008080; font-weight: bold\">0.9816</span>,                                                                                    │\n",
       "│         <span style=\"color: #008000; text-decoration-color: #008000\">'recall'</span>: <span style=\"color: #008080; text-decoration-color: #008080; font-weight: bold\">0.9816</span>,                                                                                       │\n",
       "│         <span style=\"color: #008000; text-decoration-color: #008000\">'f1'</span>: <span style=\"color: #008080; text-decoration-color: #008080; font-weight: bold\">0.9816</span>,                                                                                           │\n",
       "│         <span style=\"color: #008000; text-decoration-color: #008000\">'loss'</span>: <span style=\"color: #008080; text-decoration-color: #008080; font-weight: bold\">1.47977</span>                                                                                         │\n",
       "│     <span style=\"font-weight: bold\">}</span>,                                                                                                          │\n",
       "│     <span style=\"color: #008000; text-decoration-color: #008000\">'comm_cost'</span>: <span style=\"color: #008080; text-decoration-color: #008080; font-weight: bold\">1599092</span>                                                                                        │\n",
       "│ <span style=\"font-weight: bold\">}</span>                                                                                                               │\n",
       "╰─────────────────────────────────────────────────────────────────────────────────────────────────────────────────╯\n",
       "<span style=\"color: #800000; text-decoration-color: #800000\">FL Rounds</span> <span style=\"color: #f92672; text-decoration-color: #f92672\">━━━━━━━━━━╸</span><span style=\"color: #3a3a3a; text-decoration-color: #3a3a3a\">━━━━━━━━━━━━━━━━━━━━━━━━━━━━━</span> <span style=\"color: #800080; text-decoration-color: #800080\"> 27%</span> <span style=\"color: #008080; text-decoration-color: #008080\">0:02:02</span>\n",
       "<span style=\"color: #008000; text-decoration-color: #008000\">Local Training</span> <span style=\"color: #729c1f; text-decoration-color: #729c1f\">━━━━━━━━━━━━━━━━━━━━━━━━━━━━━━━━━━━━━━━━</span> <span style=\"color: #800080; text-decoration-color: #800080\">100%</span> <span style=\"color: #008080; text-decoration-color: #008080\">0:00:00</span></pre>\n"
      ],
      "text/plain": [
       "\r\u001b[2K\u001b[1A\u001b[2K╭─────────────────────────────────────────────────── Round: 27 ───────────────────────────────────────────────────╮\n",
       "│ \u001b[1m{\u001b[0m                                                                                                               │\n",
       "│     \u001b[32m'global'\u001b[0m: \u001b[1m{\u001b[0m                                                                                                 │\n",
       "│         \u001b[32m'accuracy'\u001b[0m: \u001b[1;36m0.9816\u001b[0m,                                                                                     │\n",
       "│         \u001b[32m'precision'\u001b[0m: \u001b[1;36m0.9816\u001b[0m,                                                                                    │\n",
       "│         \u001b[32m'recall'\u001b[0m: \u001b[1;36m0.9816\u001b[0m,                                                                                       │\n",
       "│         \u001b[32m'f1'\u001b[0m: \u001b[1;36m0.9816\u001b[0m,                                                                                           │\n",
       "│         \u001b[32m'loss'\u001b[0m: \u001b[1;36m1.47977\u001b[0m                                                                                         │\n",
       "│     \u001b[1m}\u001b[0m,                                                                                                          │\n",
       "│     \u001b[32m'comm_cost'\u001b[0m: \u001b[1;36m1599092\u001b[0m                                                                                        │\n",
       "│ \u001b[1m}\u001b[0m                                                                                                               │\n",
       "╰─────────────────────────────────────────────────────────────────────────────────────────────────────────────────╯\n",
       "\u001b[31mFL Rounds\u001b[0m \u001b[38;2;249;38;114m━━━━━━━━━━\u001b[0m\u001b[38;2;249;38;114m╸\u001b[0m\u001b[38;5;237m━━━━━━━━━━━━━━━━━━━━━━━━━━━━━\u001b[0m \u001b[35m 27%\u001b[0m \u001b[36m0:02:02\u001b[0m\n",
       "\u001b[32mLocal Training\u001b[0m \u001b[38;2;114;156;31m━━━━━━━━━━━━━━━━━━━━━━━━━━━━━━━━━━━━━━━━\u001b[0m \u001b[35m100%\u001b[0m \u001b[36m0:00:00\u001b[0m"
      ]
     },
     "metadata": {},
     "output_type": "display_data"
    },
    {
     "data": {
      "text/html": [
       "<pre style=\"white-space:pre;overflow-x:auto;line-height:normal;font-family:Menlo,'DejaVu Sans Mono',consolas,'Courier New',monospace\">  MEMORY USAGE: <span style=\"color: #008080; text-decoration-color: #008080; font-weight: bold\">3.15</span> %\n",
       "<span style=\"color: #800000; text-decoration-color: #800000\">FL Rounds</span> <span style=\"color: #f92672; text-decoration-color: #f92672\">━━━━━━━━━━╸</span><span style=\"color: #3a3a3a; text-decoration-color: #3a3a3a\">━━━━━━━━━━━━━━━━━━━━━━━━━━━━━</span> <span style=\"color: #800080; text-decoration-color: #800080\"> 27%</span> <span style=\"color: #008080; text-decoration-color: #008080\">0:02:02</span>\n",
       "<span style=\"color: #008000; text-decoration-color: #008000\">Local Training</span> <span style=\"color: #729c1f; text-decoration-color: #729c1f\">━━━━━━━━━━━━━━━━━━━━━━━━━━━━━━━━━━━━━━━━</span> <span style=\"color: #800080; text-decoration-color: #800080\">100%</span> <span style=\"color: #008080; text-decoration-color: #008080\">0:00:00</span></pre>\n"
      ],
      "text/plain": [
       "\r\u001b[2K\u001b[1A\u001b[2K  MEMORY USAGE: \u001b[1;36m3.15\u001b[0m %\n",
       "\u001b[31mFL Rounds\u001b[0m \u001b[38;2;249;38;114m━━━━━━━━━━\u001b[0m\u001b[38;2;249;38;114m╸\u001b[0m\u001b[38;5;237m━━━━━━━━━━━━━━━━━━━━━━━━━━━━━\u001b[0m \u001b[35m 27%\u001b[0m \u001b[36m0:02:02\u001b[0m\n",
       "\u001b[32mLocal Training\u001b[0m \u001b[38;2;114;156;31m━━━━━━━━━━━━━━━━━━━━━━━━━━━━━━━━━━━━━━━━\u001b[0m \u001b[35m100%\u001b[0m \u001b[36m0:00:00\u001b[0m"
      ]
     },
     "metadata": {},
     "output_type": "display_data"
    },
    {
     "data": {
      "text/html": [
       "<pre style=\"white-space:pre;overflow-x:auto;line-height:normal;font-family:Menlo,'DejaVu Sans Mono',consolas,'Courier New',monospace\">\n",
       "</pre>\n"
      ],
      "text/plain": [
       "\n",
       "\u001b[?25h"
      ]
     },
     "metadata": {},
     "output_type": "display_data"
    },
    {
     "ename": "KeyboardInterrupt",
     "evalue": "",
     "output_type": "error",
     "traceback": [
      "\u001b[0;31m---------------------------------------------------------------------------\u001b[0m",
      "\u001b[0;31mKeyboardInterrupt\u001b[0m                         Traceback (most recent call last)",
      "Cell \u001b[0;32mIn[3], line 1\u001b[0m\n\u001b[0;32m----> 1\u001b[0m \u001b[43mfl_algorithm\u001b[49m\u001b[38;5;241;43m.\u001b[39;49m\u001b[43mrun\u001b[49m\u001b[43m(\u001b[49m\u001b[43mn_rounds\u001b[49m\u001b[38;5;241;43m=\u001b[39;49m\u001b[38;5;241;43m100\u001b[39;49m\u001b[43m,\u001b[49m\u001b[43m \u001b[49m\u001b[43meligible_perc\u001b[49m\u001b[38;5;241;43m=\u001b[39;49m\u001b[38;5;241;43m0.1\u001b[39;49m\u001b[43m)\u001b[49m\n",
      "File \u001b[0;32m~/Documents/GitHub/fl-bench/fluke/../fluke/algorithms/__init__.py:132\u001b[0m, in \u001b[0;36mCentralizedFL.run\u001b[0;34m(self, n_rounds, eligible_perc)\u001b[0m\n\u001b[1;32m    131\u001b[0m \u001b[38;5;28;01mdef\u001b[39;00m \u001b[38;5;21mrun\u001b[39m(\u001b[38;5;28mself\u001b[39m, n_rounds: \u001b[38;5;28mint\u001b[39m, eligible_perc: \u001b[38;5;28mfloat\u001b[39m):\n\u001b[0;32m--> 132\u001b[0m     \u001b[38;5;28;43mself\u001b[39;49m\u001b[38;5;241;43m.\u001b[39;49m\u001b[43mserver\u001b[49m\u001b[38;5;241;43m.\u001b[39;49m\u001b[43mfit\u001b[49m\u001b[43m(\u001b[49m\u001b[43mn_rounds\u001b[49m\u001b[38;5;241;43m=\u001b[39;49m\u001b[43mn_rounds\u001b[49m\u001b[43m,\u001b[49m\u001b[43m \u001b[49m\u001b[43meligible_perc\u001b[49m\u001b[38;5;241;43m=\u001b[39;49m\u001b[43meligible_perc\u001b[49m\u001b[43m)\u001b[49m\n",
      "File \u001b[0;32m~/Documents/GitHub/fl-bench/fluke/../fluke/server.py:91\u001b[0m, in \u001b[0;36mServer.fit\u001b[0;34m(self, n_rounds, eligible_perc)\u001b[0m\n\u001b[1;32m     89\u001b[0m client_evals \u001b[38;5;241m=\u001b[39m []\n\u001b[1;32m     90\u001b[0m \u001b[38;5;28;01mfor\u001b[39;00m c, client \u001b[38;5;129;01min\u001b[39;00m \u001b[38;5;28menumerate\u001b[39m(eligible):\n\u001b[0;32m---> 91\u001b[0m     \u001b[38;5;28;43mself\u001b[39;49m\u001b[38;5;241;43m.\u001b[39;49m\u001b[43mchannel\u001b[49m\u001b[38;5;241;43m.\u001b[39;49m\u001b[43msend\u001b[49m\u001b[43m(\u001b[49m\u001b[43mMessage\u001b[49m\u001b[43m(\u001b[49m\u001b[43m(\u001b[49m\u001b[43mclient\u001b[49m\u001b[38;5;241;43m.\u001b[39;49m\u001b[43mlocal_train\u001b[49m\u001b[43m,\u001b[49m\u001b[43m \u001b[49m\u001b[43m{\u001b[49m\u001b[43m}\u001b[49m\u001b[43m)\u001b[49m\u001b[43m,\u001b[49m\u001b[43m \u001b[49m\u001b[38;5;124;43m\"\u001b[39;49m\u001b[38;5;124;43m__action__\u001b[39;49m\u001b[38;5;124;43m\"\u001b[39;49m\u001b[43m,\u001b[49m\u001b[43m \u001b[49m\u001b[38;5;28;43mself\u001b[39;49m\u001b[43m)\u001b[49m\u001b[43m,\u001b[49m\u001b[43m \u001b[49m\u001b[43mclient\u001b[49m\u001b[43m)\u001b[49m\n\u001b[1;32m     92\u001b[0m     client_eval \u001b[38;5;241m=\u001b[39m client\u001b[38;5;241m.\u001b[39mvalidate()\n\u001b[1;32m     93\u001b[0m     \u001b[38;5;28;01mif\u001b[39;00m client_eval:\n",
      "File \u001b[0;32m~/Documents/GitHub/fl-bench/fluke/../fluke/channel.py:60\u001b[0m, in \u001b[0;36mChannel.send\u001b[0;34m(self, message, mbox)\u001b[0m\n\u001b[1;32m     58\u001b[0m \u001b[38;5;28;01mif\u001b[39;00m message\u001b[38;5;241m.\u001b[39mmsg_type \u001b[38;5;241m==\u001b[39m \u001b[38;5;124m\"\u001b[39m\u001b[38;5;124m__action__\u001b[39m\u001b[38;5;124m\"\u001b[39m:\n\u001b[1;32m     59\u001b[0m     method, kwargs \u001b[38;5;241m=\u001b[39m message\u001b[38;5;241m.\u001b[39mpayload\n\u001b[0;32m---> 60\u001b[0m     \u001b[38;5;28;43mself\u001b[39;49m\u001b[38;5;241;43m.\u001b[39;49m\u001b[43m_send_action\u001b[49m\u001b[43m(\u001b[49m\u001b[43mmethod\u001b[49m\u001b[43m,\u001b[49m\u001b[43m \u001b[49m\u001b[43mkwargs\u001b[49m\u001b[43m,\u001b[49m\u001b[43m \u001b[49m\u001b[43mmbox\u001b[49m\u001b[43m)\u001b[49m\n\u001b[1;32m     61\u001b[0m \u001b[38;5;28;01melse\u001b[39;00m:  \n\u001b[1;32m     62\u001b[0m     \u001b[38;5;28mself\u001b[39m\u001b[38;5;241m.\u001b[39m_buffer[mbox]\u001b[38;5;241m.\u001b[39mappend(message)\n",
      "File \u001b[0;32m~/Documents/GitHub/fl-bench/fluke/../fluke/channel.py:26\u001b[0m, in \u001b[0;36mChannel._send_action\u001b[0;34m(self, method, kwargs, mbox)\u001b[0m\n\u001b[1;32m     24\u001b[0m \u001b[38;5;28;01mdef\u001b[39;00m \u001b[38;5;21m_send_action\u001b[39m(\u001b[38;5;28mself\u001b[39m, method, kwargs, mbox):\n\u001b[1;32m     25\u001b[0m     \u001b[38;5;28;01mif\u001b[39;00m \u001b[38;5;28mcallable\u001b[39m(method):\n\u001b[0;32m---> 26\u001b[0m         \u001b[43mmethod\u001b[49m\u001b[43m(\u001b[49m\u001b[38;5;241;43m*\u001b[39;49m\u001b[38;5;241;43m*\u001b[39;49m\u001b[43mkwargs\u001b[49m\u001b[43m)\u001b[49m\n\u001b[1;32m     27\u001b[0m     \u001b[38;5;28;01melse\u001b[39;00m:\n\u001b[1;32m     28\u001b[0m         \u001b[38;5;28mgetattr\u001b[39m(mbox, method)(\u001b[38;5;241m*\u001b[39m\u001b[38;5;241m*\u001b[39mkwargs)\n",
      "File \u001b[0;32m~/Documents/GitHub/fl-bench/fluke/../fluke/client.py:120\u001b[0m, in \u001b[0;36mClient.local_train\u001b[0;34m(self, override_local_epochs)\u001b[0m\n\u001b[1;32m    118\u001b[0m X, y \u001b[38;5;241m=\u001b[39m X\u001b[38;5;241m.\u001b[39mto(\u001b[38;5;28mself\u001b[39m\u001b[38;5;241m.\u001b[39mdevice), y\u001b[38;5;241m.\u001b[39mto(\u001b[38;5;28mself\u001b[39m\u001b[38;5;241m.\u001b[39mdevice)\n\u001b[1;32m    119\u001b[0m \u001b[38;5;28mself\u001b[39m\u001b[38;5;241m.\u001b[39moptimizer\u001b[38;5;241m.\u001b[39mzero_grad()\n\u001b[0;32m--> 120\u001b[0m y_hat \u001b[38;5;241m=\u001b[39m \u001b[38;5;28;43mself\u001b[39;49m\u001b[38;5;241;43m.\u001b[39;49m\u001b[43mmodel\u001b[49m\u001b[43m(\u001b[49m\u001b[43mX\u001b[49m\u001b[43m)\u001b[49m\n\u001b[1;32m    121\u001b[0m loss \u001b[38;5;241m=\u001b[39m \u001b[38;5;28mself\u001b[39m\u001b[38;5;241m.\u001b[39mhyper_params\u001b[38;5;241m.\u001b[39mloss_fn(y_hat, y)\n\u001b[1;32m    122\u001b[0m loss\u001b[38;5;241m.\u001b[39mbackward()\n",
      "File \u001b[0;32m~/Documents/GitHub/fl-bench/.venv/lib/python3.9/site-packages/torch/nn/modules/module.py:1194\u001b[0m, in \u001b[0;36mModule._call_impl\u001b[0;34m(self, *input, **kwargs)\u001b[0m\n\u001b[1;32m   1190\u001b[0m \u001b[38;5;66;03m# If we don't have any hooks, we want to skip the rest of the logic in\u001b[39;00m\n\u001b[1;32m   1191\u001b[0m \u001b[38;5;66;03m# this function, and just call forward.\u001b[39;00m\n\u001b[1;32m   1192\u001b[0m \u001b[38;5;28;01mif\u001b[39;00m \u001b[38;5;129;01mnot\u001b[39;00m (\u001b[38;5;28mself\u001b[39m\u001b[38;5;241m.\u001b[39m_backward_hooks \u001b[38;5;129;01mor\u001b[39;00m \u001b[38;5;28mself\u001b[39m\u001b[38;5;241m.\u001b[39m_forward_hooks \u001b[38;5;129;01mor\u001b[39;00m \u001b[38;5;28mself\u001b[39m\u001b[38;5;241m.\u001b[39m_forward_pre_hooks \u001b[38;5;129;01mor\u001b[39;00m _global_backward_hooks\n\u001b[1;32m   1193\u001b[0m         \u001b[38;5;129;01mor\u001b[39;00m _global_forward_hooks \u001b[38;5;129;01mor\u001b[39;00m _global_forward_pre_hooks):\n\u001b[0;32m-> 1194\u001b[0m     \u001b[38;5;28;01mreturn\u001b[39;00m \u001b[43mforward_call\u001b[49m\u001b[43m(\u001b[49m\u001b[38;5;241;43m*\u001b[39;49m\u001b[38;5;28;43minput\u001b[39;49m\u001b[43m,\u001b[49m\u001b[43m \u001b[49m\u001b[38;5;241;43m*\u001b[39;49m\u001b[38;5;241;43m*\u001b[39;49m\u001b[43mkwargs\u001b[49m\u001b[43m)\u001b[49m\n\u001b[1;32m   1195\u001b[0m \u001b[38;5;66;03m# Do not call functions when jit is used\u001b[39;00m\n\u001b[1;32m   1196\u001b[0m full_backward_hooks, non_full_backward_hooks \u001b[38;5;241m=\u001b[39m [], []\n",
      "File \u001b[0;32m~/Documents/GitHub/fl-bench/fluke/test_net.py:20\u001b[0m, in \u001b[0;36mMNIST_2NN_TEST.forward\u001b[0;34m(self, x)\u001b[0m\n\u001b[1;32m     18\u001b[0m \u001b[38;5;28;01mdef\u001b[39;00m \u001b[38;5;21mforward\u001b[39m(\u001b[38;5;28mself\u001b[39m, x: torch\u001b[38;5;241m.\u001b[39mTensor) \u001b[38;5;241m-\u001b[39m\u001b[38;5;241m>\u001b[39m torch\u001b[38;5;241m.\u001b[39mTensor:\n\u001b[1;32m     19\u001b[0m     x \u001b[38;5;241m=\u001b[39m x\u001b[38;5;241m.\u001b[39mview(\u001b[38;5;241m-\u001b[39m\u001b[38;5;241m1\u001b[39m, x\u001b[38;5;241m.\u001b[39mshape[\u001b[38;5;241m1\u001b[39m]\u001b[38;5;241m*\u001b[39mx\u001b[38;5;241m.\u001b[39mshape[\u001b[38;5;241m2\u001b[39m])\n\u001b[0;32m---> 20\u001b[0m     x \u001b[38;5;241m=\u001b[39m F\u001b[38;5;241m.\u001b[39mrelu(\u001b[38;5;28;43mself\u001b[39;49m\u001b[38;5;241;43m.\u001b[39;49m\u001b[43mfc1\u001b[49m\u001b[43m(\u001b[49m\u001b[43mx\u001b[49m\u001b[43m)\u001b[49m)\n\u001b[1;32m     21\u001b[0m     x \u001b[38;5;241m=\u001b[39m F\u001b[38;5;241m.\u001b[39mrelu(\u001b[38;5;28mself\u001b[39m\u001b[38;5;241m.\u001b[39mfc2(x))\n\u001b[1;32m     22\u001b[0m     \u001b[38;5;28;01mif\u001b[39;00m \u001b[38;5;28mself\u001b[39m\u001b[38;5;241m.\u001b[39muse_softmax:\n",
      "File \u001b[0;32m~/Documents/GitHub/fl-bench/.venv/lib/python3.9/site-packages/torch/nn/modules/module.py:1194\u001b[0m, in \u001b[0;36mModule._call_impl\u001b[0;34m(self, *input, **kwargs)\u001b[0m\n\u001b[1;32m   1190\u001b[0m \u001b[38;5;66;03m# If we don't have any hooks, we want to skip the rest of the logic in\u001b[39;00m\n\u001b[1;32m   1191\u001b[0m \u001b[38;5;66;03m# this function, and just call forward.\u001b[39;00m\n\u001b[1;32m   1192\u001b[0m \u001b[38;5;28;01mif\u001b[39;00m \u001b[38;5;129;01mnot\u001b[39;00m (\u001b[38;5;28mself\u001b[39m\u001b[38;5;241m.\u001b[39m_backward_hooks \u001b[38;5;129;01mor\u001b[39;00m \u001b[38;5;28mself\u001b[39m\u001b[38;5;241m.\u001b[39m_forward_hooks \u001b[38;5;129;01mor\u001b[39;00m \u001b[38;5;28mself\u001b[39m\u001b[38;5;241m.\u001b[39m_forward_pre_hooks \u001b[38;5;129;01mor\u001b[39;00m _global_backward_hooks\n\u001b[1;32m   1193\u001b[0m         \u001b[38;5;129;01mor\u001b[39;00m _global_forward_hooks \u001b[38;5;129;01mor\u001b[39;00m _global_forward_pre_hooks):\n\u001b[0;32m-> 1194\u001b[0m     \u001b[38;5;28;01mreturn\u001b[39;00m \u001b[43mforward_call\u001b[49m\u001b[43m(\u001b[49m\u001b[38;5;241;43m*\u001b[39;49m\u001b[38;5;28;43minput\u001b[39;49m\u001b[43m,\u001b[49m\u001b[43m \u001b[49m\u001b[38;5;241;43m*\u001b[39;49m\u001b[38;5;241;43m*\u001b[39;49m\u001b[43mkwargs\u001b[49m\u001b[43m)\u001b[49m\n\u001b[1;32m   1195\u001b[0m \u001b[38;5;66;03m# Do not call functions when jit is used\u001b[39;00m\n\u001b[1;32m   1196\u001b[0m full_backward_hooks, non_full_backward_hooks \u001b[38;5;241m=\u001b[39m [], []\n",
      "File \u001b[0;32m~/Documents/GitHub/fl-bench/.venv/lib/python3.9/site-packages/torch/nn/modules/linear.py:114\u001b[0m, in \u001b[0;36mLinear.forward\u001b[0;34m(self, input)\u001b[0m\n\u001b[1;32m    113\u001b[0m \u001b[38;5;28;01mdef\u001b[39;00m \u001b[38;5;21mforward\u001b[39m(\u001b[38;5;28mself\u001b[39m, \u001b[38;5;28minput\u001b[39m: Tensor) \u001b[38;5;241m-\u001b[39m\u001b[38;5;241m>\u001b[39m Tensor:\n\u001b[0;32m--> 114\u001b[0m     \u001b[38;5;28;01mreturn\u001b[39;00m \u001b[43mF\u001b[49m\u001b[38;5;241;43m.\u001b[39;49m\u001b[43mlinear\u001b[49m\u001b[43m(\u001b[49m\u001b[38;5;28;43minput\u001b[39;49m\u001b[43m,\u001b[49m\u001b[43m \u001b[49m\u001b[38;5;28;43mself\u001b[39;49m\u001b[38;5;241;43m.\u001b[39;49m\u001b[43mweight\u001b[49m\u001b[43m,\u001b[49m\u001b[43m \u001b[49m\u001b[38;5;28;43mself\u001b[39;49m\u001b[38;5;241;43m.\u001b[39;49m\u001b[43mbias\u001b[49m\u001b[43m)\u001b[49m\n",
      "\u001b[0;31mKeyboardInterrupt\u001b[0m: "
     ]
    }
   ],
   "source": [
    "fl_algorithm.run(n_rounds=100, eligible_perc=0.1)"
   ]
  },
  {
   "cell_type": "code",
   "execution_count": null,
   "metadata": {},
   "outputs": [],
   "source": []
  }
 ],
 "metadata": {
  "kernelspec": {
   "display_name": ".venv",
   "language": "python",
   "name": "python3"
  },
  "language_info": {
   "codemirror_mode": {
    "name": "ipython",
    "version": 3
   },
   "file_extension": ".py",
   "mimetype": "text/x-python",
   "name": "python",
   "nbconvert_exporter": "python",
   "pygments_lexer": "ipython3",
   "version": "3.9.12"
  }
 },
 "nbformat": 4,
 "nbformat_minor": 2
}
